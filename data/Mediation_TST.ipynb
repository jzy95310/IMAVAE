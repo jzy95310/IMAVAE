{
 "cells": [
  {
   "cell_type": "markdown",
   "id": "59e6269e-6952-4ff1-a2cd-10629beb2872",
   "metadata": {},
   "source": [
    "## Prepare TST Data"
   ]
  },
  {
   "cell_type": "code",
   "execution_count": 1,
   "id": "7f5a7996-7708-42bb-960d-9e1065eaed38",
   "metadata": {},
   "outputs": [],
   "source": [
    "TST_PATH = \"./tst1s.mat\"\n",
    "LPNE_PATH = \"./lpne-data-analysis/\"\n",
    "N_COMPONENTS = 30\n",
    "import os,sys\n",
    "import numpy as np\n",
    "import matplotlib.pyplot as plt\n",
    "import pickle\n",
    "\n",
    "sys.path.append(LPNE_PATH)\n",
    "\n",
    "import data_tools\n",
    "\n",
    "np.random.seed(42)"
   ]
  },
  {
   "cell_type": "code",
   "execution_count": 2,
   "id": "2fae0048-6d6a-4382-8e58-f40521fc25af",
   "metadata": {},
   "outputs": [
    {
     "name": "stdout",
     "output_type": "stream",
     "text": [
      "version saveFeatures_1.6 used to calcuate power features\n",
      "Using data that was preprocessed with unknown preprocessing version. Please make sure all datasets in the same project were preprocessed the same way.\n"
     ]
    }
   ],
   "source": [
    "X_psd,labels = data_tools.load_data(TST_PATH,feature_list = [\"power\"])"
   ]
  },
  {
   "cell_type": "code",
   "execution_count": 3,
   "id": "f402b3c2-5a27-4e7f-bcf4-e0dec21e421b",
   "metadata": {},
   "outputs": [
    {
     "data": {
      "text/plain": [
       "['Acb_Core',\n",
       " 'Acb_Sh',\n",
       " 'BLA',\n",
       " 'IL_Cx',\n",
       " 'Md_Thal',\n",
       " 'PrL_Cx',\n",
       " 'VTA',\n",
       " 'lDHip',\n",
       " 'lSNC',\n",
       " 'mDHip',\n",
       " 'mSNC']"
      ]
     },
     "execution_count": 3,
     "metadata": {},
     "output_type": "execute_result"
    }
   ],
   "source": [
    "labels['area']"
   ]
  },
  {
   "cell_type": "code",
   "execution_count": 4,
   "id": "248fb618-953e-45c4-83cf-1912a2f8b867",
   "metadata": {},
   "outputs": [],
   "source": [
    "y_mouse = np.array(labels['windows']['mouse'])\n",
    "y_expDate = np.array(labels['windows']['expDate'])\n",
    "y_task = np.array(labels['windows']['task'])\n",
    "y_geno = np.array(labels['windows']['genotype'])"
   ]
  },
  {
   "cell_type": "markdown",
   "id": "eabcdb2a-c37d-42a3-98df-8558423140b9",
   "metadata": {},
   "source": [
    "## Generate the causal data\n",
    "\n",
    "Here we limit ourselves to samples from the Open-Field and Tail-Suspension tasks. We consider the placement in open-field, or in tail-suspension as the treatment assignment. All mice are exposed to both conditions. \n",
    "\n",
    "Our aim here is to generate a semi-synthetic dataset for evaluating mediation effect and discovering the true mediation effect. Our data naturally provides our observed variables X, which are the power spectral densities of the LFPs recorded at the 11 regions noted above. These power spectral densities are evaluated from 1-56 Hz.Our data also provides a natural analog to treatment assignment with the placement in the open field \"OF\" task, or into the tail suspension \"TS\" task. The open field task is considered a moderate stress state and the tail suspension is considered a hightened stress state. We also include the genotype of the mouse as a confound. $Clock\\Delta19$ mice are a model of bipolar disorder.\n",
    "\n",
    "$$T \\sim \\{0:\\textit{Open Field},1:\\textit{Tail Suspension}\\}$$\n",
    "$$\\mathcal{y}_{geno} \\sim \\{0: \\textit{Wild Type},1:Clock\\Delta19\\}$$\n",
    "$$X \\in \\mathbb{R}^{11 \\times 56}$$\n",
    "\n",
    "To generate our true underlying mediator, we use the top 30 principal component's activations. We demonstrate below that these principal components do vary with the treatment and therefore a mediator relationship can be found. We then add a unit value bias to samples in the treatment group.\n",
    "\n",
    "$$ s \\sim PCA(X) $$\n",
    "$$ m = s + \\mathbb{1}_{T=1}$$\n",
    "\n",
    "We then define outcomes that are a linear function of the treatment, mediator, random noise, and a confounder variable - the mouse's genotype.\n",
    "\n",
    "$$ y = \\alpha T + \\beta^T m + \\phi \\mathcal{y}_{geno} + \\epsilon_{y} $$"
   ]
  },
  {
   "cell_type": "markdown",
   "id": "ff98323a-3b49-405c-a43f-8f93c04450f4",
   "metadata": {},
   "source": [
    "### Variables\n",
    "\n",
    " - causal_mask: A filter for isolating the samples relevant to our causal experiment. We exclude the homecage data and only use the open field and tail suspension data\n",
    " - X_causal: Power spectral density features for timepoints where the mouse is either in open field or TST\n",
    " - y_mouse_causal: Per sample mouse identifier for samples in OF or TST\n",
    " - y_task_causal: String array indicating per sample whether a mouse is in OF or TST\n",
    " - y_treatment_causal: Our $T$ variable. This is a binary version of y_task_causal where 1 is treatment and 0 is control.\n",
    " - y_geno_causal: Binary array indicating whether a mouse is of the CD19 or wildtype genotype"
   ]
  },
  {
   "cell_type": "code",
   "execution_count": 5,
   "id": "6d6378f4-590c-4500-87f5-4c711cac565d",
   "metadata": {},
   "outputs": [],
   "source": [
    "causal_mask = np.logical_or(y_task==\"OF\",y_task==\"TS\")\n",
    "X_causal = X_psd[causal_mask]\n",
    "y_mouse_causal = y_mouse[causal_mask]\n",
    "y_task_causal = y_task[causal_mask]\n",
    "y_treatment_causal = y_task_causal == \"TS\"\n",
    "y_geno_causal = y_geno[causal_mask]"
   ]
  },
  {
   "cell_type": "markdown",
   "id": "ccccecd5-a3e0-4b7d-b2a9-67e3fc44c5c4",
   "metadata": {},
   "source": [
    "### Generating M\n",
    "\n",
    "Here we generate our ground truth mediator. We fit PCA to all of our data and extract the principal components and add a unit bias to the samples associated with the Tail-Suspension-Test.\n",
    "\n",
    "$$ s \\sim PCA(X) $$\n",
    "$$ m = s + \\mathbb{1}_{T=1}$$\n"
   ]
  },
  {
   "cell_type": "code",
   "execution_count": 6,
   "id": "647acce8-5c7a-4a50-833c-e9825398c9ea",
   "metadata": {},
   "outputs": [],
   "source": [
    "from sklearn.decomposition import PCA\n",
    "\n",
    "model = PCA(n_components=N_COMPONENTS)\n",
    "model.fit(X_causal)\n",
    "s = model.transform(X_causal)"
   ]
  },
  {
   "cell_type": "markdown",
   "id": "2ee92f2b-a880-4e66-8202-c4fedecc3994",
   "metadata": {},
   "source": [
    "### Generating y\n",
    "\n",
    "Here we generate our outcomes using the formula noted above.\n",
    "\n",
    "$$ \\alpha \\sim Uniform(-2,2)$$\n",
    "$$ \\beta \\sim Uniform(-2,2)$$\n",
    "$$ \\phi \\sim Uniform(-2,2)$$\n",
    "$$ \\epsilon \\sim Normal(0,0.1)$$\n",
    "\n",
    "$$ y = \\alpha T + \\beta^T m + \\phi \\mathcal{y}_{geno} + \\epsilon_{y} $$"
   ]
  },
  {
   "cell_type": "code",
   "execution_count": 7,
   "id": "f9f961ab-ee70-4e90-9752-9c9a53d39e98",
   "metadata": {},
   "outputs": [],
   "source": [
    "alpha = np.random.uniform(-2,2,size=1)\n",
    "beta = np.random.uniform(-2,2,size=(N_COMPONENTS,1))\n",
    "phi = np.random.uniform(-2,2,size=1)\n",
    "epsilon = np.random.normal(0,0.1,size=(X_causal.shape[0])).reshape(-1,1)\n",
    "\n",
    "y = alpha*y_treatment_causal.reshape(-1,1) + s @ beta + phi*y_geno_causal.reshape(-1,1) + epsilon"
   ]
  },
  {
   "cell_type": "markdown",
   "id": "6d0a6a3e-278f-48b1-bbeb-3d72af55b438",
   "metadata": {},
   "source": [
    "### Saving the Data"
   ]
  },
  {
   "cell_type": "code",
   "execution_count": 8,
   "id": "76446372-2f54-4954-9ca1-89219b4e5dbc",
   "metadata": {},
   "outputs": [],
   "source": [
    "data_dict = {\n",
    "    \n",
    "    #Features\n",
    "    \"M\": X_causal, \n",
    "    \n",
    "    #Mediator (PCA Scores)\n",
    "    \"Z\": s,\n",
    "    \n",
    "    #Outcomes\n",
    "    \"Y\": y,\n",
    "    \n",
    "    #Treatment\n",
    "    \"T\": y_treatment_causal,\n",
    "    \n",
    "    #Confounder\n",
    "    \"geno\":y_geno_causal,\n",
    "    \n",
    "    #Mouse Identity\n",
    "    \"mouse_id\": y_mouse_causal,\n",
    "    \n",
    "    #Feature labels for each feature in X\n",
    "    \"featureNames\":labels['powerFeatures'],\n",
    "}\n",
    "\n",
    "with open(\"./mediation_tst.pkl\",\"wb\") as f:\n",
    "    pickle.dump(data_dict,f,protocol=4)"
   ]
  }
 ],
 "metadata": {
  "kernelspec": {
   "display_name": "Python 3 (ipykernel)",
   "language": "python",
   "name": "python3"
  },
  "language_info": {
   "codemirror_mode": {
    "name": "ipython",
    "version": 3
   },
   "file_extension": ".py",
   "mimetype": "text/x-python",
   "name": "python",
   "nbconvert_exporter": "python",
   "pygments_lexer": "ipython3",
   "version": "3.8.12"
  }
 },
 "nbformat": 4,
 "nbformat_minor": 5
}

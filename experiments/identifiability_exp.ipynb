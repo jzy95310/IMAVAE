{
 "cells": [
  {
   "cell_type": "code",
   "execution_count": 1,
   "id": "0a7e6044",
   "metadata": {},
   "outputs": [],
   "source": [
    "import sys\n",
    "sys.path.insert(0, '../')\n",
    "import numpy as np\n",
    "import pandas as pd\n",
    "from collections import defaultdict\n",
    "from sklearn.preprocessing import StandardScaler\n",
    "import matplotlib.pyplot as plt\n",
    "from matplotlib import rc, font_manager\n",
    "import torch\n",
    "from torch import nn\n",
    "from models.imavae import IMAVAE\n",
    "from models.metrics import mean_corr_coef as mcc\n",
    "\n",
    "import matplotlib as mpl\n",
    "mpl.rcParams['xtick.labelsize'] = 16\n",
    "mpl.rcParams['ytick.labelsize'] = 16\n",
    "\n",
    "# To make this notebook's output stable across runs\n",
    "seed_id = 2020\n",
    "np.random.seed(seed_id)\n",
    "torch.manual_seed(seed_id)\n",
    "torch.cuda.manual_seed(seed_id)\n",
    "torch.cuda.manual_seed_all(seed_id)\n",
    "torch.backends.cudnn.deterministic = True\n",
    "torch.backends.cudnn.benchmark = False"
   ]
  },
  {
   "cell_type": "markdown",
   "id": "5042a156",
   "metadata": {},
   "source": [
    "## Generate the same synthetic data for case (b) with varying dimensions of Z"
   ]
  },
  {
   "cell_type": "markdown",
   "id": "fe72ad2b",
   "metadata": {},
   "source": [
    "By including observed covariates $\\boldsymbol{w}$, we construct the dataset as follows:\n",
    "\\begin{align*}\n",
    "\\boldsymbol{w} &\\sim \\mathcal{N}(\\boldsymbol{0}, \\sigma_w^2 \\textbf{I}) \\\\\n",
    "t &\\sim \\text{Bernoulli}(\\text{sigmoid}(\\boldsymbol{\\theta}^{\\text{T}} \\boldsymbol{w})) \\\\\n",
    "\\boldsymbol{z}_m &\\sim \\mathcal{N}(0, \\sigma_m^2 \\textbf{I}) + c_1 \\mathbb{1}(t = 1) + c_2 g(\\boldsymbol{w}) \\\\\n",
    "\\boldsymbol{x} &= f(\\boldsymbol{z}_m) + c_3 \\epsilon_{x} \\\\\n",
    "y &= \\alpha t + \\boldsymbol{\\beta}^{\\text{T}} \\boldsymbol{z}_m + \\boldsymbol{\\gamma}^{\\text{T}} \\boldsymbol{w} + \\epsilon_{y}\n",
    "\\end{align*}\n",
    "where $c_1, c_2, c_3, \\alpha \\in \\mathbb{R}$ are constants, $\\boldsymbol{\\theta}, \\boldsymbol{\\beta}, \\boldsymbol{\\gamma}$ are coefficient vectors, and $f$ and $g$ are nonlinear functions which are modeled by **un-trained** multi-layer perceptrons (MLPs). $\\epsilon_{x}$ and $\\epsilon_{y}$ are Gaussian noise terms."
   ]
  },
  {
   "cell_type": "code",
   "execution_count": 2,
   "id": "b3c4a129",
   "metadata": {},
   "outputs": [],
   "source": [
    "data = defaultdict(dict)\n",
    "z_m_dims = [2,3,4,5]\n",
    "\n",
    "for z_m_dim in z_m_dims:\n",
    "    N = 6000\n",
    "    c1, c2, c3, sigma_x, sigma_m, noise_scale = 4, 0.1, 0.1, 0.5, 1, 0.01\n",
    "    x_dim, w_dim, hidden_dim = 50, 10, 25\n",
    "    f = nn.Sequential(\n",
    "        nn.Linear(z_m_dim, hidden_dim), \n",
    "        nn.LeakyReLU(), \n",
    "        nn.Linear(hidden_dim, x_dim)\n",
    "    )\n",
    "    g = nn.Sequential(\n",
    "        nn.Linear(w_dim, hidden_dim), \n",
    "        nn.LeakyReLU(), \n",
    "        nn.Linear(hidden_dim, z_m_dim)\n",
    "    )\n",
    "\n",
    "    theta = np.random.uniform(-1,1,size=w_dim)\n",
    "    W = np.random.multivariate_normal(mean=np.zeros(w_dim), cov=sigma_x*np.eye(w_dim), size=N)\n",
    "    logit = W @ theta\n",
    "    T = np.random.binomial(n=1, p=[1/(1 + np.exp(-s)) for s in logit]).reshape(-1,1)\n",
    "    with torch.no_grad():\n",
    "        gw = g(torch.tensor(W).float()).numpy()\n",
    "    Z_m0 = np.random.multivariate_normal(mean=np.zeros(z_m_dim), cov=sigma_m*np.eye(z_m_dim), size=N) + c2 * gw\n",
    "    Z_m1 = Z_m0 + c1\n",
    "    Z_m = np.array([Z_m0[i,:] if T[i][0] == 0 else Z_m1[i,:] for i in range(N)])\n",
    "    with torch.no_grad():\n",
    "        X = f(torch.tensor(Z_m).float()).numpy()\n",
    "        X += c3 * np.random.randn(X.shape[0],X.shape[1])\n",
    "    alpha = np.random.uniform(-2,2,size=1)\n",
    "    beta = np.random.uniform(-1,1,size=z_m_dim)\n",
    "    gamma0 = np.random.uniform(-0.5,0.5,size=w_dim)\n",
    "    gamma1 = np.random.uniform(-1,1,size=w_dim)\n",
    "    gamma = np.array([gamma0 if T[i][0] == 0 else gamma1 for i in range(N)])\n",
    "    noise = noise_scale * np.random.normal(size=N)\n",
    "    Y = (alpha * T.reshape(-1) + Z_m @ beta + np.sum(W*gamma,axis=1) + noise).reshape(-1,1)\n",
    "    \n",
    "    scaler = StandardScaler()\n",
    "    X, Z_m = scaler.fit_transform(X), scaler.fit_transform(Z_m)\n",
    "    Y, W = scaler.fit_transform(Y), scaler.fit_transform(W)\n",
    "    data[z_m_dim] = {'T': T, 'X': X, 'Z': Z_m, 'Y': Y, 'W': W}"
   ]
  },
  {
   "cell_type": "markdown",
   "id": "164bdc6b",
   "metadata": {},
   "source": [
    "## Fit IMAVAE on the data with corresponding dimensions of Z"
   ]
  },
  {
   "cell_type": "code",
   "execution_count": 3,
   "id": "b22d3b9b",
   "metadata": {},
   "outputs": [
    {
     "name": "stdout",
     "output_type": "stream",
     "text": [
      "Run 1 \n",
      "=========================================\n",
      "Beginning Training\n"
     ]
    },
    {
     "name": "stderr",
     "output_type": "stream",
     "text": [
      "Epoch: 49, Best Epoch: 49, Best Recon MSE: 0.108182, Best Pred Metric [0.1456368\n"
     ]
    },
    {
     "name": "stdout",
     "output_type": "stream",
     "text": [
      "Saving the last epoch with training MSE: 0.108182 and Pred Metric: [0.14563686, 0.14563686]\n",
      "Loaded the best model from Epoch: 49 with MSE: 0.108182 and Pred Metric: [0.14563686, 0.14563686]\n",
      "Beginning Training\n"
     ]
    },
    {
     "name": "stderr",
     "output_type": "stream",
     "text": [
      "Epoch: 49, Best Epoch: 49, Best Recon MSE: 0.0819381, Best Pred Metric [0.410611\n"
     ]
    },
    {
     "name": "stdout",
     "output_type": "stream",
     "text": [
      "Saving the last epoch with training MSE: 0.0819381 and Pred Metric: [0.4106119, 0.4106119, 0.4106119]\n",
      "Loaded the best model from Epoch: 49 with MSE: 0.0819381 and Pred Metric: [0.4106119, 0.4106119, 0.4106119]\n",
      "Beginning Training\n"
     ]
    },
    {
     "name": "stderr",
     "output_type": "stream",
     "text": [
      "Epoch: 49, Best Epoch: 47, Best Recon MSE: 0.157521, Best Pred Metric [0.1753996\n"
     ]
    },
    {
     "name": "stdout",
     "output_type": "stream",
     "text": [
      "Saving the last epoch with training MSE: 0.156445 and Pred Metric: [0.18650761, 0.18650761, 0.18650761, 0.18650761]\n",
      "Loaded the best model from Epoch: 47 with MSE: 0.157521 and Pred Metric: [0.17539963, 0.17539963, 0.17539963, 0.17539963]\n",
      "Beginning Training\n"
     ]
    },
    {
     "name": "stderr",
     "output_type": "stream",
     "text": [
      "Epoch: 49, Best Epoch: 49, Best Recon MSE: 0.154933, Best Pred Metric [0.1748708\n"
     ]
    },
    {
     "name": "stdout",
     "output_type": "stream",
     "text": [
      "Saving the last epoch with training MSE: 0.154933 and Pred Metric: [0.1748708, 0.1748708, 0.1748708, 0.1748708, 0.1748708]\n",
      "Loaded the best model from Epoch: 49 with MSE: 0.154933 and Pred Metric: [0.1748708, 0.1748708, 0.1748708, 0.1748708, 0.1748708]\n",
      "Run 2 \n",
      "=========================================\n",
      "Beginning Training\n"
     ]
    },
    {
     "name": "stderr",
     "output_type": "stream",
     "text": [
      "Epoch: 49, Best Epoch: 49, Best Recon MSE: 0.106437, Best Pred Metric [0.2038760\n"
     ]
    },
    {
     "name": "stdout",
     "output_type": "stream",
     "text": [
      "Saving the last epoch with training MSE: 0.106437 and Pred Metric: [0.20387606, 0.20387606]\n",
      "Loaded the best model from Epoch: 49 with MSE: 0.106437 and Pred Metric: [0.20387606, 0.20387606]\n",
      "Beginning Training\n"
     ]
    },
    {
     "name": "stderr",
     "output_type": "stream",
     "text": [
      "Epoch: 49, Best Epoch: 49, Best Recon MSE: 0.0846797, Best Pred Metric [0.215913\n"
     ]
    },
    {
     "name": "stdout",
     "output_type": "stream",
     "text": [
      "Saving the last epoch with training MSE: 0.0846797 and Pred Metric: [0.21591361, 0.21591361, 0.21591361]\n",
      "Loaded the best model from Epoch: 49 with MSE: 0.0846797 and Pred Metric: [0.21591361, 0.21591361, 0.21591361]\n",
      "Beginning Training\n"
     ]
    },
    {
     "name": "stderr",
     "output_type": "stream",
     "text": [
      "Epoch: 49, Best Epoch: 49, Best Recon MSE: 0.103468, Best Pred Metric [0.2072307\n"
     ]
    },
    {
     "name": "stdout",
     "output_type": "stream",
     "text": [
      "Saving the last epoch with training MSE: 0.103468 and Pred Metric: [0.20723079, 0.20723079, 0.20723079, 0.20723079]\n",
      "Loaded the best model from Epoch: 49 with MSE: 0.103468 and Pred Metric: [0.20723079, 0.20723079, 0.20723079, 0.20723079]\n",
      "Beginning Training\n"
     ]
    },
    {
     "name": "stderr",
     "output_type": "stream",
     "text": [
      "Epoch: 49, Best Epoch: 49, Best Recon MSE: 0.147481, Best Pred Metric [0.4063575\n"
     ]
    },
    {
     "name": "stdout",
     "output_type": "stream",
     "text": [
      "Saving the last epoch with training MSE: 0.147481 and Pred Metric: [0.4063575, 0.4063575, 0.4063575, 0.4063575, 0.4063575]\n",
      "Loaded the best model from Epoch: 49 with MSE: 0.147481 and Pred Metric: [0.4063575, 0.4063575, 0.4063575, 0.4063575, 0.4063575]\n",
      "Run 3 \n",
      "=========================================\n",
      "Beginning Training\n"
     ]
    },
    {
     "name": "stderr",
     "output_type": "stream",
     "text": [
      "Epoch: 49, Best Epoch: 49, Best Recon MSE: 0.107952, Best Pred Metric [0.2419745\n"
     ]
    },
    {
     "name": "stdout",
     "output_type": "stream",
     "text": [
      "Saving the last epoch with training MSE: 0.107952 and Pred Metric: [0.24197453, 0.24197453]\n",
      "Loaded the best model from Epoch: 49 with MSE: 0.107952 and Pred Metric: [0.24197453, 0.24197453]\n",
      "Beginning Training\n"
     ]
    },
    {
     "name": "stderr",
     "output_type": "stream",
     "text": [
      "Epoch: 49, Best Epoch: 48, Best Recon MSE: 0.0812745, Best Pred Metric [0.202033\n"
     ]
    },
    {
     "name": "stdout",
     "output_type": "stream",
     "text": [
      "Saving the last epoch with training MSE: 0.0809588 and Pred Metric: [0.20324808, 0.20324808, 0.20324808]\n",
      "Loaded the best model from Epoch: 48 with MSE: 0.0812745 and Pred Metric: [0.20203322, 0.20203322, 0.20203322]\n",
      "Beginning Training\n"
     ]
    },
    {
     "name": "stderr",
     "output_type": "stream",
     "text": [
      "Epoch: 49, Best Epoch: 49, Best Recon MSE: 0.106387, Best Pred Metric [0.2411230\n"
     ]
    },
    {
     "name": "stdout",
     "output_type": "stream",
     "text": [
      "Saving the last epoch with training MSE: 0.106387 and Pred Metric: [0.24112307, 0.24112307, 0.24112307, 0.24112307]\n",
      "Loaded the best model from Epoch: 49 with MSE: 0.106387 and Pred Metric: [0.24112307, 0.24112307, 0.24112307, 0.24112307]\n",
      "Beginning Training\n"
     ]
    },
    {
     "name": "stderr",
     "output_type": "stream",
     "text": [
      "Epoch: 49, Best Epoch: 31, Best Recon MSE: 0.194095, Best Pred Metric [0.13886, \n"
     ]
    },
    {
     "name": "stdout",
     "output_type": "stream",
     "text": [
      "Saving the last epoch with training MSE: 0.182954 and Pred Metric: [0.1963809, 0.1963809, 0.1963809, 0.1963809, 0.1963809]\n",
      "Loaded the best model from Epoch: 31 with MSE: 0.194095 and Pred Metric: [0.13886, 0.13886, 0.13886, 0.13886, 0.13886]\n",
      "Run 4 \n",
      "=========================================\n",
      "Beginning Training\n"
     ]
    },
    {
     "name": "stderr",
     "output_type": "stream",
     "text": [
      "Epoch: 49, Best Epoch: 49, Best Recon MSE: 0.109018, Best Pred Metric [0.3393254\n"
     ]
    },
    {
     "name": "stdout",
     "output_type": "stream",
     "text": [
      "Saving the last epoch with training MSE: 0.109018 and Pred Metric: [0.3393254, 0.3393254]\n",
      "Loaded the best model from Epoch: 49 with MSE: 0.109018 and Pred Metric: [0.3393254, 0.3393254]\n",
      "Beginning Training\n"
     ]
    },
    {
     "name": "stderr",
     "output_type": "stream",
     "text": [
      "Epoch: 49, Best Epoch: 49, Best Recon MSE: 0.0858549, Best Pred Metric [0.307414\n"
     ]
    },
    {
     "name": "stdout",
     "output_type": "stream",
     "text": [
      "Saving the last epoch with training MSE: 0.0858549 and Pred Metric: [0.30741468, 0.30741468, 0.30741468]\n",
      "Loaded the best model from Epoch: 49 with MSE: 0.0858549 and Pred Metric: [0.30741468, 0.30741468, 0.30741468]\n",
      "Beginning Training\n"
     ]
    },
    {
     "name": "stderr",
     "output_type": "stream",
     "text": [
      "Epoch: 49, Best Epoch: 49, Best Recon MSE: 0.109494, Best Pred Metric [0.4441796\n"
     ]
    },
    {
     "name": "stdout",
     "output_type": "stream",
     "text": [
      "Saving the last epoch with training MSE: 0.109494 and Pred Metric: [0.4441796, 0.4441796, 0.4441796, 0.4441796]\n",
      "Loaded the best model from Epoch: 49 with MSE: 0.109494 and Pred Metric: [0.4441796, 0.4441796, 0.4441796, 0.4441796]\n",
      "Beginning Training\n"
     ]
    },
    {
     "name": "stderr",
     "output_type": "stream",
     "text": [
      "Epoch: 49, Best Epoch: 48, Best Recon MSE: 0.189757, Best Pred Metric [0.0945439\n"
     ]
    },
    {
     "name": "stdout",
     "output_type": "stream",
     "text": [
      "Saving the last epoch with training MSE: 0.189469 and Pred Metric: [0.10315863, 0.10315863, 0.10315863, 0.10315863, 0.10315863]\n",
      "Loaded the best model from Epoch: 48 with MSE: 0.189757 and Pred Metric: [0.09454391, 0.09454391, 0.09454391, 0.09454391, 0.09454391]\n",
      "Run 5 \n",
      "=========================================\n",
      "Beginning Training\n"
     ]
    },
    {
     "name": "stderr",
     "output_type": "stream",
     "text": [
      "Epoch: 49, Best Epoch: 49, Best Recon MSE: 0.109178, Best Pred Metric [0.1430376\n"
     ]
    },
    {
     "name": "stdout",
     "output_type": "stream",
     "text": [
      "Saving the last epoch with training MSE: 0.109178 and Pred Metric: [0.14303763, 0.14303763]\n",
      "Loaded the best model from Epoch: 49 with MSE: 0.109178 and Pred Metric: [0.14303763, 0.14303763]\n",
      "Beginning Training\n"
     ]
    },
    {
     "name": "stderr",
     "output_type": "stream",
     "text": [
      "Epoch: 49, Best Epoch: 49, Best Recon MSE: 0.0871684, Best Pred Metric [0.266713\n"
     ]
    },
    {
     "name": "stdout",
     "output_type": "stream",
     "text": [
      "Saving the last epoch with training MSE: 0.0871684 and Pred Metric: [0.26671365, 0.26671365, 0.26671365]\n",
      "Loaded the best model from Epoch: 49 with MSE: 0.0871684 and Pred Metric: [0.26671365, 0.26671365, 0.26671365]\n",
      "Beginning Training\n"
     ]
    },
    {
     "name": "stderr",
     "output_type": "stream",
     "text": [
      "Epoch: 49, Best Epoch: 49, Best Recon MSE: 0.115109, Best Pred Metric [0.5577253\n"
     ]
    },
    {
     "name": "stdout",
     "output_type": "stream",
     "text": [
      "Saving the last epoch with training MSE: 0.115109 and Pred Metric: [0.5577253, 0.5577253, 0.5577253, 0.5577253]\n",
      "Loaded the best model from Epoch: 49 with MSE: 0.115109 and Pred Metric: [0.5577253, 0.5577253, 0.5577253, 0.5577253]\n",
      "Beginning Training\n"
     ]
    },
    {
     "name": "stderr",
     "output_type": "stream",
     "text": [
      "Epoch: 49, Best Epoch: 49, Best Recon MSE: 0.180637, Best Pred Metric [0.0988025"
     ]
    },
    {
     "name": "stdout",
     "output_type": "stream",
     "text": [
      "Saving the last epoch with training MSE: 0.180637 and Pred Metric: [0.09880256, 0.09880256, 0.09880256, 0.09880256, 0.09880256]\n",
      "Loaded the best model from Epoch: 49 with MSE: 0.180637 and Pred Metric: [0.09880256, 0.09880256, 0.09880256, 0.09880256, 0.09880256]\n"
     ]
    },
    {
     "name": "stderr",
     "output_type": "stream",
     "text": [
      "\n"
     ]
    }
   ],
   "source": [
    "num_runs = 5\n",
    "mcc_metrics_imavae = []\n",
    "\n",
    "for i in range(num_runs):\n",
    "    print(f\"Run {i+1} \\n=========================================\")\n",
    "    mcc_metric = []\n",
    "    for idx, z_m_dim in enumerate(z_m_dims):\n",
    "        T, X, Z = data[z_m_dim]['T'], data[z_m_dim]['X'], data[z_m_dim]['Z'], \n",
    "        Y, W = data[z_m_dim]['Y'], data[z_m_dim]['W']\n",
    "        imavae = IMAVAE(n_components=z_m_dim, n_sup_networks=z_m_dim, n_hidden_layers=2, hidden_dim=25, \n",
    "                       optim_name='Adam', recon_weight=1., elbo_weight=1., sup_weight=1., anneal=False)\n",
    "        WT = np.concatenate([T,W], axis=1)\n",
    "        _ = imavae.fit(\n",
    "            X, WT, Y, X_val=X, aux_val=WT, y_val=Y, \n",
    "            lr=1e-5, n_epochs=50, pretrain=False, verbose=1\n",
    "        )\n",
    "        with torch.no_grad():\n",
    "            t0, t1 = torch.zeros(N, 1), torch.ones(N, 1)\n",
    "            t0, t1 = torch.cat([t0, torch.tensor(W).float()], dim=1), torch.cat([t1, torch.tensor(W).float()], dim=1)\n",
    "            z_m0_pred = imavae.prior_dist.sample(*imavae.ivae.prior_params(t0))\n",
    "            z_m1_pred = imavae.prior_dist.sample(*imavae.ivae.prior_params(t1))\n",
    "            # Estimated z_m for factual outcomes\n",
    "            z_m_pred = torch.stack([z_m0_pred[i,:] if T[i,0] == 0 else z_m1_pred[i,:] for i in range(N)])\n",
    "        mcc_metric.append(mcc(Z, z_m_pred.numpy()))\n",
    "    mcc_metrics_imavae.append(mcc_metric)"
   ]
  },
  {
   "cell_type": "markdown",
   "id": "ef5b6701",
   "metadata": {},
   "source": [
    "## Fit regular VAE and $\\beta$-VAE with corresponding dimensions of Z"
   ]
  },
  {
   "cell_type": "code",
   "execution_count": 4,
   "id": "52880620",
   "metadata": {},
   "outputs": [
    {
     "name": "stdout",
     "output_type": "stream",
     "text": [
      "Run 1 \n",
      "=========================================\n",
      "Beginning Training\n"
     ]
    },
    {
     "name": "stderr",
     "output_type": "stream",
     "text": [
      "Epoch: 49, Best Epoch: 49, Best Recon MSE: 0.116561, Best Pred Metric [0.3223146\n"
     ]
    },
    {
     "name": "stdout",
     "output_type": "stream",
     "text": [
      "Saving the last epoch with training MSE: 0.116561 and Pred Metric: [0.32231465, 0.32231465]\n",
      "Loaded the best model from Epoch: 49 with MSE: 0.116561 and Pred Metric: [0.32231465, 0.32231465]\n",
      "Beginning Training\n"
     ]
    },
    {
     "name": "stderr",
     "output_type": "stream",
     "text": [
      "Epoch: 49, Best Epoch: 49, Best Recon MSE: 0.0968622, Best Pred Metric [0.501621\n"
     ]
    },
    {
     "name": "stdout",
     "output_type": "stream",
     "text": [
      "Saving the last epoch with training MSE: 0.0968622 and Pred Metric: [0.50162137, 0.50162137, 0.50162137]\n",
      "Loaded the best model from Epoch: 49 with MSE: 0.0968622 and Pred Metric: [0.50162137, 0.50162137, 0.50162137]\n",
      "Beginning Training\n"
     ]
    },
    {
     "name": "stderr",
     "output_type": "stream",
     "text": [
      "Epoch: 49, Best Epoch: 49, Best Recon MSE: 0.124712, Best Pred Metric [0.1854034\n"
     ]
    },
    {
     "name": "stdout",
     "output_type": "stream",
     "text": [
      "Saving the last epoch with training MSE: 0.124712 and Pred Metric: [0.18540344, 0.18540344, 0.18540344, 0.18540344]\n",
      "Loaded the best model from Epoch: 49 with MSE: 0.124712 and Pred Metric: [0.18540344, 0.18540344, 0.18540344, 0.18540344]\n",
      "Beginning Training\n"
     ]
    },
    {
     "name": "stderr",
     "output_type": "stream",
     "text": [
      "Epoch: 49, Best Epoch: 49, Best Recon MSE: 0.184768, Best Pred Metric [0.3886675\n"
     ]
    },
    {
     "name": "stdout",
     "output_type": "stream",
     "text": [
      "Saving the last epoch with training MSE: 0.184768 and Pred Metric: [0.3886675, 0.3886675, 0.3886675, 0.3886675, 0.3886675]\n",
      "Loaded the best model from Epoch: 49 with MSE: 0.184768 and Pred Metric: [0.3886675, 0.3886675, 0.3886675, 0.3886675, 0.3886675]\n",
      "Run 2 \n",
      "=========================================\n",
      "Beginning Training\n"
     ]
    },
    {
     "name": "stderr",
     "output_type": "stream",
     "text": [
      "Epoch: 49, Best Epoch: 49, Best Recon MSE: 0.121133, Best Pred Metric [0.1922600\n"
     ]
    },
    {
     "name": "stdout",
     "output_type": "stream",
     "text": [
      "Saving the last epoch with training MSE: 0.121133 and Pred Metric: [0.19226003, 0.19226003]\n",
      "Loaded the best model from Epoch: 49 with MSE: 0.121133 and Pred Metric: [0.19226003, 0.19226003]\n",
      "Beginning Training\n"
     ]
    },
    {
     "name": "stderr",
     "output_type": "stream",
     "text": [
      "Epoch: 49, Best Epoch: 49, Best Recon MSE: 0.0912184, Best Pred Metric [0.808418\n"
     ]
    },
    {
     "name": "stdout",
     "output_type": "stream",
     "text": [
      "Saving the last epoch with training MSE: 0.0912184 and Pred Metric: [0.8084189, 0.8084189, 0.8084189]\n",
      "Loaded the best model from Epoch: 49 with MSE: 0.0912184 and Pred Metric: [0.8084189, 0.8084189, 0.8084189]\n",
      "Beginning Training\n"
     ]
    },
    {
     "name": "stderr",
     "output_type": "stream",
     "text": [
      "Epoch: 49, Best Epoch: 49, Best Recon MSE: 0.125477, Best Pred Metric [0.1777554\n"
     ]
    },
    {
     "name": "stdout",
     "output_type": "stream",
     "text": [
      "Saving the last epoch with training MSE: 0.125477 and Pred Metric: [0.17775542, 0.17775542, 0.17775542, 0.17775542]\n",
      "Loaded the best model from Epoch: 49 with MSE: 0.125477 and Pred Metric: [0.17775542, 0.17775542, 0.17775542, 0.17775542]\n",
      "Beginning Training\n"
     ]
    },
    {
     "name": "stderr",
     "output_type": "stream",
     "text": [
      "Epoch: 49, Best Epoch: 49, Best Recon MSE: 0.181437, Best Pred Metric [0.6266949\n"
     ]
    },
    {
     "name": "stdout",
     "output_type": "stream",
     "text": [
      "Saving the last epoch with training MSE: 0.181437 and Pred Metric: [0.6266949, 0.6266949, 0.6266949, 0.6266949, 0.6266949]\n",
      "Loaded the best model from Epoch: 49 with MSE: 0.181437 and Pred Metric: [0.6266949, 0.6266949, 0.6266949, 0.6266949, 0.6266949]\n",
      "Run 3 \n",
      "=========================================\n",
      "Beginning Training\n"
     ]
    },
    {
     "name": "stderr",
     "output_type": "stream",
     "text": [
      "Epoch: 49, Best Epoch: 49, Best Recon MSE: 0.120892, Best Pred Metric [0.489747,\n"
     ]
    },
    {
     "name": "stdout",
     "output_type": "stream",
     "text": [
      "Saving the last epoch with training MSE: 0.120892 and Pred Metric: [0.489747, 0.489747]\n",
      "Loaded the best model from Epoch: 49 with MSE: 0.120892 and Pred Metric: [0.489747, 0.489747]\n",
      "Beginning Training\n"
     ]
    },
    {
     "name": "stderr",
     "output_type": "stream",
     "text": [
      "Epoch: 49, Best Epoch: 49, Best Recon MSE: 0.0964347, Best Pred Metric [0.501395\n"
     ]
    },
    {
     "name": "stdout",
     "output_type": "stream",
     "text": [
      "Saving the last epoch with training MSE: 0.0964347 and Pred Metric: [0.5013951, 0.5013951, 0.5013951]\n",
      "Loaded the best model from Epoch: 49 with MSE: 0.0964347 and Pred Metric: [0.5013951, 0.5013951, 0.5013951]\n",
      "Beginning Training\n"
     ]
    },
    {
     "name": "stderr",
     "output_type": "stream",
     "text": [
      "Epoch: 49, Best Epoch: 49, Best Recon MSE: 0.128212, Best Pred Metric [0.237023,\n"
     ]
    },
    {
     "name": "stdout",
     "output_type": "stream",
     "text": [
      "Saving the last epoch with training MSE: 0.128212 and Pred Metric: [0.237023, 0.237023, 0.237023, 0.237023]\n",
      "Loaded the best model from Epoch: 49 with MSE: 0.128212 and Pred Metric: [0.237023, 0.237023, 0.237023, 0.237023]\n",
      "Beginning Training\n"
     ]
    },
    {
     "name": "stderr",
     "output_type": "stream",
     "text": [
      "Epoch: 49, Best Epoch: 49, Best Recon MSE: 0.187083, Best Pred Metric [0.5647154\n"
     ]
    },
    {
     "name": "stdout",
     "output_type": "stream",
     "text": [
      "Saving the last epoch with training MSE: 0.187083 and Pred Metric: [0.5647154, 0.5647154, 0.5647154, 0.5647154, 0.5647154]\n",
      "Loaded the best model from Epoch: 49 with MSE: 0.187083 and Pred Metric: [0.5647154, 0.5647154, 0.5647154, 0.5647154, 0.5647154]\n",
      "Run 4 \n",
      "=========================================\n",
      "Beginning Training\n"
     ]
    },
    {
     "name": "stderr",
     "output_type": "stream",
     "text": [
      "Epoch: 49, Best Epoch: 49, Best Recon MSE: 0.116987, Best Pred Metric [0.2482724\n"
     ]
    },
    {
     "name": "stdout",
     "output_type": "stream",
     "text": [
      "Saving the last epoch with training MSE: 0.116987 and Pred Metric: [0.24827248, 0.24827248]\n",
      "Loaded the best model from Epoch: 49 with MSE: 0.116987 and Pred Metric: [0.24827248, 0.24827248]\n",
      "Beginning Training\n"
     ]
    },
    {
     "name": "stderr",
     "output_type": "stream",
     "text": [
      "Epoch: 49, Best Epoch: 49, Best Recon MSE: 0.0945635, Best Pred Metric [0.633245\n"
     ]
    },
    {
     "name": "stdout",
     "output_type": "stream",
     "text": [
      "Saving the last epoch with training MSE: 0.0945635 and Pred Metric: [0.6332455, 0.6332455, 0.6332455]\n",
      "Loaded the best model from Epoch: 49 with MSE: 0.0945635 and Pred Metric: [0.6332455, 0.6332455, 0.6332455]\n",
      "Beginning Training\n"
     ]
    },
    {
     "name": "stderr",
     "output_type": "stream",
     "text": [
      "Epoch: 49, Best Epoch: 49, Best Recon MSE: 0.127179, Best Pred Metric [0.1534967\n"
     ]
    },
    {
     "name": "stdout",
     "output_type": "stream",
     "text": [
      "Saving the last epoch with training MSE: 0.127179 and Pred Metric: [0.15349673, 0.15349673, 0.15349673, 0.15349673]\n",
      "Loaded the best model from Epoch: 49 with MSE: 0.127179 and Pred Metric: [0.15349673, 0.15349673, 0.15349673, 0.15349673]\n",
      "Beginning Training\n"
     ]
    },
    {
     "name": "stderr",
     "output_type": "stream",
     "text": [
      "Epoch: 49, Best Epoch: 49, Best Recon MSE: 0.190018, Best Pred Metric [0.655044,\n"
     ]
    },
    {
     "name": "stdout",
     "output_type": "stream",
     "text": [
      "Saving the last epoch with training MSE: 0.190018 and Pred Metric: [0.655044, 0.655044, 0.655044, 0.655044, 0.655044]\n",
      "Loaded the best model from Epoch: 49 with MSE: 0.190018 and Pred Metric: [0.655044, 0.655044, 0.655044, 0.655044, 0.655044]\n",
      "Run 5 \n",
      "=========================================\n",
      "Beginning Training\n"
     ]
    },
    {
     "name": "stderr",
     "output_type": "stream",
     "text": [
      "Epoch: 49, Best Epoch: 49, Best Recon MSE: 0.128891, Best Pred Metric [0.2008637\n"
     ]
    },
    {
     "name": "stdout",
     "output_type": "stream",
     "text": [
      "Saving the last epoch with training MSE: 0.128891 and Pred Metric: [0.20086373, 0.20086373]\n",
      "Loaded the best model from Epoch: 49 with MSE: 0.128891 and Pred Metric: [0.20086373, 0.20086373]\n",
      "Beginning Training\n"
     ]
    },
    {
     "name": "stderr",
     "output_type": "stream",
     "text": [
      "Epoch: 49, Best Epoch: 49, Best Recon MSE: 0.0938194, Best Pred Metric [0.556401\n"
     ]
    },
    {
     "name": "stdout",
     "output_type": "stream",
     "text": [
      "Saving the last epoch with training MSE: 0.0938194 and Pred Metric: [0.55640155, 0.55640155, 0.55640155]\n",
      "Loaded the best model from Epoch: 49 with MSE: 0.0938194 and Pred Metric: [0.55640155, 0.55640155, 0.55640155]\n",
      "Beginning Training\n"
     ]
    },
    {
     "name": "stderr",
     "output_type": "stream",
     "text": [
      "Epoch: 49, Best Epoch: 49, Best Recon MSE: 0.123512, Best Pred Metric [0.1345980\n"
     ]
    },
    {
     "name": "stdout",
     "output_type": "stream",
     "text": [
      "Saving the last epoch with training MSE: 0.123512 and Pred Metric: [0.13459805, 0.13459805, 0.13459805, 0.13459805]\n",
      "Loaded the best model from Epoch: 49 with MSE: 0.123512 and Pred Metric: [0.13459805, 0.13459805, 0.13459805, 0.13459805]\n",
      "Beginning Training\n"
     ]
    },
    {
     "name": "stderr",
     "output_type": "stream",
     "text": [
      "Epoch: 49, Best Epoch: 49, Best Recon MSE: 0.183254, Best Pred Metric [0.3216121"
     ]
    },
    {
     "name": "stdout",
     "output_type": "stream",
     "text": [
      "Saving the last epoch with training MSE: 0.183254 and Pred Metric: [0.32161218, 0.32161218, 0.32161218, 0.32161218, 0.32161218]\n",
      "Loaded the best model from Epoch: 49 with MSE: 0.183254 and Pred Metric: [0.32161218, 0.32161218, 0.32161218, 0.32161218, 0.32161218]\n"
     ]
    },
    {
     "name": "stderr",
     "output_type": "stream",
     "text": [
      "\n"
     ]
    }
   ],
   "source": [
    "# VAE\n",
    "num_runs = 5\n",
    "mcc_metrics_vae = []\n",
    "\n",
    "for i in range(num_runs):\n",
    "    print(f\"Run {i+1} \\n=========================================\")\n",
    "    mcc_metric = []\n",
    "    for idx, z_m_dim in enumerate(z_m_dims):\n",
    "        T, X, Z = data[z_m_dim]['T'], data[z_m_dim]['X'], data[z_m_dim]['Z'], \n",
    "        Y, W = data[z_m_dim]['Y'], data[z_m_dim]['W']\n",
    "        imavae = IMAVAE(n_components=z_m_dim, n_sup_networks=z_m_dim, n_hidden_layers=2, hidden_dim=25, \n",
    "                        optim_name='Adam', recon_weight=1., elbo_weight=1., sup_weight=1., \n",
    "                        identifiable=False, prior_scale=0.01, anneal=False)\n",
    "        WT = np.concatenate([T,W], axis=1)\n",
    "        _ = imavae.fit(\n",
    "            X, WT, Y, X_val=X, aux_val=WT, y_val=Y, \n",
    "            lr=1e-5, n_epochs=50, pretrain=False, verbose=1\n",
    "        )\n",
    "        with torch.no_grad():\n",
    "            t0, t1 = torch.zeros(N, 1), torch.ones(N, 1)\n",
    "            t0, t1 = torch.cat([t0, torch.tensor(W).float()], dim=1), torch.cat([t1, torch.tensor(W).float()], dim=1)\n",
    "            z_m0_pred = imavae.prior_dist.sample(*imavae.ivae.prior_params(), size=N)\n",
    "            z_m1_pred = imavae.prior_dist.sample(*imavae.ivae.prior_params(), size=N)\n",
    "            # Estimated z_m for factual outcomes\n",
    "            z_m_pred = torch.stack([z_m0_pred[i,:] if T[i,0] == 0 else z_m1_pred[i,:] for i in range(N)])\n",
    "        mcc_metric.append(mcc(Z, z_m_pred.numpy()))\n",
    "    mcc_metrics_vae.append(mcc_metric)"
   ]
  },
  {
   "cell_type": "code",
   "execution_count": 5,
   "id": "cdf2893f",
   "metadata": {},
   "outputs": [
    {
     "name": "stdout",
     "output_type": "stream",
     "text": [
      "Run 1 \n",
      "=========================================\n",
      "Beginning Training\n"
     ]
    },
    {
     "name": "stderr",
     "output_type": "stream",
     "text": [
      "Epoch: 49, Best Epoch: 49, Best Recon MSE: 0.164019, Best Pred Metric [0.9071886\n"
     ]
    },
    {
     "name": "stdout",
     "output_type": "stream",
     "text": [
      "Saving the last epoch with training MSE: 0.164019 and Pred Metric: [0.90718865, 0.90718865]\n",
      "Loaded the best model from Epoch: 49 with MSE: 0.164019 and Pred Metric: [0.90718865, 0.90718865]\n",
      "Beginning Training\n"
     ]
    },
    {
     "name": "stderr",
     "output_type": "stream",
     "text": [
      "Epoch: 49, Best Epoch: 49, Best Recon MSE: 0.203271, Best Pred Metric [0.9178446\n"
     ]
    },
    {
     "name": "stdout",
     "output_type": "stream",
     "text": [
      "Saving the last epoch with training MSE: 0.203271 and Pred Metric: [0.9178446, 0.9178446, 0.9178446]\n",
      "Loaded the best model from Epoch: 49 with MSE: 0.203271 and Pred Metric: [0.9178446, 0.9178446, 0.9178446]\n",
      "Beginning Training\n"
     ]
    },
    {
     "name": "stderr",
     "output_type": "stream",
     "text": [
      "Epoch: 49, Best Epoch: 49, Best Recon MSE: 0.359877, Best Pred Metric [0.2322015\n"
     ]
    },
    {
     "name": "stdout",
     "output_type": "stream",
     "text": [
      "Saving the last epoch with training MSE: 0.359877 and Pred Metric: [0.23220152, 0.23220152, 0.23220152, 0.23220152]\n",
      "Loaded the best model from Epoch: 49 with MSE: 0.359877 and Pred Metric: [0.23220152, 0.23220152, 0.23220152, 0.23220152]\n",
      "Beginning Training\n"
     ]
    },
    {
     "name": "stderr",
     "output_type": "stream",
     "text": [
      "Epoch: 49, Best Epoch: 49, Best Recon MSE: 0.424713, Best Pred Metric [0.5100238\n"
     ]
    },
    {
     "name": "stdout",
     "output_type": "stream",
     "text": [
      "Saving the last epoch with training MSE: 0.424713 and Pred Metric: [0.5100238, 0.5100238, 0.5100238, 0.5100238, 0.5100238]\n",
      "Loaded the best model from Epoch: 49 with MSE: 0.424713 and Pred Metric: [0.5100238, 0.5100238, 0.5100238, 0.5100238, 0.5100238]\n",
      "Run 2 \n",
      "=========================================\n",
      "Beginning Training\n"
     ]
    },
    {
     "name": "stderr",
     "output_type": "stream",
     "text": [
      "Epoch: 49, Best Epoch: 49, Best Recon MSE: 0.351443, Best Pred Metric [0.3159799\n"
     ]
    },
    {
     "name": "stdout",
     "output_type": "stream",
     "text": [
      "Saving the last epoch with training MSE: 0.351443 and Pred Metric: [0.31597993, 0.31597993]\n",
      "Loaded the best model from Epoch: 49 with MSE: 0.351443 and Pred Metric: [0.31597993, 0.31597993]\n",
      "Beginning Training\n"
     ]
    },
    {
     "name": "stderr",
     "output_type": "stream",
     "text": [
      "Epoch: 49, Best Epoch: 49, Best Recon MSE: 0.128426, Best Pred Metric [0.654709,\n"
     ]
    },
    {
     "name": "stdout",
     "output_type": "stream",
     "text": [
      "Saving the last epoch with training MSE: 0.128426 and Pred Metric: [0.654709, 0.654709, 0.654709]\n",
      "Loaded the best model from Epoch: 49 with MSE: 0.128426 and Pred Metric: [0.654709, 0.654709, 0.654709]\n",
      "Beginning Training\n"
     ]
    },
    {
     "name": "stderr",
     "output_type": "stream",
     "text": [
      "Epoch: 49, Best Epoch: 49, Best Recon MSE: 0.34788, Best Pred Metric [0.313534, \n"
     ]
    },
    {
     "name": "stdout",
     "output_type": "stream",
     "text": [
      "Saving the last epoch with training MSE: 0.34788 and Pred Metric: [0.313534, 0.313534, 0.313534, 0.313534]\n",
      "Loaded the best model from Epoch: 49 with MSE: 0.34788 and Pred Metric: [0.313534, 0.313534, 0.313534, 0.313534]\n",
      "Beginning Training\n"
     ]
    },
    {
     "name": "stderr",
     "output_type": "stream",
     "text": [
      "Epoch: 49, Best Epoch: 49, Best Recon MSE: 0.440272, Best Pred Metric [0.3140032\n"
     ]
    },
    {
     "name": "stdout",
     "output_type": "stream",
     "text": [
      "Saving the last epoch with training MSE: 0.440272 and Pred Metric: [0.31400326, 0.31400326, 0.31400326, 0.31400326, 0.31400326]\n",
      "Loaded the best model from Epoch: 49 with MSE: 0.440272 and Pred Metric: [0.31400326, 0.31400326, 0.31400326, 0.31400326, 0.31400326]\n",
      "Run 3 \n",
      "=========================================\n",
      "Beginning Training\n"
     ]
    },
    {
     "name": "stderr",
     "output_type": "stream",
     "text": [
      "Epoch: 49, Best Epoch: 49, Best Recon MSE: 0.165964, Best Pred Metric [0.2119470\n"
     ]
    },
    {
     "name": "stdout",
     "output_type": "stream",
     "text": [
      "Saving the last epoch with training MSE: 0.165964 and Pred Metric: [0.21194707, 0.21194707]\n",
      "Loaded the best model from Epoch: 49 with MSE: 0.165964 and Pred Metric: [0.21194707, 0.21194707]\n",
      "Beginning Training\n"
     ]
    },
    {
     "name": "stderr",
     "output_type": "stream",
     "text": [
      "Epoch: 49, Best Epoch: 49, Best Recon MSE: 0.137451, Best Pred Metric [1.6478128\n"
     ]
    },
    {
     "name": "stdout",
     "output_type": "stream",
     "text": [
      "Saving the last epoch with training MSE: 0.137451 and Pred Metric: [1.6478128, 1.6478128, 1.6478128]\n",
      "Loaded the best model from Epoch: 49 with MSE: 0.137451 and Pred Metric: [1.6478128, 1.6478128, 1.6478128]\n",
      "Beginning Training\n"
     ]
    },
    {
     "name": "stderr",
     "output_type": "stream",
     "text": [
      "Epoch: 49, Best Epoch: 49, Best Recon MSE: 0.3532, Best Pred Metric [0.8833498, \n"
     ]
    },
    {
     "name": "stdout",
     "output_type": "stream",
     "text": [
      "Saving the last epoch with training MSE: 0.3532 and Pred Metric: [0.8833498, 0.8833498, 0.8833498, 0.8833498]\n",
      "Loaded the best model from Epoch: 49 with MSE: 0.3532 and Pred Metric: [0.8833498, 0.8833498, 0.8833498, 0.8833498]\n",
      "Beginning Training\n"
     ]
    },
    {
     "name": "stderr",
     "output_type": "stream",
     "text": [
      "Epoch: 49, Best Epoch: 49, Best Recon MSE: 0.528026, Best Pred Metric [0.4031555\n"
     ]
    },
    {
     "name": "stdout",
     "output_type": "stream",
     "text": [
      "Saving the last epoch with training MSE: 0.528026 and Pred Metric: [0.4031555, 0.4031555, 0.4031555, 0.4031555, 0.4031555]\n",
      "Loaded the best model from Epoch: 49 with MSE: 0.528026 and Pred Metric: [0.4031555, 0.4031555, 0.4031555, 0.4031555, 0.4031555]\n",
      "Run 4 \n",
      "=========================================\n",
      "Beginning Training\n"
     ]
    },
    {
     "name": "stderr",
     "output_type": "stream",
     "text": [
      "Epoch: 49, Best Epoch: 49, Best Recon MSE: 0.15864, Best Pred Metric [0.4795265,\n"
     ]
    },
    {
     "name": "stdout",
     "output_type": "stream",
     "text": [
      "Saving the last epoch with training MSE: 0.15864 and Pred Metric: [0.4795265, 0.4795265]\n",
      "Loaded the best model from Epoch: 49 with MSE: 0.15864 and Pred Metric: [0.4795265, 0.4795265]\n",
      "Beginning Training\n"
     ]
    },
    {
     "name": "stderr",
     "output_type": "stream",
     "text": [
      "Epoch: 49, Best Epoch: 49, Best Recon MSE: 0.218335, Best Pred Metric [1.1785656\n"
     ]
    },
    {
     "name": "stdout",
     "output_type": "stream",
     "text": [
      "Saving the last epoch with training MSE: 0.218335 and Pred Metric: [1.1785656, 1.1785656, 1.1785656]\n",
      "Loaded the best model from Epoch: 49 with MSE: 0.218335 and Pred Metric: [1.1785656, 1.1785656, 1.1785656]\n",
      "Beginning Training\n"
     ]
    },
    {
     "name": "stderr",
     "output_type": "stream",
     "text": [
      "Epoch: 49, Best Epoch: 48, Best Recon MSE: 0.284569, Best Pred Metric [0.1534442\n"
     ]
    },
    {
     "name": "stdout",
     "output_type": "stream",
     "text": [
      "Saving the last epoch with training MSE: 0.28623 and Pred Metric: [0.15302931, 0.15302931, 0.15302931, 0.15302931]\n",
      "Loaded the best model from Epoch: 48 with MSE: 0.284569 and Pred Metric: [0.15344426, 0.15344426, 0.15344426, 0.15344426]\n",
      "Beginning Training\n"
     ]
    },
    {
     "name": "stderr",
     "output_type": "stream",
     "text": [
      "Epoch: 49, Best Epoch: 49, Best Recon MSE: 0.459952, Best Pred Metric [1.294499,\n"
     ]
    },
    {
     "name": "stdout",
     "output_type": "stream",
     "text": [
      "Saving the last epoch with training MSE: 0.459952 and Pred Metric: [1.294499, 1.294499, 1.294499, 1.294499, 1.294499]\n",
      "Loaded the best model from Epoch: 49 with MSE: 0.459952 and Pred Metric: [1.294499, 1.294499, 1.294499, 1.294499, 1.294499]\n",
      "Run 5 \n",
      "=========================================\n",
      "Beginning Training\n"
     ]
    },
    {
     "name": "stderr",
     "output_type": "stream",
     "text": [
      "Epoch: 49, Best Epoch: 49, Best Recon MSE: 0.140102, Best Pred Metric [0.5988571\n"
     ]
    },
    {
     "name": "stdout",
     "output_type": "stream",
     "text": [
      "Saving the last epoch with training MSE: 0.140102 and Pred Metric: [0.59885716, 0.59885716]\n",
      "Loaded the best model from Epoch: 49 with MSE: 0.140102 and Pred Metric: [0.59885716, 0.59885716]\n",
      "Beginning Training\n"
     ]
    },
    {
     "name": "stderr",
     "output_type": "stream",
     "text": [
      "Epoch: 49, Best Epoch: 49, Best Recon MSE: 0.155244, Best Pred Metric [2.7196124\n"
     ]
    },
    {
     "name": "stdout",
     "output_type": "stream",
     "text": [
      "Saving the last epoch with training MSE: 0.155244 and Pred Metric: [2.7196124, 2.7196124, 2.7196124]\n",
      "Loaded the best model from Epoch: 49 with MSE: 0.155244 and Pred Metric: [2.7196124, 2.7196124, 2.7196124]\n",
      "Beginning Training\n"
     ]
    },
    {
     "name": "stderr",
     "output_type": "stream",
     "text": [
      "Epoch: 49, Best Epoch: 49, Best Recon MSE: 0.294428, Best Pred Metric [0.7621988\n"
     ]
    },
    {
     "name": "stdout",
     "output_type": "stream",
     "text": [
      "Saving the last epoch with training MSE: 0.294428 and Pred Metric: [0.76219887, 0.76219887, 0.76219887, 0.76219887]\n",
      "Loaded the best model from Epoch: 49 with MSE: 0.294428 and Pred Metric: [0.76219887, 0.76219887, 0.76219887, 0.76219887]\n",
      "Beginning Training\n"
     ]
    },
    {
     "name": "stderr",
     "output_type": "stream",
     "text": [
      "Epoch: 49, Best Epoch: 49, Best Recon MSE: 0.458565, Best Pred Metric [0.4107560"
     ]
    },
    {
     "name": "stdout",
     "output_type": "stream",
     "text": [
      "Saving the last epoch with training MSE: 0.458565 and Pred Metric: [0.41075602, 0.41075602, 0.41075602, 0.41075602, 0.41075602]\n",
      "Loaded the best model from Epoch: 49 with MSE: 0.458565 and Pred Metric: [0.41075602, 0.41075602, 0.41075602, 0.41075602, 0.41075602]\n"
     ]
    },
    {
     "name": "stderr",
     "output_type": "stream",
     "text": [
      "\n"
     ]
    }
   ],
   "source": [
    "# beta-VAE\n",
    "num_runs = 5\n",
    "mcc_metrics_beta_vae = []\n",
    "\n",
    "for i in range(num_runs):\n",
    "    print(f\"Run {i+1} \\n=========================================\")\n",
    "    mcc_metric = []\n",
    "    for idx, z_m_dim in enumerate(z_m_dims):\n",
    "        T, X, Z = data[z_m_dim]['T'], data[z_m_dim]['X'], data[z_m_dim]['Z'], \n",
    "        Y, W = data[z_m_dim]['Y'], data[z_m_dim]['W']\n",
    "        imavae = IMAVAE(n_components=z_m_dim, n_sup_networks=z_m_dim, n_hidden_layers=2, hidden_dim=25, \n",
    "                        optim_name='Adam', recon_weight=1., elbo_weight=1., sup_weight=1., \n",
    "                        identifiable=False, beta=4.0, prior_scale=0.01, anneal=False)\n",
    "        WT = np.concatenate([T,W], axis=1)\n",
    "        _ = imavae.fit(\n",
    "            X, WT, Y, X_val=X, aux_val=WT, y_val=Y, \n",
    "            lr=1e-5, n_epochs=50, pretrain=False, verbose=1\n",
    "        )\n",
    "        with torch.no_grad():\n",
    "            t0, t1 = torch.zeros(N, 1), torch.ones(N, 1)\n",
    "            t0, t1 = torch.cat([t0, torch.tensor(W).float()], dim=1), torch.cat([t1, torch.tensor(W).float()], dim=1)\n",
    "            z_m0_pred = imavae.prior_dist.sample(*imavae.ivae.prior_params(), size=N)\n",
    "            z_m1_pred = imavae.prior_dist.sample(*imavae.ivae.prior_params(), size=N)\n",
    "            # Estimated z_m for factual outcomes\n",
    "            z_m_pred = torch.stack([z_m0_pred[i,:] if T[i,0] == 0 else z_m1_pred[i,:] for i in range(N)])\n",
    "        mcc_metric.append(mcc(Z, z_m_pred.numpy()))\n",
    "    mcc_metrics_beta_vae.append(mcc_metric)"
   ]
  },
  {
   "cell_type": "markdown",
   "id": "f13e52a9",
   "metadata": {},
   "source": [
    "## Compare mean correlation coefficients for varying dimensions of Z"
   ]
  },
  {
   "cell_type": "code",
   "execution_count": 6,
   "id": "3785e107",
   "metadata": {},
   "outputs": [
    {
     "data": {
      "image/png": "[encoded data removed]",
      "text/plain": [
       "<Figure size 504x432 with 1 Axes>"
      ]
     },
     "metadata": {
      "needs_background": "light"
     },
     "output_type": "display_data"
    }
   ],
   "source": [
    "mcc_metrics_imavae = np.array(mcc_metrics_imavae)\n",
    "mcc_metrics_vae = np.array(mcc_metrics_vae)\n",
    "mcc_metrics_beta_vae = np.array(mcc_metrics_beta_vae)\n",
    "\n",
    "fig, ax = plt.subplots(1, 1, figsize=(7,6))\n",
    "ax.plot(z_m_dims, np.mean(mcc_metrics_imavae,axis=0), color='blue', lw=2, marker='.', markersize=12, label='IMAVAE')\n",
    "ax.plot(z_m_dims, np.mean(mcc_metrics_vae,axis=0), color='red', lw=2, marker='^', markersize=12, label='VAE')\n",
    "ax.plot(z_m_dims, np.mean(mcc_metrics_beta_vae,axis=0), color='orange', lw=2, marker='*', markersize=12, label=r'$\\beta$-VAE')\n",
    "ax.fill_between(\n",
    "    z_m_dims, \n",
    "    np.mean(mcc_metrics_imavae,axis=0)-np.std(mcc_metrics_imavae,axis=0), \n",
    "    np.mean(mcc_metrics_imavae,axis=0)+np.std(mcc_metrics_imavae,axis=0), \n",
    "    color='blue', alpha=0.1\n",
    ")\n",
    "ax.fill_between(\n",
    "    z_m_dims, \n",
    "    np.mean(mcc_metrics_vae,axis=0)-np.std(mcc_metrics_vae,axis=0), \n",
    "    np.mean(mcc_metrics_vae,axis=0)+np.std(mcc_metrics_vae,axis=0), \n",
    "    color='red', alpha=0.1\n",
    ")\n",
    "ax.fill_between(\n",
    "    z_m_dims, \n",
    "    np.mean(mcc_metrics_beta_vae,axis=0)-np.std(mcc_metrics_beta_vae,axis=0), \n",
    "    np.mean(mcc_metrics_beta_vae,axis=0)+np.std(mcc_metrics_beta_vae,axis=0), \n",
    "    color='orange', alpha=0.1\n",
    ")\n",
    "ax.locator_params(nbins=4, axis='x')\n",
    "ax.locator_params(nbins=5, axis='y')\n",
    "ax.tick_params(axis='both', which='major', labelsize=17)\n",
    "ax.set_xlabel('Dimension of Z', fontsize=20)\n",
    "ax.set_ylabel('Mean Correlation Coefficient', fontsize=20)\n",
    "ax.legend(prop={'size': 15})\n",
    "plt.savefig('./Figures/mcc_varying_dz.png', dpi=600)"
   ]
  },
  {
   "cell_type": "markdown",
   "id": "ec67767b",
   "metadata": {},
   "source": [
    "## Fit IMAVAE on the data with different number of training epochs and $d_Z = 2$"
   ]
  },
  {
   "cell_type": "code",
   "execution_count": 7,
   "id": "3f32a44f",
   "metadata": {},
   "outputs": [
    {
     "name": "stdout",
     "output_type": "stream",
     "text": [
      "Run 1 \n",
      "=========================================\n",
      "Beginning Training\n"
     ]
    },
    {
     "name": "stderr",
     "output_type": "stream",
     "text": [
      "Epoch: 4, Best Epoch: 2, Best Recon MSE: 0.345172, Best Pred Metric [2.3089097, \n"
     ]
    },
    {
     "name": "stdout",
     "output_type": "stream",
     "text": [
      "Saving the last epoch with training MSE: 0.218615 and Pred Metric: [6.2229295, 6.2229295]\n",
      "Loaded the best model from Epoch: 2 with MSE: 0.345172 and Pred Metric: [2.3089097, 2.3089097]\n",
      "Beginning Training\n"
     ]
    },
    {
     "name": "stderr",
     "output_type": "stream",
     "text": [
      "Epoch: 9, Best Epoch: 2, Best Recon MSE: 0.330879, Best Pred Metric [2.7351036, \n"
     ]
    },
    {
     "name": "stdout",
     "output_type": "stream",
     "text": [
      "Saving the last epoch with training MSE: 0.143301 and Pred Metric: [3.2706132, 3.2706132]\n",
      "Loaded the best model from Epoch: 2 with MSE: 0.330879 and Pred Metric: [2.7351036, 2.7351036]\n",
      "Beginning Training\n"
     ]
    },
    {
     "name": "stderr",
     "output_type": "stream",
     "text": [
      "Epoch: 19, Best Epoch: 3, Best Recon MSE: 0.356068, Best Pred Metric [1.6918274,\n"
     ]
    },
    {
     "name": "stdout",
     "output_type": "stream",
     "text": [
      "Saving the last epoch with training MSE: 0.119571 and Pred Metric: [2.2521558, 2.2521558]\n",
      "Loaded the best model from Epoch: 3 with MSE: 0.356068 and Pred Metric: [1.6918274, 1.6918274]\n",
      "Beginning Training\n"
     ]
    },
    {
     "name": "stderr",
     "output_type": "stream",
     "text": [
      "Epoch: 39, Best Epoch: 39, Best Recon MSE: 0.107555, Best Pred Metric [0.3216842\n"
     ]
    },
    {
     "name": "stdout",
     "output_type": "stream",
     "text": [
      "Saving the last epoch with training MSE: 0.107555 and Pred Metric: [0.3216842, 0.3216842]\n",
      "Loaded the best model from Epoch: 39 with MSE: 0.107555 and Pred Metric: [0.3216842, 0.3216842]\n",
      "Beginning Training\n"
     ]
    },
    {
     "name": "stderr",
     "output_type": "stream",
     "text": [
      "Epoch: 59, Best Epoch: 59, Best Recon MSE: 0.106511, Best Pred Metric [0.1411141\n"
     ]
    },
    {
     "name": "stdout",
     "output_type": "stream",
     "text": [
      "Saving the last epoch with training MSE: 0.106511 and Pred Metric: [0.1411141, 0.1411141]\n",
      "Loaded the best model from Epoch: 59 with MSE: 0.106511 and Pred Metric: [0.1411141, 0.1411141]\n",
      "Run 2 \n",
      "=========================================\n",
      "Beginning Training\n"
     ]
    },
    {
     "name": "stderr",
     "output_type": "stream",
     "text": [
      "Epoch: 4, Best Epoch: 3, Best Recon MSE: 0.327934, Best Pred Metric [2.28452, 2.\n"
     ]
    },
    {
     "name": "stdout",
     "output_type": "stream",
     "text": [
      "Saving the last epoch with training MSE: 0.26786 and Pred Metric: [4.3353524, 4.3353524]\n",
      "Loaded the best model from Epoch: 3 with MSE: 0.327934 and Pred Metric: [2.28452, 2.28452]\n",
      "Beginning Training\n"
     ]
    },
    {
     "name": "stderr",
     "output_type": "stream",
     "text": [
      "Epoch: 9, Best Epoch: 9, Best Recon MSE: 0.140749, Best Pred Metric [7.224331, 7\n"
     ]
    },
    {
     "name": "stdout",
     "output_type": "stream",
     "text": [
      "Saving the last epoch with training MSE: 0.140749 and Pred Metric: [7.224331, 7.224331]\n",
      "Loaded the best model from Epoch: 9 with MSE: 0.140749 and Pred Metric: [7.224331, 7.224331]\n",
      "Beginning Training\n"
     ]
    },
    {
     "name": "stderr",
     "output_type": "stream",
     "text": [
      "Epoch: 19, Best Epoch: 19, Best Recon MSE: 0.120893, Best Pred Metric [3.1386514\n"
     ]
    },
    {
     "name": "stdout",
     "output_type": "stream",
     "text": [
      "Saving the last epoch with training MSE: 0.120893 and Pred Metric: [3.1386514, 3.1386514]\n",
      "Loaded the best model from Epoch: 19 with MSE: 0.120893 and Pred Metric: [3.1386514, 3.1386514]\n",
      "Beginning Training\n"
     ]
    },
    {
     "name": "stderr",
     "output_type": "stream",
     "text": [
      "Epoch: 39, Best Epoch: 39, Best Recon MSE: 0.12322, Best Pred Metric [2.3535244,\n"
     ]
    },
    {
     "name": "stdout",
     "output_type": "stream",
     "text": [
      "Saving the last epoch with training MSE: 0.12322 and Pred Metric: [2.3535244, 2.3535244]\n",
      "Loaded the best model from Epoch: 39 with MSE: 0.12322 and Pred Metric: [2.3535244, 2.3535244]\n",
      "Beginning Training\n"
     ]
    },
    {
     "name": "stderr",
     "output_type": "stream",
     "text": [
      "Epoch: 59, Best Epoch: 59, Best Recon MSE: 0.10501, Best Pred Metric [0.33572462\n"
     ]
    },
    {
     "name": "stdout",
     "output_type": "stream",
     "text": [
      "Saving the last epoch with training MSE: 0.10501 and Pred Metric: [0.33572462, 0.33572462]\n",
      "Loaded the best model from Epoch: 59 with MSE: 0.10501 and Pred Metric: [0.33572462, 0.33572462]\n",
      "Run 3 \n",
      "=========================================\n",
      "Beginning Training\n"
     ]
    },
    {
     "name": "stderr",
     "output_type": "stream",
     "text": [
      "Epoch: 4, Best Epoch: 1, Best Recon MSE: 0.404819, Best Pred Metric [8.065726, 8\n"
     ]
    },
    {
     "name": "stdout",
     "output_type": "stream",
     "text": [
      "Saving the last epoch with training MSE: 0.222868 and Pred Metric: [8.696706, 8.696706]\n",
      "Loaded the best model from Epoch: 1 with MSE: 0.404819 and Pred Metric: [8.065726, 8.065726]\n",
      "Beginning Training\n"
     ]
    },
    {
     "name": "stderr",
     "output_type": "stream",
     "text": [
      "Epoch: 9, Best Epoch: 3, Best Recon MSE: 0.344331, Best Pred Metric [3.5363822, \n"
     ]
    },
    {
     "name": "stdout",
     "output_type": "stream",
     "text": [
      "Saving the last epoch with training MSE: 0.138103 and Pred Metric: [6.327371, 6.327371]\n",
      "Loaded the best model from Epoch: 3 with MSE: 0.344331 and Pred Metric: [3.5363822, 3.5363822]\n",
      "Beginning Training\n"
     ]
    },
    {
     "name": "stderr",
     "output_type": "stream",
     "text": [
      "Epoch: 19, Best Epoch: 19, Best Recon MSE: 0.113101, Best Pred Metric [1.4434856\n"
     ]
    },
    {
     "name": "stdout",
     "output_type": "stream",
     "text": [
      "Saving the last epoch with training MSE: 0.113101 and Pred Metric: [1.4434856, 1.4434856]\n",
      "Loaded the best model from Epoch: 19 with MSE: 0.113101 and Pred Metric: [1.4434856, 1.4434856]\n",
      "Beginning Training\n"
     ]
    },
    {
     "name": "stderr",
     "output_type": "stream",
     "text": [
      "Epoch: 39, Best Epoch: 39, Best Recon MSE: 0.108783, Best Pred Metric [0.3924499\n"
     ]
    },
    {
     "name": "stdout",
     "output_type": "stream",
     "text": [
      "Saving the last epoch with training MSE: 0.108783 and Pred Metric: [0.39244995, 0.39244995]\n",
      "Loaded the best model from Epoch: 39 with MSE: 0.108783 and Pred Metric: [0.39244995, 0.39244995]\n",
      "Beginning Training\n"
     ]
    },
    {
     "name": "stderr",
     "output_type": "stream",
     "text": [
      "Epoch: 59, Best Epoch: 59, Best Recon MSE: 0.107747, Best Pred Metric [0.1604380\n"
     ]
    },
    {
     "name": "stdout",
     "output_type": "stream",
     "text": [
      "Saving the last epoch with training MSE: 0.107747 and Pred Metric: [0.16043802, 0.16043802]\n",
      "Loaded the best model from Epoch: 59 with MSE: 0.107747 and Pred Metric: [0.16043802, 0.16043802]\n",
      "Run 4 \n",
      "=========================================\n",
      "Beginning Training\n"
     ]
    },
    {
     "name": "stderr",
     "output_type": "stream",
     "text": [
      "Epoch: 4, Best Epoch: 2, Best Recon MSE: 0.313829, Best Pred Metric [8.419183, 8\n"
     ]
    },
    {
     "name": "stdout",
     "output_type": "stream",
     "text": [
      "Saving the last epoch with training MSE: 0.18909 and Pred Metric: [10.909192, 10.909192]\n",
      "Loaded the best model from Epoch: 2 with MSE: 0.313829 and Pred Metric: [8.419183, 8.419183]\n",
      "Beginning Training\n"
     ]
    },
    {
     "name": "stderr",
     "output_type": "stream",
     "text": [
      "Epoch: 9, Best Epoch: 9, Best Recon MSE: 0.13192, Best Pred Metric [4.9437237, 4\n"
     ]
    },
    {
     "name": "stdout",
     "output_type": "stream",
     "text": [
      "Saving the last epoch with training MSE: 0.13192 and Pred Metric: [4.9437237, 4.9437237]\n",
      "Loaded the best model from Epoch: 9 with MSE: 0.13192 and Pred Metric: [4.9437237, 4.9437237]\n",
      "Beginning Training\n"
     ]
    },
    {
     "name": "stderr",
     "output_type": "stream",
     "text": [
      "Epoch: 19, Best Epoch: 19, Best Recon MSE: 0.115245, Best Pred Metric [2.0488148\n"
     ]
    },
    {
     "name": "stdout",
     "output_type": "stream",
     "text": [
      "Saving the last epoch with training MSE: 0.115245 and Pred Metric: [2.0488148, 2.0488148]\n",
      "Loaded the best model from Epoch: 19 with MSE: 0.115245 and Pred Metric: [2.0488148, 2.0488148]\n",
      "Beginning Training\n"
     ]
    },
    {
     "name": "stderr",
     "output_type": "stream",
     "text": [
      "Epoch: 39, Best Epoch: 39, Best Recon MSE: 0.115056, Best Pred Metric [1.0659802\n"
     ]
    },
    {
     "name": "stdout",
     "output_type": "stream",
     "text": [
      "Saving the last epoch with training MSE: 0.115056 and Pred Metric: [1.0659802, 1.0659802]\n",
      "Loaded the best model from Epoch: 39 with MSE: 0.115056 and Pred Metric: [1.0659802, 1.0659802]\n",
      "Beginning Training\n"
     ]
    },
    {
     "name": "stderr",
     "output_type": "stream",
     "text": [
      "Epoch: 59, Best Epoch: 59, Best Recon MSE: 0.106248, Best Pred Metric [0.2374092\n"
     ]
    },
    {
     "name": "stdout",
     "output_type": "stream",
     "text": [
      "Saving the last epoch with training MSE: 0.106248 and Pred Metric: [0.2374092, 0.2374092]\n",
      "Loaded the best model from Epoch: 59 with MSE: 0.106248 and Pred Metric: [0.2374092, 0.2374092]\n",
      "Run 5 \n",
      "=========================================\n",
      "Beginning Training\n"
     ]
    },
    {
     "name": "stderr",
     "output_type": "stream",
     "text": [
      "Epoch: 4, Best Epoch: 2, Best Recon MSE: 0.36988, Best Pred Metric [5.742457, 5.\n"
     ]
    },
    {
     "name": "stdout",
     "output_type": "stream",
     "text": [
      "Saving the last epoch with training MSE: 0.23758 and Pred Metric: [6.9800663, 6.9800663]\n",
      "Loaded the best model from Epoch: 2 with MSE: 0.36988 and Pred Metric: [5.742457, 5.742457]\n",
      "Beginning Training\n"
     ]
    },
    {
     "name": "stderr",
     "output_type": "stream",
     "text": [
      "Epoch: 9, Best Epoch: 9, Best Recon MSE: 0.212069, Best Pred Metric [5.904693, 5\n"
     ]
    },
    {
     "name": "stdout",
     "output_type": "stream",
     "text": [
      "Saving the last epoch with training MSE: 0.212069 and Pred Metric: [5.904693, 5.904693]\n",
      "Loaded the best model from Epoch: 9 with MSE: 0.212069 and Pred Metric: [5.904693, 5.904693]\n",
      "Beginning Training\n"
     ]
    },
    {
     "name": "stderr",
     "output_type": "stream",
     "text": [
      "Epoch: 19, Best Epoch: 6, Best Recon MSE: 0.336706, Best Pred Metric [4.3765883,\n"
     ]
    },
    {
     "name": "stdout",
     "output_type": "stream",
     "text": [
      "Saving the last epoch with training MSE: 0.134207 and Pred Metric: [6.660725, 6.660725]\n",
      "Loaded the best model from Epoch: 6 with MSE: 0.336706 and Pred Metric: [4.3765883, 4.3765883]\n",
      "Beginning Training\n"
     ]
    },
    {
     "name": "stderr",
     "output_type": "stream",
     "text": [
      "Epoch: 39, Best Epoch: 39, Best Recon MSE: 0.109479, Best Pred Metric [1.5265329\n"
     ]
    },
    {
     "name": "stdout",
     "output_type": "stream",
     "text": [
      "Saving the last epoch with training MSE: 0.109479 and Pred Metric: [1.5265329, 1.5265329]\n",
      "Loaded the best model from Epoch: 39 with MSE: 0.109479 and Pred Metric: [1.5265329, 1.5265329]\n",
      "Beginning Training\n"
     ]
    },
    {
     "name": "stderr",
     "output_type": "stream",
     "text": [
      "Epoch: 59, Best Epoch: 59, Best Recon MSE: 0.108531, Best Pred Metric [0.1441430"
     ]
    },
    {
     "name": "stdout",
     "output_type": "stream",
     "text": [
      "Saving the last epoch with training MSE: 0.108531 and Pred Metric: [0.14414304, 0.14414304]\n",
      "Loaded the best model from Epoch: 59 with MSE: 0.108531 and Pred Metric: [0.14414304, 0.14414304]\n"
     ]
    },
    {
     "name": "stderr",
     "output_type": "stream",
     "text": [
      "\n"
     ]
    }
   ],
   "source": [
    "num_runs = 5\n",
    "z_m_dim = 2\n",
    "mcc_metrics_imavae = []\n",
    "num_epochs = [5,10,20,40,60]\n",
    "\n",
    "for i in range(num_runs):\n",
    "    print(f\"Run {i+1} \\n=========================================\")\n",
    "    mcc_metric = []\n",
    "    for idx, epochs in enumerate(num_epochs):\n",
    "        T, X, Z = data[z_m_dim]['T'], data[z_m_dim]['X'], data[z_m_dim]['Z'], \n",
    "        Y, W = data[z_m_dim]['Y'], data[z_m_dim]['W']\n",
    "        imavae = IMAVAE(n_components=z_m_dim, n_sup_networks=z_m_dim, n_hidden_layers=2, hidden_dim=25, \n",
    "                       optim_name='Adam', recon_weight=1., elbo_weight=1., sup_weight=1., anneal=False)\n",
    "        WT = np.concatenate([T,W], axis=1)\n",
    "        _ = imavae.fit(\n",
    "            X, WT, Y, X_val=X, aux_val=WT, y_val=Y, \n",
    "            lr=1e-5, n_epochs=epochs, pretrain=False, verbose=1\n",
    "        )\n",
    "        with torch.no_grad():\n",
    "            t0, t1 = torch.zeros(N, 1), torch.ones(N, 1)\n",
    "            t0, t1 = torch.cat([t0, torch.tensor(W).float()], dim=1), torch.cat([t1, torch.tensor(W).float()], dim=1)\n",
    "            z_m0_pred = imavae.prior_dist.sample(*imavae.ivae.prior_params(t0))\n",
    "            z_m1_pred = imavae.prior_dist.sample(*imavae.ivae.prior_params(t1))\n",
    "            # Estimated z_m for factual outcomes\n",
    "            z_m_pred = torch.stack([z_m0_pred[i,:] if T[i,0] == 0 else z_m1_pred[i,:] for i in range(N)])\n",
    "        mcc_metric.append(mcc(Z, z_m_pred.numpy()))\n",
    "    mcc_metrics_imavae.append(mcc_metric)"
   ]
  },
  {
   "cell_type": "markdown",
   "id": "b3160e33",
   "metadata": {},
   "source": [
    "## Fit regular VAE and $\\beta$-VAE with different number of training epochs and $d_Z = 2$"
   ]
  },
  {
   "cell_type": "code",
   "execution_count": 8,
   "id": "ca917c96",
   "metadata": {},
   "outputs": [
    {
     "name": "stdout",
     "output_type": "stream",
     "text": [
      "Run 1 \n",
      "=========================================\n",
      "Beginning Training\n"
     ]
    },
    {
     "name": "stderr",
     "output_type": "stream",
     "text": [
      "Epoch: 4, Best Epoch: 4, Best Recon MSE: 0.872311, Best Pred Metric [2.8776338, \n"
     ]
    },
    {
     "name": "stdout",
     "output_type": "stream",
     "text": [
      "Saving the last epoch with training MSE: 0.872311 and Pred Metric: [2.8776338, 2.8776338]\n",
      "Loaded the best model from Epoch: 4 with MSE: 0.872311 and Pred Metric: [2.8776338, 2.8776338]\n",
      "Beginning Training\n"
     ]
    },
    {
     "name": "stderr",
     "output_type": "stream",
     "text": [
      "Epoch: 9, Best Epoch: 9, Best Recon MSE: 0.365356, Best Pred Metric [1.1253715, \n"
     ]
    },
    {
     "name": "stdout",
     "output_type": "stream",
     "text": [
      "Saving the last epoch with training MSE: 0.365356 and Pred Metric: [1.1253715, 1.1253715]\n",
      "Loaded the best model from Epoch: 9 with MSE: 0.365356 and Pred Metric: [1.1253715, 1.1253715]\n",
      "Beginning Training\n"
     ]
    },
    {
     "name": "stderr",
     "output_type": "stream",
     "text": [
      "Epoch: 19, Best Epoch: 19, Best Recon MSE: 0.158422, Best Pred Metric [3.0361817\n"
     ]
    },
    {
     "name": "stdout",
     "output_type": "stream",
     "text": [
      "Saving the last epoch with training MSE: 0.158422 and Pred Metric: [3.0361817, 3.0361817]\n",
      "Loaded the best model from Epoch: 19 with MSE: 0.158422 and Pred Metric: [3.0361817, 3.0361817]\n",
      "Beginning Training\n"
     ]
    },
    {
     "name": "stderr",
     "output_type": "stream",
     "text": [
      "Epoch: 39, Best Epoch: 39, Best Recon MSE: 0.125725, Best Pred Metric [0.8301663\n"
     ]
    },
    {
     "name": "stdout",
     "output_type": "stream",
     "text": [
      "Saving the last epoch with training MSE: 0.125725 and Pred Metric: [0.8301663, 0.8301663]\n",
      "Loaded the best model from Epoch: 39 with MSE: 0.125725 and Pred Metric: [0.8301663, 0.8301663]\n",
      "Beginning Training\n"
     ]
    },
    {
     "name": "stderr",
     "output_type": "stream",
     "text": [
      "Epoch: 59, Best Epoch: 59, Best Recon MSE: 0.124357, Best Pred Metric [0.2941624\n"
     ]
    },
    {
     "name": "stdout",
     "output_type": "stream",
     "text": [
      "Saving the last epoch with training MSE: 0.124357 and Pred Metric: [0.29416242, 0.29416242]\n",
      "Loaded the best model from Epoch: 59 with MSE: 0.124357 and Pred Metric: [0.29416242, 0.29416242]\n",
      "Run 2 \n",
      "=========================================\n",
      "Beginning Training\n"
     ]
    },
    {
     "name": "stderr",
     "output_type": "stream",
     "text": [
      "Epoch: 4, Best Epoch: 4, Best Recon MSE: 0.895213, Best Pred Metric [11.0318985,\n"
     ]
    },
    {
     "name": "stdout",
     "output_type": "stream",
     "text": [
      "Saving the last epoch with training MSE: 0.895213 and Pred Metric: [11.0318985, 11.0318985]\n",
      "Loaded the best model from Epoch: 4 with MSE: 0.895213 and Pred Metric: [11.0318985, 11.0318985]\n",
      "Beginning Training\n"
     ]
    },
    {
     "name": "stderr",
     "output_type": "stream",
     "text": [
      "Epoch: 9, Best Epoch: 9, Best Recon MSE: 0.371362, Best Pred Metric [5.605875, 5\n"
     ]
    },
    {
     "name": "stdout",
     "output_type": "stream",
     "text": [
      "Saving the last epoch with training MSE: 0.371362 and Pred Metric: [5.605875, 5.605875]\n",
      "Loaded the best model from Epoch: 9 with MSE: 0.371362 and Pred Metric: [5.605875, 5.605875]\n",
      "Beginning Training\n"
     ]
    },
    {
     "name": "stderr",
     "output_type": "stream",
     "text": [
      "Epoch: 19, Best Epoch: 19, Best Recon MSE: 0.208317, Best Pred Metric [2.1391933\n"
     ]
    },
    {
     "name": "stdout",
     "output_type": "stream",
     "text": [
      "Saving the last epoch with training MSE: 0.208317 and Pred Metric: [2.1391933, 2.1391933]\n",
      "Loaded the best model from Epoch: 19 with MSE: 0.208317 and Pred Metric: [2.1391933, 2.1391933]\n",
      "Beginning Training\n"
     ]
    },
    {
     "name": "stderr",
     "output_type": "stream",
     "text": [
      "Epoch: 39, Best Epoch: 39, Best Recon MSE: 0.15647, Best Pred Metric [0.36577913\n"
     ]
    },
    {
     "name": "stdout",
     "output_type": "stream",
     "text": [
      "Saving the last epoch with training MSE: 0.15647 and Pred Metric: [0.36577913, 0.36577913]\n",
      "Loaded the best model from Epoch: 39 with MSE: 0.15647 and Pred Metric: [0.36577913, 0.36577913]\n",
      "Beginning Training\n"
     ]
    },
    {
     "name": "stderr",
     "output_type": "stream",
     "text": [
      "Epoch: 59, Best Epoch: 59, Best Recon MSE: 0.115275, Best Pred Metric [0.2436290\n"
     ]
    },
    {
     "name": "stdout",
     "output_type": "stream",
     "text": [
      "Saving the last epoch with training MSE: 0.115275 and Pred Metric: [0.24362902, 0.24362902]\n",
      "Loaded the best model from Epoch: 59 with MSE: 0.115275 and Pred Metric: [0.24362902, 0.24362902]\n",
      "Run 3 \n",
      "=========================================\n",
      "Beginning Training\n"
     ]
    },
    {
     "name": "stderr",
     "output_type": "stream",
     "text": [
      "Epoch: 4, Best Epoch: 4, Best Recon MSE: 0.49115, Best Pred Metric [13.28558, 13\n"
     ]
    },
    {
     "name": "stdout",
     "output_type": "stream",
     "text": [
      "Saving the last epoch with training MSE: 0.49115 and Pred Metric: [13.28558, 13.28558]\n",
      "Loaded the best model from Epoch: 4 with MSE: 0.49115 and Pred Metric: [13.28558, 13.28558]\n",
      "Beginning Training\n"
     ]
    },
    {
     "name": "stderr",
     "output_type": "stream",
     "text": [
      "Epoch: 9, Best Epoch: 9, Best Recon MSE: 0.340141, Best Pred Metric [11.351955, \n"
     ]
    },
    {
     "name": "stdout",
     "output_type": "stream",
     "text": [
      "Saving the last epoch with training MSE: 0.340141 and Pred Metric: [11.351955, 11.351955]\n",
      "Loaded the best model from Epoch: 9 with MSE: 0.340141 and Pred Metric: [11.351955, 11.351955]\n",
      "Beginning Training\n"
     ]
    },
    {
     "name": "stderr",
     "output_type": "stream",
     "text": [
      "Epoch: 19, Best Epoch: 19, Best Recon MSE: 0.197681, Best Pred Metric [0.5947509\n"
     ]
    },
    {
     "name": "stdout",
     "output_type": "stream",
     "text": [
      "Saving the last epoch with training MSE: 0.197681 and Pred Metric: [0.5947509, 0.5947509]\n",
      "Loaded the best model from Epoch: 19 with MSE: 0.197681 and Pred Metric: [0.5947509, 0.5947509]\n",
      "Beginning Training\n"
     ]
    },
    {
     "name": "stderr",
     "output_type": "stream",
     "text": [
      "Epoch: 39, Best Epoch: 39, Best Recon MSE: 0.125713, Best Pred Metric [1.6599469\n"
     ]
    },
    {
     "name": "stdout",
     "output_type": "stream",
     "text": [
      "Saving the last epoch with training MSE: 0.125713 and Pred Metric: [1.6599469, 1.6599469]\n",
      "Loaded the best model from Epoch: 39 with MSE: 0.125713 and Pred Metric: [1.6599469, 1.6599469]\n",
      "Beginning Training\n"
     ]
    },
    {
     "name": "stderr",
     "output_type": "stream",
     "text": [
      "Epoch: 59, Best Epoch: 59, Best Recon MSE: 0.113738, Best Pred Metric [0.1699256\n"
     ]
    },
    {
     "name": "stdout",
     "output_type": "stream",
     "text": [
      "Saving the last epoch with training MSE: 0.113738 and Pred Metric: [0.1699256, 0.1699256]\n",
      "Loaded the best model from Epoch: 59 with MSE: 0.113738 and Pred Metric: [0.1699256, 0.1699256]\n",
      "Run 4 \n",
      "=========================================\n",
      "Beginning Training\n"
     ]
    },
    {
     "name": "stderr",
     "output_type": "stream",
     "text": [
      "Epoch: 4, Best Epoch: 4, Best Recon MSE: 0.920067, Best Pred Metric [13.499884, \n"
     ]
    },
    {
     "name": "stdout",
     "output_type": "stream",
     "text": [
      "Saving the last epoch with training MSE: 0.920067 and Pred Metric: [13.499884, 13.499884]\n",
      "Loaded the best model from Epoch: 4 with MSE: 0.920067 and Pred Metric: [13.499884, 13.499884]\n",
      "Beginning Training\n"
     ]
    },
    {
     "name": "stderr",
     "output_type": "stream",
     "text": [
      "Epoch: 9, Best Epoch: 9, Best Recon MSE: 0.362638, Best Pred Metric [4.6259475, \n"
     ]
    },
    {
     "name": "stdout",
     "output_type": "stream",
     "text": [
      "Saving the last epoch with training MSE: 0.362638 and Pred Metric: [4.6259475, 4.6259475]\n",
      "Loaded the best model from Epoch: 9 with MSE: 0.362638 and Pred Metric: [4.6259475, 4.6259475]\n",
      "Beginning Training\n"
     ]
    },
    {
     "name": "stderr",
     "output_type": "stream",
     "text": [
      "Epoch: 19, Best Epoch: 19, Best Recon MSE: 0.187996, Best Pred Metric [1.3980647\n"
     ]
    },
    {
     "name": "stdout",
     "output_type": "stream",
     "text": [
      "Saving the last epoch with training MSE: 0.187996 and Pred Metric: [1.3980647, 1.3980647]\n",
      "Loaded the best model from Epoch: 19 with MSE: 0.187996 and Pred Metric: [1.3980647, 1.3980647]\n",
      "Beginning Training\n"
     ]
    },
    {
     "name": "stderr",
     "output_type": "stream",
     "text": [
      "Epoch: 39, Best Epoch: 39, Best Recon MSE: 0.122707, Best Pred Metric [2.3542068\n"
     ]
    },
    {
     "name": "stdout",
     "output_type": "stream",
     "text": [
      "Saving the last epoch with training MSE: 0.122707 and Pred Metric: [2.3542068, 2.3542068]\n",
      "Loaded the best model from Epoch: 39 with MSE: 0.122707 and Pred Metric: [2.3542068, 2.3542068]\n",
      "Beginning Training\n"
     ]
    },
    {
     "name": "stderr",
     "output_type": "stream",
     "text": [
      "Epoch: 59, Best Epoch: 59, Best Recon MSE: 0.115142, Best Pred Metric [0.4206919\n"
     ]
    },
    {
     "name": "stdout",
     "output_type": "stream",
     "text": [
      "Saving the last epoch with training MSE: 0.115142 and Pred Metric: [0.42069197, 0.42069197]\n",
      "Loaded the best model from Epoch: 59 with MSE: 0.115142 and Pred Metric: [0.42069197, 0.42069197]\n",
      "Run 5 \n",
      "=========================================\n",
      "Beginning Training\n"
     ]
    },
    {
     "name": "stderr",
     "output_type": "stream",
     "text": [
      "Epoch: 4, Best Epoch: 4, Best Recon MSE: 0.609539, Best Pred Metric [4.3172545, \n"
     ]
    },
    {
     "name": "stdout",
     "output_type": "stream",
     "text": [
      "Saving the last epoch with training MSE: 0.609539 and Pred Metric: [4.3172545, 4.3172545]\n",
      "Loaded the best model from Epoch: 4 with MSE: 0.609539 and Pred Metric: [4.3172545, 4.3172545]\n",
      "Beginning Training\n"
     ]
    },
    {
     "name": "stderr",
     "output_type": "stream",
     "text": [
      "Epoch: 9, Best Epoch: 9, Best Recon MSE: 0.361996, Best Pred Metric [4.324845, 4\n"
     ]
    },
    {
     "name": "stdout",
     "output_type": "stream",
     "text": [
      "Saving the last epoch with training MSE: 0.361996 and Pred Metric: [4.324845, 4.324845]\n",
      "Loaded the best model from Epoch: 9 with MSE: 0.361996 and Pred Metric: [4.324845, 4.324845]\n",
      "Beginning Training\n"
     ]
    },
    {
     "name": "stderr",
     "output_type": "stream",
     "text": [
      "Epoch: 19, Best Epoch: 19, Best Recon MSE: 0.182468, Best Pred Metric [2.726699,\n"
     ]
    },
    {
     "name": "stdout",
     "output_type": "stream",
     "text": [
      "Saving the last epoch with training MSE: 0.182468 and Pred Metric: [2.726699, 2.726699]\n",
      "Loaded the best model from Epoch: 19 with MSE: 0.182468 and Pred Metric: [2.726699, 2.726699]\n",
      "Beginning Training\n"
     ]
    },
    {
     "name": "stderr",
     "output_type": "stream",
     "text": [
      "Epoch: 39, Best Epoch: 39, Best Recon MSE: 0.147942, Best Pred Metric [0.6060753\n"
     ]
    },
    {
     "name": "stdout",
     "output_type": "stream",
     "text": [
      "Saving the last epoch with training MSE: 0.147942 and Pred Metric: [0.60607535, 0.60607535]\n",
      "Loaded the best model from Epoch: 39 with MSE: 0.147942 and Pred Metric: [0.60607535, 0.60607535]\n",
      "Beginning Training\n"
     ]
    },
    {
     "name": "stderr",
     "output_type": "stream",
     "text": [
      "Epoch: 59, Best Epoch: 59, Best Recon MSE: 0.114224, Best Pred Metric [0.8000781"
     ]
    },
    {
     "name": "stdout",
     "output_type": "stream",
     "text": [
      "Saving the last epoch with training MSE: 0.114224 and Pred Metric: [0.80007815, 0.80007815]\n",
      "Loaded the best model from Epoch: 59 with MSE: 0.114224 and Pred Metric: [0.80007815, 0.80007815]\n"
     ]
    },
    {
     "name": "stderr",
     "output_type": "stream",
     "text": [
      "\n"
     ]
    }
   ],
   "source": [
    "# VAE\n",
    "num_runs = 5\n",
    "z_m_dim = 2\n",
    "mcc_metrics_vae = []\n",
    "num_epochs = [5,10,20,40,60]\n",
    "\n",
    "for i in range(num_runs):\n",
    "    print(f\"Run {i+1} \\n=========================================\")\n",
    "    mcc_metric = []\n",
    "    for idx, epochs in enumerate(num_epochs):\n",
    "        T, X, Z = data[z_m_dim]['T'], data[z_m_dim]['X'], data[z_m_dim]['Z'], \n",
    "        Y, W = data[z_m_dim]['Y'], data[z_m_dim]['W']\n",
    "        imavae = IMAVAE(n_components=z_m_dim, n_sup_networks=z_m_dim, n_hidden_layers=2, hidden_dim=25, \n",
    "                        optim_name='Adam', recon_weight=1., elbo_weight=1., sup_weight=1., \n",
    "                        identifiable=False, prior_scale=0.01, anneal=False)\n",
    "        WT = np.concatenate([T,W], axis=1)\n",
    "        _ = imavae.fit(\n",
    "            X, WT, Y, X_val=X, aux_val=WT, y_val=Y, \n",
    "            lr=1e-5, n_epochs=epochs, pretrain=False, verbose=1\n",
    "        )\n",
    "        with torch.no_grad():\n",
    "            t0, t1 = torch.zeros(N, 1), torch.ones(N, 1)\n",
    "            t0, t1 = torch.cat([t0, torch.tensor(W).float()], dim=1), torch.cat([t1, torch.tensor(W).float()], dim=1)\n",
    "            z_m0_pred = imavae.prior_dist.sample(*imavae.ivae.prior_params(), size=N)\n",
    "            z_m1_pred = imavae.prior_dist.sample(*imavae.ivae.prior_params(), size=N)\n",
    "            # Estimated z_m for factual outcomes\n",
    "            z_m_pred = torch.stack([z_m0_pred[i,:] if T[i,0] == 0 else z_m1_pred[i,:] for i in range(N)])\n",
    "        mcc_metric.append(mcc(Z, z_m_pred.numpy()))\n",
    "    mcc_metrics_vae.append(mcc_metric)"
   ]
  },
  {
   "cell_type": "code",
   "execution_count": 9,
   "id": "ab816415",
   "metadata": {},
   "outputs": [
    {
     "name": "stdout",
     "output_type": "stream",
     "text": [
      "Run 1 \n",
      "=========================================\n",
      "Beginning Training\n"
     ]
    },
    {
     "name": "stderr",
     "output_type": "stream",
     "text": [
      "Epoch: 4, Best Epoch: 4, Best Recon MSE: 0.999961, Best Pred Metric [4.353947, 4\n"
     ]
    },
    {
     "name": "stdout",
     "output_type": "stream",
     "text": [
      "Saving the last epoch with training MSE: 0.999961 and Pred Metric: [4.353947, 4.353947]\n",
      "Loaded the best model from Epoch: 4 with MSE: 0.999961 and Pred Metric: [4.353947, 4.353947]\n",
      "Beginning Training\n"
     ]
    },
    {
     "name": "stderr",
     "output_type": "stream",
     "text": [
      "Epoch: 9, Best Epoch: 9, Best Recon MSE: 0.998442, Best Pred Metric [5.6870494, \n"
     ]
    },
    {
     "name": "stdout",
     "output_type": "stream",
     "text": [
      "Saving the last epoch with training MSE: 0.998442 and Pred Metric: [5.6870494, 5.6870494]\n",
      "Loaded the best model from Epoch: 9 with MSE: 0.998442 and Pred Metric: [5.6870494, 5.6870494]\n",
      "Beginning Training\n"
     ]
    },
    {
     "name": "stderr",
     "output_type": "stream",
     "text": [
      "Epoch: 19, Best Epoch: 19, Best Recon MSE: 0.997534, Best Pred Metric [1.512909,\n"
     ]
    },
    {
     "name": "stdout",
     "output_type": "stream",
     "text": [
      "Saving the last epoch with training MSE: 0.997534 and Pred Metric: [1.512909, 1.512909]\n",
      "Loaded the best model from Epoch: 19 with MSE: 0.997534 and Pred Metric: [1.512909, 1.512909]\n",
      "Beginning Training\n"
     ]
    },
    {
     "name": "stderr",
     "output_type": "stream",
     "text": [
      "Epoch: 39, Best Epoch: 38, Best Recon MSE: 0.190359, Best Pred Metric [0.4155896\n"
     ]
    },
    {
     "name": "stdout",
     "output_type": "stream",
     "text": [
      "Saving the last epoch with training MSE: 0.192369 and Pred Metric: [0.42521998, 0.42521998]\n",
      "Loaded the best model from Epoch: 38 with MSE: 0.190359 and Pred Metric: [0.41558963, 0.41558963]\n",
      "Beginning Training\n"
     ]
    },
    {
     "name": "stderr",
     "output_type": "stream",
     "text": [
      "Epoch: 59, Best Epoch: 59, Best Recon MSE: 0.127101, Best Pred Metric [0.1970258\n"
     ]
    },
    {
     "name": "stdout",
     "output_type": "stream",
     "text": [
      "Saving the last epoch with training MSE: 0.127101 and Pred Metric: [0.19702584, 0.19702584]\n",
      "Loaded the best model from Epoch: 59 with MSE: 0.127101 and Pred Metric: [0.19702584, 0.19702584]\n",
      "Run 2 \n",
      "=========================================\n",
      "Beginning Training\n"
     ]
    },
    {
     "name": "stderr",
     "output_type": "stream",
     "text": [
      "Epoch: 4, Best Epoch: 4, Best Recon MSE: 0.993317, Best Pred Metric [10.411683, \n"
     ]
    },
    {
     "name": "stdout",
     "output_type": "stream",
     "text": [
      "Saving the last epoch with training MSE: 0.993317 and Pred Metric: [10.411683, 10.411683]\n",
      "Loaded the best model from Epoch: 4 with MSE: 0.993317 and Pred Metric: [10.411683, 10.411683]\n",
      "Beginning Training\n"
     ]
    },
    {
     "name": "stderr",
     "output_type": "stream",
     "text": [
      "Epoch: 9, Best Epoch: 9, Best Recon MSE: 0.891248, Best Pred Metric [4.40108, 4.\n"
     ]
    },
    {
     "name": "stdout",
     "output_type": "stream",
     "text": [
      "Saving the last epoch with training MSE: 0.891248 and Pred Metric: [4.40108, 4.40108]\n",
      "Loaded the best model from Epoch: 9 with MSE: 0.891248 and Pred Metric: [4.40108, 4.40108]\n",
      "Beginning Training\n"
     ]
    },
    {
     "name": "stderr",
     "output_type": "stream",
     "text": [
      "Epoch: 19, Best Epoch: 19, Best Recon MSE: 0.370451, Best Pred Metric [5.094436,\n"
     ]
    },
    {
     "name": "stdout",
     "output_type": "stream",
     "text": [
      "Saving the last epoch with training MSE: 0.370451 and Pred Metric: [5.094436, 5.094436]\n",
      "Loaded the best model from Epoch: 19 with MSE: 0.370451 and Pred Metric: [5.094436, 5.094436]\n",
      "Beginning Training\n"
     ]
    },
    {
     "name": "stderr",
     "output_type": "stream",
     "text": [
      "Epoch: 39, Best Epoch: 39, Best Recon MSE: 0.210856, Best Pred Metric [0.6446602\n"
     ]
    },
    {
     "name": "stdout",
     "output_type": "stream",
     "text": [
      "Saving the last epoch with training MSE: 0.210856 and Pred Metric: [0.6446602, 0.6446602]\n",
      "Loaded the best model from Epoch: 39 with MSE: 0.210856 and Pred Metric: [0.6446602, 0.6446602]\n",
      "Beginning Training\n"
     ]
    },
    {
     "name": "stderr",
     "output_type": "stream",
     "text": [
      "Epoch: 59, Best Epoch: 59, Best Recon MSE: 0.145923, Best Pred Metric [0.2243277\n"
     ]
    },
    {
     "name": "stdout",
     "output_type": "stream",
     "text": [
      "Saving the last epoch with training MSE: 0.145923 and Pred Metric: [0.22432777, 0.22432777]\n",
      "Loaded the best model from Epoch: 59 with MSE: 0.145923 and Pred Metric: [0.22432777, 0.22432777]\n",
      "Run 3 \n",
      "=========================================\n",
      "Beginning Training\n"
     ]
    },
    {
     "name": "stderr",
     "output_type": "stream",
     "text": [
      "Epoch: 4, Best Epoch: 4, Best Recon MSE: 1.00041, Best Pred Metric [10.298789, 1\n"
     ]
    },
    {
     "name": "stdout",
     "output_type": "stream",
     "text": [
      "Saving the last epoch with training MSE: 1.00041 and Pred Metric: [10.298789, 10.298789]\n",
      "Loaded the best model from Epoch: 4 with MSE: 1.00041 and Pred Metric: [10.298789, 10.298789]\n",
      "Beginning Training\n"
     ]
    },
    {
     "name": "stderr",
     "output_type": "stream",
     "text": [
      "Epoch: 9, Best Epoch: 9, Best Recon MSE: 0.999447, Best Pred Metric [2.0968122, \n"
     ]
    },
    {
     "name": "stdout",
     "output_type": "stream",
     "text": [
      "Saving the last epoch with training MSE: 0.999447 and Pred Metric: [2.0968122, 2.0968122]\n",
      "Loaded the best model from Epoch: 9 with MSE: 0.999447 and Pred Metric: [2.0968122, 2.0968122]\n",
      "Beginning Training\n"
     ]
    },
    {
     "name": "stderr",
     "output_type": "stream",
     "text": [
      "Epoch: 19, Best Epoch: 19, Best Recon MSE: 0.36231, Best Pred Metric [2.1734202,\n"
     ]
    },
    {
     "name": "stdout",
     "output_type": "stream",
     "text": [
      "Saving the last epoch with training MSE: 0.36231 and Pred Metric: [2.1734202, 2.1734202]\n",
      "Loaded the best model from Epoch: 19 with MSE: 0.36231 and Pred Metric: [2.1734202, 2.1734202]\n",
      "Beginning Training\n"
     ]
    },
    {
     "name": "stderr",
     "output_type": "stream",
     "text": [
      "Epoch: 39, Best Epoch: 39, Best Recon MSE: 0.294673, Best Pred Metric [0.7267722\n"
     ]
    },
    {
     "name": "stdout",
     "output_type": "stream",
     "text": [
      "Saving the last epoch with training MSE: 0.294673 and Pred Metric: [0.7267722, 0.7267722]\n",
      "Loaded the best model from Epoch: 39 with MSE: 0.294673 and Pred Metric: [0.7267722, 0.7267722]\n",
      "Beginning Training\n"
     ]
    },
    {
     "name": "stderr",
     "output_type": "stream",
     "text": [
      "Epoch: 59, Best Epoch: 59, Best Recon MSE: 0.13734, Best Pred Metric [0.69007355\n"
     ]
    },
    {
     "name": "stdout",
     "output_type": "stream",
     "text": [
      "Saving the last epoch with training MSE: 0.13734 and Pred Metric: [0.69007355, 0.69007355]\n",
      "Loaded the best model from Epoch: 59 with MSE: 0.13734 and Pred Metric: [0.69007355, 0.69007355]\n",
      "Run 4 \n",
      "=========================================\n",
      "Beginning Training\n"
     ]
    },
    {
     "name": "stderr",
     "output_type": "stream",
     "text": [
      "Epoch: 4, Best Epoch: 4, Best Recon MSE: 1.00013, Best Pred Metric [9.76992, 9.7\n"
     ]
    },
    {
     "name": "stdout",
     "output_type": "stream",
     "text": [
      "Saving the last epoch with training MSE: 1.00013 and Pred Metric: [9.76992, 9.76992]\n",
      "Loaded the best model from Epoch: 4 with MSE: 1.00013 and Pred Metric: [9.76992, 9.76992]\n",
      "Beginning Training\n"
     ]
    },
    {
     "name": "stderr",
     "output_type": "stream",
     "text": [
      "Epoch: 9, Best Epoch: 9, Best Recon MSE: 0.998594, Best Pred Metric [8.09473, 8.\n"
     ]
    },
    {
     "name": "stdout",
     "output_type": "stream",
     "text": [
      "Saving the last epoch with training MSE: 0.998594 and Pred Metric: [8.09473, 8.09473]\n",
      "Loaded the best model from Epoch: 9 with MSE: 0.998594 and Pred Metric: [8.09473, 8.09473]\n",
      "Beginning Training\n"
     ]
    },
    {
     "name": "stderr",
     "output_type": "stream",
     "text": [
      "Epoch: 19, Best Epoch: 19, Best Recon MSE: 0.367543, Best Pred Metric [2.8050125\n"
     ]
    },
    {
     "name": "stdout",
     "output_type": "stream",
     "text": [
      "Saving the last epoch with training MSE: 0.367543 and Pred Metric: [2.8050125, 2.8050125]\n",
      "Loaded the best model from Epoch: 19 with MSE: 0.367543 and Pred Metric: [2.8050125, 2.8050125]\n",
      "Beginning Training\n"
     ]
    },
    {
     "name": "stderr",
     "output_type": "stream",
     "text": [
      "Epoch: 39, Best Epoch: 39, Best Recon MSE: 0.265058, Best Pred Metric [0.5876202\n"
     ]
    },
    {
     "name": "stdout",
     "output_type": "stream",
     "text": [
      "Saving the last epoch with training MSE: 0.265058 and Pred Metric: [0.58762026, 0.58762026]\n",
      "Loaded the best model from Epoch: 39 with MSE: 0.265058 and Pred Metric: [0.58762026, 0.58762026]\n",
      "Beginning Training\n"
     ]
    },
    {
     "name": "stderr",
     "output_type": "stream",
     "text": [
      "Epoch: 59, Best Epoch: 59, Best Recon MSE: 0.128259, Best Pred Metric [0.2694014\n"
     ]
    },
    {
     "name": "stdout",
     "output_type": "stream",
     "text": [
      "Saving the last epoch with training MSE: 0.128259 and Pred Metric: [0.2694014, 0.2694014]\n",
      "Loaded the best model from Epoch: 59 with MSE: 0.128259 and Pred Metric: [0.2694014, 0.2694014]\n",
      "Run 5 \n",
      "=========================================\n",
      "Beginning Training\n"
     ]
    },
    {
     "name": "stderr",
     "output_type": "stream",
     "text": [
      "Epoch: 4, Best Epoch: 4, Best Recon MSE: 0.998065, Best Pred Metric [8.218791, 8\n"
     ]
    },
    {
     "name": "stdout",
     "output_type": "stream",
     "text": [
      "Saving the last epoch with training MSE: 0.998065 and Pred Metric: [8.218791, 8.218791]\n",
      "Loaded the best model from Epoch: 4 with MSE: 0.998065 and Pred Metric: [8.218791, 8.218791]\n",
      "Beginning Training\n"
     ]
    },
    {
     "name": "stderr",
     "output_type": "stream",
     "text": [
      "Epoch: 9, Best Epoch: 9, Best Recon MSE: 0.996171, Best Pred Metric [7.829873, 7\n"
     ]
    },
    {
     "name": "stdout",
     "output_type": "stream",
     "text": [
      "Saving the last epoch with training MSE: 0.996171 and Pred Metric: [7.829873, 7.829873]\n",
      "Loaded the best model from Epoch: 9 with MSE: 0.996171 and Pred Metric: [7.829873, 7.829873]\n",
      "Beginning Training\n"
     ]
    },
    {
     "name": "stderr",
     "output_type": "stream",
     "text": [
      "Epoch: 19, Best Epoch: 19, Best Recon MSE: 0.369814, Best Pred Metric [2.608542,\n"
     ]
    },
    {
     "name": "stdout",
     "output_type": "stream",
     "text": [
      "Saving the last epoch with training MSE: 0.369814 and Pred Metric: [2.608542, 2.608542]\n",
      "Loaded the best model from Epoch: 19 with MSE: 0.369814 and Pred Metric: [2.608542, 2.608542]\n",
      "Beginning Training\n"
     ]
    },
    {
     "name": "stderr",
     "output_type": "stream",
     "text": [
      "Epoch: 39, Best Epoch: 39, Best Recon MSE: 0.183446, Best Pred Metric [0.4143953\n"
     ]
    },
    {
     "name": "stdout",
     "output_type": "stream",
     "text": [
      "Saving the last epoch with training MSE: 0.183446 and Pred Metric: [0.41439533, 0.41439533]\n",
      "Loaded the best model from Epoch: 39 with MSE: 0.183446 and Pred Metric: [0.41439533, 0.41439533]\n",
      "Beginning Training\n"
     ]
    },
    {
     "name": "stderr",
     "output_type": "stream",
     "text": [
      "Epoch: 59, Best Epoch: 59, Best Recon MSE: 0.135535, Best Pred Metric [0.2174168"
     ]
    },
    {
     "name": "stdout",
     "output_type": "stream",
     "text": [
      "Saving the last epoch with training MSE: 0.135535 and Pred Metric: [0.21741681, 0.21741681]\n",
      "Loaded the best model from Epoch: 59 with MSE: 0.135535 and Pred Metric: [0.21741681, 0.21741681]\n"
     ]
    },
    {
     "name": "stderr",
     "output_type": "stream",
     "text": [
      "\n"
     ]
    }
   ],
   "source": [
    "# beta-VAE\n",
    "num_runs = 5\n",
    "z_m_dim = 2\n",
    "mcc_metrics_beta_vae = []\n",
    "num_epochs = [5,10,20,40,60]\n",
    "\n",
    "for i in range(num_runs):\n",
    "    print(f\"Run {i+1} \\n=========================================\")\n",
    "    mcc_metric = []\n",
    "    for idx, epochs in enumerate(num_epochs):\n",
    "        T, X, Z = data[z_m_dim]['T'], data[z_m_dim]['X'], data[z_m_dim]['Z'], \n",
    "        Y, W = data[z_m_dim]['Y'], data[z_m_dim]['W']\n",
    "        imavae = IMAVAE(n_components=z_m_dim, n_sup_networks=z_m_dim, n_hidden_layers=2, hidden_dim=25, \n",
    "                        optim_name='Adam', recon_weight=1., elbo_weight=1., sup_weight=1., \n",
    "                        identifiable=False, beta=4.0, prior_scale=0.01, anneal=False)\n",
    "        WT = np.concatenate([T,W], axis=1)\n",
    "        _ = imavae.fit(\n",
    "            X, WT, Y, X_val=X, aux_val=WT, y_val=Y, \n",
    "            lr=1e-5, n_epochs=epochs, pretrain=False, verbose=1\n",
    "        )\n",
    "        with torch.no_grad():\n",
    "            t0, t1 = torch.zeros(N, 1), torch.ones(N, 1)\n",
    "            t0, t1 = torch.cat([t0, torch.tensor(W).float()], dim=1), torch.cat([t1, torch.tensor(W).float()], dim=1)\n",
    "            z_m0_pred = imavae.prior_dist.sample(*imavae.ivae.prior_params(), size=N)\n",
    "            z_m1_pred = imavae.prior_dist.sample(*imavae.ivae.prior_params(), size=N)\n",
    "            # Estimated z_m for factual outcomes\n",
    "            z_m_pred = torch.stack([z_m0_pred[i,:] if T[i,0] == 0 else z_m1_pred[i,:] for i in range(N)])\n",
    "        mcc_metric.append(mcc(Z, z_m_pred.numpy()))\n",
    "    mcc_metrics_beta_vae.append(mcc_metric)"
   ]
  },
  {
   "cell_type": "markdown",
   "id": "f035877f",
   "metadata": {},
   "source": [
    "## Compare mean correlation coefficients for varying number of training epochs"
   ]
  },
  {
   "cell_type": "code",
   "execution_count": 16,
   "id": "dc42b45f",
   "metadata": {},
   "outputs": [
    {
     "data": {
      "image/png": "[encoded data removed]",
      "text/plain": [
       "<Figure size 504x432 with 1 Axes>"
      ]
     },
     "metadata": {
      "needs_background": "light"
     },
     "output_type": "display_data"
    }
   ],
   "source": [
    "mcc_metrics_imavae = np.array(mcc_metrics_imavae)\n",
    "mcc_metrics_vae = np.array(mcc_metrics_vae)\n",
    "mcc_metrics_beta_vae = np.array(mcc_metrics_beta_vae)\n",
    "\n",
    "fig, ax = plt.subplots(1, 1, figsize=(7,6))\n",
    "ax.plot(num_epochs, np.mean(mcc_metrics_imavae,axis=0), color='blue', lw=2, marker='.', markersize=12, label='IMAVAE')\n",
    "ax.plot(num_epochs, np.mean(mcc_metrics_vae,axis=0), color='red', lw=2, marker='^', markersize=12, label='VAE')\n",
    "ax.plot(num_epochs, np.mean(mcc_metrics_beta_vae,axis=0), color='orange', lw=2, marker='*', markersize=12, label=r'$\\beta$-VAE')\n",
    "ax.fill_between(\n",
    "    num_epochs, \n",
    "    np.mean(mcc_metrics_imavae,axis=0)-np.std(mcc_metrics_imavae,axis=0), \n",
    "    np.mean(mcc_metrics_imavae,axis=0)+np.std(mcc_metrics_imavae,axis=0), \n",
    "    color='blue', alpha=0.1\n",
    ")\n",
    "ax.fill_between(\n",
    "    num_epochs, \n",
    "    np.mean(mcc_metrics_vae,axis=0)-np.std(mcc_metrics_vae,axis=0), \n",
    "    np.mean(mcc_metrics_vae,axis=0)+np.std(mcc_metrics_vae,axis=0), \n",
    "    color='red', alpha=0.1\n",
    ")\n",
    "ax.fill_between(\n",
    "    num_epochs, \n",
    "    np.mean(mcc_metrics_beta_vae,axis=0)-np.std(mcc_metrics_beta_vae,axis=0), \n",
    "    np.mean(mcc_metrics_beta_vae,axis=0)+np.std(mcc_metrics_beta_vae,axis=0), \n",
    "    color='orange', alpha=0.1\n",
    ")\n",
    "ax.set_xticks(np.linspace(0,60,13), ['0','5','10','','20','','','','40','','','','60'])\n",
    "ax.locator_params(nbins=5, axis='y')\n",
    "ax.tick_params(axis='both', which='major', labelsize=17)\n",
    "ax.set_xlabel('# Training Epochs', fontsize=20)\n",
    "ax.set_ylabel('Mean Correlation Coefficient', fontsize=20)\n",
    "ax.legend(prop={'size': 15})\n",
    "plt.savefig('./Figures/mcc_varying_epochs.png', dpi=600)"
   ]
  }
 ],
 "metadata": {
  "kernelspec": {
   "display_name": "Python 3 (ipykernel)",
   "language": "python",
   "name": "python3"
  },
  "language_info": {
   "codemirror_mode": {
    "name": "ipython",
    "version": 3
   },
   "file_extension": ".py",
   "mimetype": "text/x-python",
   "name": "python",
   "nbconvert_exporter": "python",
   "pygments_lexer": "ipython3",
   "version": "3.9.10"
  }
 },
 "nbformat": 4,
 "nbformat_minor": 5
}

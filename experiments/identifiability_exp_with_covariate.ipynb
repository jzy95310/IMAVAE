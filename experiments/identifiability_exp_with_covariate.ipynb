{
 "cells": [
  {
   "cell_type": "code",
   "execution_count": 1,
   "id": "0a7e6044",
   "metadata": {},
   "outputs": [],
   "source": [
    "import sys\n",
    "sys.path.insert(0, '../')\n",
    "import numpy as np\n",
    "import pandas as pd\n",
    "from collections import defaultdict\n",
    "from sklearn.preprocessing import StandardScaler\n",
    "import matplotlib.pyplot as plt\n",
    "from matplotlib import rc, font_manager\n",
    "import torch\n",
    "from torch import nn\n",
    "from models.imavae import IMAVAE\n",
    "from models.metrics import mean_corr_coef as mcc\n",
    "\n",
    "import matplotlib as mpl\n",
    "mpl.rcParams['xtick.labelsize'] = 16\n",
    "mpl.rcParams['ytick.labelsize'] = 16\n",
    "\n",
    "# To make this notebook's output stable across runs\n",
    "seed_id = 2020\n",
    "np.random.seed(seed_id)\n",
    "torch.manual_seed(seed_id)\n",
    "torch.cuda.manual_seed(seed_id)\n",
    "torch.cuda.manual_seed_all(seed_id)\n",
    "torch.backends.cudnn.deterministic = True\n",
    "torch.backends.cudnn.benchmark = False"
   ]
  },
  {
   "cell_type": "markdown",
   "id": "5042a156",
   "metadata": {},
   "source": [
    "## Generate the same synthetic data for case (b) with varying dimensions of Z"
   ]
  },
  {
   "cell_type": "markdown",
   "id": "fe72ad2b",
   "metadata": {},
   "source": [
    "By including observed covariates $\\boldsymbol{w}$, we construct the dataset as follows:\n",
    "\\begin{align*}\n",
    "\\boldsymbol{w} &\\sim \\mathcal{N}(\\boldsymbol{0}, \\sigma_w^2 \\textbf{I}) \\\\\n",
    "t &\\sim \\text{Bernoulli}(\\text{sigmoid}(\\boldsymbol{\\theta}^{\\text{T}} \\boldsymbol{w})) \\\\\n",
    "\\boldsymbol{z}_m &\\sim \\mathcal{N}(0, \\sigma_m^2 \\textbf{I}) + c_1 \\mathbb{1}(t = 1) + c_2 g(\\boldsymbol{w}) \\\\\n",
    "\\boldsymbol{x} &= f(\\boldsymbol{z}_m) + c_3 \\epsilon_{x} \\\\\n",
    "y &= \\alpha t + \\boldsymbol{\\beta}^{\\text{T}} \\boldsymbol{z}_m + \\boldsymbol{\\gamma}^{\\text{T}} \\boldsymbol{w} + \\epsilon_{y}\n",
    "\\end{align*}\n",
    "where $c_1, c_2, c_3, \\alpha \\in \\mathbb{R}$ are constants, $\\boldsymbol{\\theta}, \\boldsymbol{\\beta}, \\boldsymbol{\\gamma}$ are coefficient vectors, and $f$ and $g$ are nonlinear functions which are modeled by **un-trained** multi-layer perceptrons (MLPs). $\\epsilon_{x}$ and $\\epsilon_{y}$ are Gaussian noise terms."
   ]
  },
  {
   "cell_type": "code",
   "execution_count": 2,
   "id": "b3c4a129",
   "metadata": {},
   "outputs": [],
   "source": [
    "data = defaultdict(dict)\n",
    "z_m_dims = [1,2,3,4,5]\n",
    "\n",
    "for z_m_dim in z_m_dims:\n",
    "    N = 6000\n",
    "    c1, c2, c3, sigma_x, sigma_m, noise_scale = 4, 0.1, 0.1, 0.5, 1, 0.01\n",
    "    x_dim, w_dim, hidden_dim = 50, 10, 25\n",
    "    f = nn.Sequential(\n",
    "        nn.Linear(z_m_dim, hidden_dim), \n",
    "        nn.LeakyReLU(), \n",
    "        nn.Linear(hidden_dim, x_dim)\n",
    "    )\n",
    "    g = nn.Sequential(\n",
    "        nn.Linear(w_dim, hidden_dim), \n",
    "        nn.LeakyReLU(), \n",
    "        nn.Linear(hidden_dim, z_m_dim)\n",
    "    )\n",
    "\n",
    "    theta = np.random.uniform(-1,1,size=w_dim)\n",
    "    W = np.random.multivariate_normal(mean=np.zeros(w_dim), cov=sigma_x*np.eye(w_dim), size=N)\n",
    "    logit = W @ theta\n",
    "    T = np.random.binomial(n=1, p=[1/(1 + np.exp(-s)) for s in logit]).reshape(-1,1)\n",
    "    with torch.no_grad():\n",
    "        gw = g(torch.tensor(W).float()).numpy()\n",
    "    Z_m0 = np.random.multivariate_normal(mean=np.zeros(z_m_dim), cov=sigma_m*np.eye(z_m_dim), size=N) + c2 * gw\n",
    "    Z_m1 = Z_m0 + c1\n",
    "    Z_m = np.array([Z_m0[i,:] if T[i][0] == 0 else Z_m1[i,:] for i in range(N)])\n",
    "    with torch.no_grad():\n",
    "        X = f(torch.tensor(Z_m).float()).numpy()\n",
    "        X += c3 * np.random.randn(X.shape[0],X.shape[1])\n",
    "    alpha = np.random.uniform(-2,2,size=1)\n",
    "    beta = np.random.uniform(-1,1,size=z_m_dim)\n",
    "    gamma0 = np.random.uniform(-0.5,0.5,size=w_dim)\n",
    "    gamma1 = np.random.uniform(-1,1,size=w_dim)\n",
    "    gamma = np.array([gamma0 if T[i][0] == 0 else gamma1 for i in range(N)])\n",
    "    noise = noise_scale * np.random.normal(size=N)\n",
    "    Y = (alpha * T.reshape(-1) + Z_m @ beta + np.sum(W*gamma,axis=1) + noise).reshape(-1,1)\n",
    "    \n",
    "    scaler = StandardScaler()\n",
    "    X, Z_m = scaler.fit_transform(X), scaler.fit_transform(Z_m)\n",
    "    Y, W = scaler.fit_transform(Y), scaler.fit_transform(W)\n",
    "    data[z_m_dim] = {'T': T, 'X': X, 'Z': Z_m, 'Y': Y, 'W': W}"
   ]
  },
  {
   "cell_type": "markdown",
   "id": "164bdc6b",
   "metadata": {},
   "source": [
    "## Fit IMAVAE on the data with corresponding dimensions of Z"
   ]
  },
  {
   "cell_type": "code",
   "execution_count": 3,
   "id": "b22d3b9b",
   "metadata": {},
   "outputs": [
    {
     "name": "stdout",
     "output_type": "stream",
     "text": [
      "Run 1 \n",
      "=========================================\n",
      "Beginning Training\n"
     ]
    },
    {
     "name": "stderr",
     "output_type": "stream",
     "text": [
      "Epoch: 49, Best Epoch: 48, Best Recon MSE: 0.218497, Best Pred Metric [0.3705931\n"
     ]
    },
    {
     "name": "stdout",
     "output_type": "stream",
     "text": [
      "Saving the last epoch with training MSE: 0.218436 and Pred Metric: [0.37116504]\n",
      "Loaded the best model from Epoch: 48 with MSE: 0.218497 and Pred Metric: [0.3705931]\n",
      "Beginning Training\n"
     ]
    },
    {
     "name": "stderr",
     "output_type": "stream",
     "text": [
      "Epoch: 49, Best Epoch: 49, Best Recon MSE: 0.151161, Best Pred Metric [0.2650339\n"
     ]
    },
    {
     "name": "stdout",
     "output_type": "stream",
     "text": [
      "Saving the last epoch with training MSE: 0.151161 and Pred Metric: [0.2650339, 0.2650339]\n",
      "Loaded the best model from Epoch: 49 with MSE: 0.151161 and Pred Metric: [0.2650339, 0.2650339]\n",
      "Beginning Training\n"
     ]
    },
    {
     "name": "stderr",
     "output_type": "stream",
     "text": [
      "Epoch: 49, Best Epoch: 49, Best Recon MSE: 0.0983682, Best Pred Metric [0.178196\n"
     ]
    },
    {
     "name": "stdout",
     "output_type": "stream",
     "text": [
      "Saving the last epoch with training MSE: 0.0983682 and Pred Metric: [0.17819686, 0.17819686, 0.17819686]\n",
      "Loaded the best model from Epoch: 49 with MSE: 0.0983682 and Pred Metric: [0.17819686, 0.17819686, 0.17819686]\n",
      "Beginning Training\n"
     ]
    },
    {
     "name": "stderr",
     "output_type": "stream",
     "text": [
      "Epoch: 49, Best Epoch: 49, Best Recon MSE: 0.103556, Best Pred Metric [0.1008446\n"
     ]
    },
    {
     "name": "stdout",
     "output_type": "stream",
     "text": [
      "Saving the last epoch with training MSE: 0.103556 and Pred Metric: [0.10084461, 0.10084461, 0.10084461, 0.10084461]\n",
      "Loaded the best model from Epoch: 49 with MSE: 0.103556 and Pred Metric: [0.10084461, 0.10084461, 0.10084461, 0.10084461]\n",
      "Beginning Training\n"
     ]
    },
    {
     "name": "stderr",
     "output_type": "stream",
     "text": [
      "Epoch: 49, Best Epoch: 35, Best Recon MSE: 0.134109, Best Pred Metric [0.2071301\n"
     ]
    },
    {
     "name": "stdout",
     "output_type": "stream",
     "text": [
      "Saving the last epoch with training MSE: 0.132 and Pred Metric: [0.23932816, 0.23932816, 0.23932816, 0.23932816, 0.23932816]\n",
      "Loaded the best model from Epoch: 35 with MSE: 0.134109 and Pred Metric: [0.2071301, 0.2071301, 0.2071301, 0.2071301, 0.2071301]\n",
      "Run 2 \n",
      "=========================================\n",
      "Beginning Training\n"
     ]
    },
    {
     "name": "stderr",
     "output_type": "stream",
     "text": [
      "Epoch: 49, Best Epoch: 49, Best Recon MSE: 0.218636, Best Pred Metric [0.3931960\n"
     ]
    },
    {
     "name": "stdout",
     "output_type": "stream",
     "text": [
      "Saving the last epoch with training MSE: 0.218636 and Pred Metric: [0.39319605]\n",
      "Loaded the best model from Epoch: 49 with MSE: 0.218636 and Pred Metric: [0.39319605]\n",
      "Beginning Training\n"
     ]
    },
    {
     "name": "stderr",
     "output_type": "stream",
     "text": [
      "Epoch: 49, Best Epoch: 49, Best Recon MSE: 0.153441, Best Pred Metric [0.1481550\n"
     ]
    },
    {
     "name": "stdout",
     "output_type": "stream",
     "text": [
      "Saving the last epoch with training MSE: 0.153441 and Pred Metric: [0.14815502, 0.14815502]\n",
      "Loaded the best model from Epoch: 49 with MSE: 0.153441 and Pred Metric: [0.14815502, 0.14815502]\n",
      "Beginning Training\n"
     ]
    },
    {
     "name": "stderr",
     "output_type": "stream",
     "text": [
      "Epoch: 49, Best Epoch: 49, Best Recon MSE: 0.160054, Best Pred Metric [0.4441754\n"
     ]
    },
    {
     "name": "stdout",
     "output_type": "stream",
     "text": [
      "Saving the last epoch with training MSE: 0.160054 and Pred Metric: [0.44417548, 0.44417548, 0.44417548]\n",
      "Loaded the best model from Epoch: 49 with MSE: 0.160054 and Pred Metric: [0.44417548, 0.44417548, 0.44417548]\n",
      "Beginning Training\n"
     ]
    },
    {
     "name": "stderr",
     "output_type": "stream",
     "text": [
      "Epoch: 49, Best Epoch: 48, Best Recon MSE: 0.173566, Best Pred Metric [0.0504181\n"
     ]
    },
    {
     "name": "stdout",
     "output_type": "stream",
     "text": [
      "Saving the last epoch with training MSE: 0.172826 and Pred Metric: [0.0686443, 0.0686443, 0.0686443, 0.0686443]\n",
      "Loaded the best model from Epoch: 48 with MSE: 0.173566 and Pred Metric: [0.050418105, 0.050418105, 0.050418105, 0.050418105]\n",
      "Beginning Training\n"
     ]
    },
    {
     "name": "stderr",
     "output_type": "stream",
     "text": [
      "Epoch: 49, Best Epoch: 49, Best Recon MSE: 0.109919, Best Pred Metric [0.3313161\n"
     ]
    },
    {
     "name": "stdout",
     "output_type": "stream",
     "text": [
      "Saving the last epoch with training MSE: 0.109919 and Pred Metric: [0.3313161, 0.3313161, 0.3313161, 0.3313161, 0.3313161]\n",
      "Loaded the best model from Epoch: 49 with MSE: 0.109919 and Pred Metric: [0.3313161, 0.3313161, 0.3313161, 0.3313161, 0.3313161]\n",
      "Run 3 \n",
      "=========================================\n",
      "Beginning Training\n"
     ]
    },
    {
     "name": "stderr",
     "output_type": "stream",
     "text": [
      "Epoch: 49, Best Epoch: 49, Best Recon MSE: 0.22479, Best Pred Metric [0.3680165]\n"
     ]
    },
    {
     "name": "stdout",
     "output_type": "stream",
     "text": [
      "Saving the last epoch with training MSE: 0.22479 and Pred Metric: [0.3680165]\n",
      "Loaded the best model from Epoch: 49 with MSE: 0.22479 and Pred Metric: [0.3680165]\n",
      "Beginning Training\n"
     ]
    },
    {
     "name": "stderr",
     "output_type": "stream",
     "text": [
      "Epoch: 49, Best Epoch: 49, Best Recon MSE: 0.15351, Best Pred Metric [0.19760974\n"
     ]
    },
    {
     "name": "stdout",
     "output_type": "stream",
     "text": [
      "Saving the last epoch with training MSE: 0.15351 and Pred Metric: [0.19760974, 0.19760974]\n",
      "Loaded the best model from Epoch: 49 with MSE: 0.15351 and Pred Metric: [0.19760974, 0.19760974]\n",
      "Beginning Training\n"
     ]
    },
    {
     "name": "stderr",
     "output_type": "stream",
     "text": [
      "Epoch: 49, Best Epoch: 49, Best Recon MSE: 0.105183, Best Pred Metric [0.1745281\n"
     ]
    },
    {
     "name": "stdout",
     "output_type": "stream",
     "text": [
      "Saving the last epoch with training MSE: 0.105183 and Pred Metric: [0.17452815, 0.17452815, 0.17452815]\n",
      "Loaded the best model from Epoch: 49 with MSE: 0.105183 and Pred Metric: [0.17452815, 0.17452815, 0.17452815]\n",
      "Beginning Training\n"
     ]
    },
    {
     "name": "stderr",
     "output_type": "stream",
     "text": [
      "Epoch: 49, Best Epoch: 22, Best Recon MSE: 0.194644, Best Pred Metric [0.7321710\n"
     ]
    },
    {
     "name": "stdout",
     "output_type": "stream",
     "text": [
      "Saving the last epoch with training MSE: 0.126645 and Pred Metric: [1.1611685, 1.1611685, 1.1611685, 1.1611685]\n",
      "Loaded the best model from Epoch: 22 with MSE: 0.194644 and Pred Metric: [0.73217106, 0.73217106, 0.73217106, 0.73217106]\n",
      "Beginning Training\n"
     ]
    },
    {
     "name": "stderr",
     "output_type": "stream",
     "text": [
      "Epoch: 49, Best Epoch: 49, Best Recon MSE: 0.135501, Best Pred Metric [0.0854593\n"
     ]
    },
    {
     "name": "stdout",
     "output_type": "stream",
     "text": [
      "Saving the last epoch with training MSE: 0.135501 and Pred Metric: [0.08545938, 0.08545938, 0.08545938, 0.08545938, 0.08545938]\n",
      "Loaded the best model from Epoch: 49 with MSE: 0.135501 and Pred Metric: [0.08545938, 0.08545938, 0.08545938, 0.08545938, 0.08545938]\n",
      "Run 4 \n",
      "=========================================\n",
      "Beginning Training\n"
     ]
    },
    {
     "name": "stderr",
     "output_type": "stream",
     "text": [
      "Epoch: 49, Best Epoch: 49, Best Recon MSE: 0.217594, Best Pred Metric [0.4737895\n"
     ]
    },
    {
     "name": "stdout",
     "output_type": "stream",
     "text": [
      "Saving the last epoch with training MSE: 0.217594 and Pred Metric: [0.47378954]\n",
      "Loaded the best model from Epoch: 49 with MSE: 0.217594 and Pred Metric: [0.47378954]\n",
      "Beginning Training\n"
     ]
    },
    {
     "name": "stderr",
     "output_type": "stream",
     "text": [
      "Epoch: 49, Best Epoch: 49, Best Recon MSE: 0.152716, Best Pred Metric [0.2081083\n"
     ]
    },
    {
     "name": "stdout",
     "output_type": "stream",
     "text": [
      "Saving the last epoch with training MSE: 0.152716 and Pred Metric: [0.20810832, 0.20810832]\n",
      "Loaded the best model from Epoch: 49 with MSE: 0.152716 and Pred Metric: [0.20810832, 0.20810832]\n",
      "Beginning Training\n"
     ]
    },
    {
     "name": "stderr",
     "output_type": "stream",
     "text": [
      "Epoch: 49, Best Epoch: 49, Best Recon MSE: 0.144722, Best Pred Metric [0.2571147\n"
     ]
    },
    {
     "name": "stdout",
     "output_type": "stream",
     "text": [
      "Saving the last epoch with training MSE: 0.144722 and Pred Metric: [0.25711477, 0.25711477, 0.25711477]\n",
      "Loaded the best model from Epoch: 49 with MSE: 0.144722 and Pred Metric: [0.25711477, 0.25711477, 0.25711477]\n",
      "Beginning Training\n"
     ]
    },
    {
     "name": "stderr",
     "output_type": "stream",
     "text": [
      "Epoch: 49, Best Epoch: 49, Best Recon MSE: 0.112188, Best Pred Metric [0.0980384\n"
     ]
    },
    {
     "name": "stdout",
     "output_type": "stream",
     "text": [
      "Saving the last epoch with training MSE: 0.112188 and Pred Metric: [0.09803845, 0.09803845, 0.09803845, 0.09803845]\n",
      "Loaded the best model from Epoch: 49 with MSE: 0.112188 and Pred Metric: [0.09803845, 0.09803845, 0.09803845, 0.09803845]\n",
      "Beginning Training\n"
     ]
    },
    {
     "name": "stderr",
     "output_type": "stream",
     "text": [
      "Epoch: 49, Best Epoch: 49, Best Recon MSE: 0.112998, Best Pred Metric [0.5669821\n"
     ]
    },
    {
     "name": "stdout",
     "output_type": "stream",
     "text": [
      "Saving the last epoch with training MSE: 0.112998 and Pred Metric: [0.56698215, 0.56698215, 0.56698215, 0.56698215, 0.56698215]\n",
      "Loaded the best model from Epoch: 49 with MSE: 0.112998 and Pred Metric: [0.56698215, 0.56698215, 0.56698215, 0.56698215, 0.56698215]\n",
      "Run 5 \n",
      "=========================================\n",
      "Beginning Training\n"
     ]
    },
    {
     "name": "stderr",
     "output_type": "stream",
     "text": [
      "Epoch: 49, Best Epoch: 49, Best Recon MSE: 0.216644, Best Pred Metric [0.4146019\n"
     ]
    },
    {
     "name": "stdout",
     "output_type": "stream",
     "text": [
      "Saving the last epoch with training MSE: 0.216644 and Pred Metric: [0.41460198]\n",
      "Loaded the best model from Epoch: 49 with MSE: 0.216644 and Pred Metric: [0.41460198]\n",
      "Beginning Training\n"
     ]
    },
    {
     "name": "stderr",
     "output_type": "stream",
     "text": [
      "Epoch: 49, Best Epoch: 49, Best Recon MSE: 0.153316, Best Pred Metric [0.4506694\n"
     ]
    },
    {
     "name": "stdout",
     "output_type": "stream",
     "text": [
      "Saving the last epoch with training MSE: 0.153316 and Pred Metric: [0.45066944, 0.45066944]\n",
      "Loaded the best model from Epoch: 49 with MSE: 0.153316 and Pred Metric: [0.45066944, 0.45066944]\n",
      "Beginning Training\n"
     ]
    },
    {
     "name": "stderr",
     "output_type": "stream",
     "text": [
      "Epoch: 49, Best Epoch: 49, Best Recon MSE: 0.0973646, Best Pred Metric [0.455810\n"
     ]
    },
    {
     "name": "stdout",
     "output_type": "stream",
     "text": [
      "Saving the last epoch with training MSE: 0.0973646 and Pred Metric: [0.45581064, 0.45581064, 0.45581064]\n",
      "Loaded the best model from Epoch: 49 with MSE: 0.0973646 and Pred Metric: [0.45581064, 0.45581064, 0.45581064]\n",
      "Beginning Training\n"
     ]
    },
    {
     "name": "stderr",
     "output_type": "stream",
     "text": [
      "Epoch: 49, Best Epoch: 49, Best Recon MSE: 0.104975, Best Pred Metric [0.1403267\n"
     ]
    },
    {
     "name": "stdout",
     "output_type": "stream",
     "text": [
      "Saving the last epoch with training MSE: 0.104975 and Pred Metric: [0.14032678, 0.14032678, 0.14032678, 0.14032678]\n",
      "Loaded the best model from Epoch: 49 with MSE: 0.104975 and Pred Metric: [0.14032678, 0.14032678, 0.14032678, 0.14032678]\n",
      "Beginning Training\n"
     ]
    },
    {
     "name": "stderr",
     "output_type": "stream",
     "text": [
      "Epoch: 49, Best Epoch: 49, Best Recon MSE: 0.121877, Best Pred Metric [0.4281459"
     ]
    },
    {
     "name": "stdout",
     "output_type": "stream",
     "text": [
      "Saving the last epoch with training MSE: 0.121877 and Pred Metric: [0.42814592, 0.42814592, 0.42814592, 0.42814592, 0.42814592]\n",
      "Loaded the best model from Epoch: 49 with MSE: 0.121877 and Pred Metric: [0.42814592, 0.42814592, 0.42814592, 0.42814592, 0.42814592]\n"
     ]
    },
    {
     "name": "stderr",
     "output_type": "stream",
     "text": [
      "\n"
     ]
    }
   ],
   "source": [
    "num_runs = 5\n",
    "mcc_metrics_imavae = []\n",
    "\n",
    "for i in range(num_runs):\n",
    "    print(f\"Run {i+1} \\n=========================================\")\n",
    "    mcc_metric = []\n",
    "    for idx, z_m_dim in enumerate(z_m_dims):\n",
    "        T, X, Z = data[z_m_dim]['T'], data[z_m_dim]['X'], data[z_m_dim]['Z'], \n",
    "        Y, W = data[z_m_dim]['Y'], data[z_m_dim]['W']\n",
    "        imavae = IMAVAE(n_components=z_m_dim, n_sup_networks=z_m_dim, n_hidden_layers=2, hidden_dim=25, \n",
    "                       optim_name='Adam', recon_weight=1., elbo_weight=1., sup_weight=1., anneal=False)\n",
    "        WT = np.concatenate([T,W], axis=1)\n",
    "        _ = imavae.fit(\n",
    "            X, WT, Y, X_val=X, aux_val=WT, y_val=Y, \n",
    "            lr=1e-5, n_epochs=50, pretrain=False, verbose=1, \n",
    "            best_model_name=\"best_model_with_covariate.pt\"\n",
    "        )\n",
    "        with torch.no_grad():\n",
    "            t0, t1 = torch.zeros(N, 1), torch.ones(N, 1)\n",
    "            t0, t1 = torch.cat([t0, torch.tensor(W).float()], dim=1), torch.cat([t1, torch.tensor(W).float()], dim=1)\n",
    "            z_m0_pred = imavae.prior_dist.sample(*imavae.ivae.prior_params(t0))\n",
    "            z_m1_pred = imavae.prior_dist.sample(*imavae.ivae.prior_params(t1))\n",
    "            # Estimated z_m for factual outcomes\n",
    "            z_m_pred = torch.stack([z_m0_pred[i,:] if T[i,0] == 0 else z_m1_pred[i,:] for i in range(N)])\n",
    "        mcc_metric.append(mcc(Z, z_m_pred.numpy()))\n",
    "    mcc_metrics_imavae.append(mcc_metric)"
   ]
  },
  {
   "cell_type": "markdown",
   "id": "ef5b6701",
   "metadata": {},
   "source": [
    "## Fit regular VAE and $\\beta$-VAE with corresponding dimensions of Z"
   ]
  },
  {
   "cell_type": "code",
   "execution_count": 4,
   "id": "52880620",
   "metadata": {},
   "outputs": [
    {
     "name": "stdout",
     "output_type": "stream",
     "text": [
      "Run 1 \n",
      "=========================================\n",
      "Beginning Training\n"
     ]
    },
    {
     "name": "stderr",
     "output_type": "stream",
     "text": [
      "Epoch: 49, Best Epoch: 48, Best Recon MSE: 0.245441, Best Pred Metric [0.3460303\n"
     ]
    },
    {
     "name": "stdout",
     "output_type": "stream",
     "text": [
      "Saving the last epoch with training MSE: 0.245538 and Pred Metric: [0.34667107]\n",
      "Loaded the best model from Epoch: 48 with MSE: 0.245441 and Pred Metric: [0.34603032]\n",
      "Beginning Training\n"
     ]
    },
    {
     "name": "stderr",
     "output_type": "stream",
     "text": [
      "Epoch: 49, Best Epoch: 49, Best Recon MSE: 0.178786, Best Pred Metric [0.3240651\n"
     ]
    },
    {
     "name": "stdout",
     "output_type": "stream",
     "text": [
      "Saving the last epoch with training MSE: 0.178786 and Pred Metric: [0.32406518, 0.32406518]\n",
      "Loaded the best model from Epoch: 49 with MSE: 0.178786 and Pred Metric: [0.32406518, 0.32406518]\n",
      "Beginning Training\n"
     ]
    },
    {
     "name": "stderr",
     "output_type": "stream",
     "text": [
      "Epoch: 49, Best Epoch: 49, Best Recon MSE: 0.202443, Best Pred Metric [1.7211878\n"
     ]
    },
    {
     "name": "stdout",
     "output_type": "stream",
     "text": [
      "Saving the last epoch with training MSE: 0.202443 and Pred Metric: [1.7211878, 1.7211878, 1.7211878]\n",
      "Loaded the best model from Epoch: 49 with MSE: 0.202443 and Pred Metric: [1.7211878, 1.7211878, 1.7211878]\n",
      "Beginning Training\n"
     ]
    },
    {
     "name": "stderr",
     "output_type": "stream",
     "text": [
      "Epoch: 49, Best Epoch: 49, Best Recon MSE: 0.128426, Best Pred Metric [1.1975073\n"
     ]
    },
    {
     "name": "stdout",
     "output_type": "stream",
     "text": [
      "Saving the last epoch with training MSE: 0.128426 and Pred Metric: [1.1975073, 1.1975073, 1.1975073, 1.1975073]\n",
      "Loaded the best model from Epoch: 49 with MSE: 0.128426 and Pred Metric: [1.1975073, 1.1975073, 1.1975073, 1.1975073]\n",
      "Beginning Training\n"
     ]
    },
    {
     "name": "stderr",
     "output_type": "stream",
     "text": [
      "Epoch: 49, Best Epoch: 49, Best Recon MSE: 0.138013, Best Pred Metric [0.7692246\n"
     ]
    },
    {
     "name": "stdout",
     "output_type": "stream",
     "text": [
      "Saving the last epoch with training MSE: 0.138013 and Pred Metric: [0.7692246, 0.7692246, 0.7692246, 0.7692246, 0.7692246]\n",
      "Loaded the best model from Epoch: 49 with MSE: 0.138013 and Pred Metric: [0.7692246, 0.7692246, 0.7692246, 0.7692246, 0.7692246]\n",
      "Run 2 \n",
      "=========================================\n",
      "Beginning Training\n"
     ]
    },
    {
     "name": "stderr",
     "output_type": "stream",
     "text": [
      "Epoch: 49, Best Epoch: 49, Best Recon MSE: 0.243475, Best Pred Metric [0.3420557\n"
     ]
    },
    {
     "name": "stdout",
     "output_type": "stream",
     "text": [
      "Saving the last epoch with training MSE: 0.243475 and Pred Metric: [0.34205574]\n",
      "Loaded the best model from Epoch: 49 with MSE: 0.243475 and Pred Metric: [0.34205574]\n",
      "Beginning Training\n"
     ]
    },
    {
     "name": "stderr",
     "output_type": "stream",
     "text": [
      "Epoch: 49, Best Epoch: 49, Best Recon MSE: 0.167711, Best Pred Metric [0.2114031\n"
     ]
    },
    {
     "name": "stdout",
     "output_type": "stream",
     "text": [
      "Saving the last epoch with training MSE: 0.167711 and Pred Metric: [0.21140316, 0.21140316]\n",
      "Loaded the best model from Epoch: 49 with MSE: 0.167711 and Pred Metric: [0.21140316, 0.21140316]\n",
      "Beginning Training\n"
     ]
    },
    {
     "name": "stderr",
     "output_type": "stream",
     "text": [
      "Epoch: 49, Best Epoch: 49, Best Recon MSE: 0.127711, Best Pred Metric [0.2539466\n"
     ]
    },
    {
     "name": "stdout",
     "output_type": "stream",
     "text": [
      "Saving the last epoch with training MSE: 0.127711 and Pred Metric: [0.25394666, 0.25394666, 0.25394666]\n",
      "Loaded the best model from Epoch: 49 with MSE: 0.127711 and Pred Metric: [0.25394666, 0.25394666, 0.25394666]\n",
      "Beginning Training\n"
     ]
    },
    {
     "name": "stderr",
     "output_type": "stream",
     "text": [
      "Epoch: 49, Best Epoch: 49, Best Recon MSE: 0.392837, Best Pred Metric [0.4552914\n"
     ]
    },
    {
     "name": "stdout",
     "output_type": "stream",
     "text": [
      "Saving the last epoch with training MSE: 0.392837 and Pred Metric: [0.45529142, 0.45529142, 0.45529142, 0.45529142]\n",
      "Loaded the best model from Epoch: 49 with MSE: 0.392837 and Pred Metric: [0.45529142, 0.45529142, 0.45529142, 0.45529142]\n",
      "Beginning Training\n"
     ]
    },
    {
     "name": "stderr",
     "output_type": "stream",
     "text": [
      "Epoch: 49, Best Epoch: 49, Best Recon MSE: 0.141556, Best Pred Metric [1.2430893\n"
     ]
    },
    {
     "name": "stdout",
     "output_type": "stream",
     "text": [
      "Saving the last epoch with training MSE: 0.141556 and Pred Metric: [1.2430893, 1.2430893, 1.2430893, 1.2430893, 1.2430893]\n",
      "Loaded the best model from Epoch: 49 with MSE: 0.141556 and Pred Metric: [1.2430893, 1.2430893, 1.2430893, 1.2430893, 1.2430893]\n",
      "Run 3 \n",
      "=========================================\n",
      "Beginning Training\n"
     ]
    },
    {
     "name": "stderr",
     "output_type": "stream",
     "text": [
      "Epoch: 49, Best Epoch: 49, Best Recon MSE: 0.232564, Best Pred Metric [0.3314681\n"
     ]
    },
    {
     "name": "stdout",
     "output_type": "stream",
     "text": [
      "Saving the last epoch with training MSE: 0.232564 and Pred Metric: [0.3314681]\n",
      "Loaded the best model from Epoch: 49 with MSE: 0.232564 and Pred Metric: [0.3314681]\n",
      "Beginning Training\n"
     ]
    },
    {
     "name": "stderr",
     "output_type": "stream",
     "text": [
      "Epoch: 49, Best Epoch: 49, Best Recon MSE: 0.198246, Best Pred Metric [0.7831352\n"
     ]
    },
    {
     "name": "stdout",
     "output_type": "stream",
     "text": [
      "Saving the last epoch with training MSE: 0.198246 and Pred Metric: [0.7831352, 0.7831352]\n",
      "Loaded the best model from Epoch: 49 with MSE: 0.198246 and Pred Metric: [0.7831352, 0.7831352]\n",
      "Beginning Training\n"
     ]
    },
    {
     "name": "stderr",
     "output_type": "stream",
     "text": [
      "Epoch: 49, Best Epoch: 49, Best Recon MSE: 0.133541, Best Pred Metric [0.6520045\n"
     ]
    },
    {
     "name": "stdout",
     "output_type": "stream",
     "text": [
      "Saving the last epoch with training MSE: 0.133541 and Pred Metric: [0.6520045, 0.6520045, 0.6520045]\n",
      "Loaded the best model from Epoch: 49 with MSE: 0.133541 and Pred Metric: [0.6520045, 0.6520045, 0.6520045]\n",
      "Beginning Training\n"
     ]
    },
    {
     "name": "stderr",
     "output_type": "stream",
     "text": [
      "Epoch: 49, Best Epoch: 49, Best Recon MSE: 0.129255, Best Pred Metric [0.5661076\n"
     ]
    },
    {
     "name": "stdout",
     "output_type": "stream",
     "text": [
      "Saving the last epoch with training MSE: 0.129255 and Pred Metric: [0.5661076, 0.5661076, 0.5661076, 0.5661076]\n",
      "Loaded the best model from Epoch: 49 with MSE: 0.129255 and Pred Metric: [0.5661076, 0.5661076, 0.5661076, 0.5661076]\n",
      "Beginning Training\n"
     ]
    },
    {
     "name": "stderr",
     "output_type": "stream",
     "text": [
      "Epoch: 49, Best Epoch: 49, Best Recon MSE: 0.138021, Best Pred Metric [0.6505371\n"
     ]
    },
    {
     "name": "stdout",
     "output_type": "stream",
     "text": [
      "Saving the last epoch with training MSE: 0.138021 and Pred Metric: [0.65053713, 0.65053713, 0.65053713, 0.65053713, 0.65053713]\n",
      "Loaded the best model from Epoch: 49 with MSE: 0.138021 and Pred Metric: [0.65053713, 0.65053713, 0.65053713, 0.65053713, 0.65053713]\n",
      "Run 4 \n",
      "=========================================\n",
      "Beginning Training\n"
     ]
    },
    {
     "name": "stderr",
     "output_type": "stream",
     "text": [
      "Epoch: 49, Best Epoch: 48, Best Recon MSE: 0.252188, Best Pred Metric [0.3325843\n"
     ]
    },
    {
     "name": "stdout",
     "output_type": "stream",
     "text": [
      "Saving the last epoch with training MSE: 0.252431 and Pred Metric: [0.3330019]\n",
      "Loaded the best model from Epoch: 48 with MSE: 0.252188 and Pred Metric: [0.33258438]\n",
      "Beginning Training\n"
     ]
    },
    {
     "name": "stderr",
     "output_type": "stream",
     "text": [
      "Epoch: 49, Best Epoch: 49, Best Recon MSE: 0.225976, Best Pred Metric [0.3963533\n"
     ]
    },
    {
     "name": "stdout",
     "output_type": "stream",
     "text": [
      "Saving the last epoch with training MSE: 0.225976 and Pred Metric: [0.39635336, 0.39635336]\n",
      "Loaded the best model from Epoch: 49 with MSE: 0.225976 and Pred Metric: [0.39635336, 0.39635336]\n",
      "Beginning Training\n"
     ]
    },
    {
     "name": "stderr",
     "output_type": "stream",
     "text": [
      "Epoch: 49, Best Epoch: 49, Best Recon MSE: 0.108997, Best Pred Metric [0.1987784\n"
     ]
    },
    {
     "name": "stdout",
     "output_type": "stream",
     "text": [
      "Saving the last epoch with training MSE: 0.108997 and Pred Metric: [0.19877847, 0.19877847, 0.19877847]\n",
      "Loaded the best model from Epoch: 49 with MSE: 0.108997 and Pred Metric: [0.19877847, 0.19877847, 0.19877847]\n",
      "Beginning Training\n"
     ]
    },
    {
     "name": "stderr",
     "output_type": "stream",
     "text": [
      "Epoch: 49, Best Epoch: 49, Best Recon MSE: 0.141317, Best Pred Metric [0.3791669\n"
     ]
    },
    {
     "name": "stdout",
     "output_type": "stream",
     "text": [
      "Saving the last epoch with training MSE: 0.141317 and Pred Metric: [0.3791669, 0.3791669, 0.3791669, 0.3791669]\n",
      "Loaded the best model from Epoch: 49 with MSE: 0.141317 and Pred Metric: [0.3791669, 0.3791669, 0.3791669, 0.3791669]\n",
      "Beginning Training\n"
     ]
    },
    {
     "name": "stderr",
     "output_type": "stream",
     "text": [
      "Epoch: 49, Best Epoch: 49, Best Recon MSE: 0.127444, Best Pred Metric [1.2194341\n"
     ]
    },
    {
     "name": "stdout",
     "output_type": "stream",
     "text": [
      "Saving the last epoch with training MSE: 0.127444 and Pred Metric: [1.2194341, 1.2194341, 1.2194341, 1.2194341, 1.2194341]\n",
      "Loaded the best model from Epoch: 49 with MSE: 0.127444 and Pred Metric: [1.2194341, 1.2194341, 1.2194341, 1.2194341, 1.2194341]\n",
      "Run 5 \n",
      "=========================================\n",
      "Beginning Training\n"
     ]
    },
    {
     "name": "stderr",
     "output_type": "stream",
     "text": [
      "Epoch: 49, Best Epoch: 49, Best Recon MSE: 0.240387, Best Pred Metric [0.3518315\n"
     ]
    },
    {
     "name": "stdout",
     "output_type": "stream",
     "text": [
      "Saving the last epoch with training MSE: 0.240387 and Pred Metric: [0.3518315]\n",
      "Loaded the best model from Epoch: 49 with MSE: 0.240387 and Pred Metric: [0.3518315]\n",
      "Beginning Training\n"
     ]
    },
    {
     "name": "stderr",
     "output_type": "stream",
     "text": [
      "Epoch: 49, Best Epoch: 49, Best Recon MSE: 0.222067, Best Pred Metric [0.3461076\n"
     ]
    },
    {
     "name": "stdout",
     "output_type": "stream",
     "text": [
      "Saving the last epoch with training MSE: 0.222067 and Pred Metric: [0.34610766, 0.34610766]\n",
      "Loaded the best model from Epoch: 49 with MSE: 0.222067 and Pred Metric: [0.34610766, 0.34610766]\n",
      "Beginning Training\n"
     ]
    },
    {
     "name": "stderr",
     "output_type": "stream",
     "text": [
      "Epoch: 49, Best Epoch: 49, Best Recon MSE: 0.117142, Best Pred Metric [0.4644517\n"
     ]
    },
    {
     "name": "stdout",
     "output_type": "stream",
     "text": [
      "Saving the last epoch with training MSE: 0.117142 and Pred Metric: [0.4644517, 0.4644517, 0.4644517]\n",
      "Loaded the best model from Epoch: 49 with MSE: 0.117142 and Pred Metric: [0.4644517, 0.4644517, 0.4644517]\n",
      "Beginning Training\n"
     ]
    },
    {
     "name": "stderr",
     "output_type": "stream",
     "text": [
      "Epoch: 49, Best Epoch: 49, Best Recon MSE: 0.132337, Best Pred Metric [0.3073259\n"
     ]
    },
    {
     "name": "stdout",
     "output_type": "stream",
     "text": [
      "Saving the last epoch with training MSE: 0.132337 and Pred Metric: [0.30732596, 0.30732596, 0.30732596, 0.30732596]\n",
      "Loaded the best model from Epoch: 49 with MSE: 0.132337 and Pred Metric: [0.30732596, 0.30732596, 0.30732596, 0.30732596]\n",
      "Beginning Training\n"
     ]
    },
    {
     "name": "stderr",
     "output_type": "stream",
     "text": [
      "Epoch: 49, Best Epoch: 49, Best Recon MSE: 0.128195, Best Pred Metric [0.4671766"
     ]
    },
    {
     "name": "stdout",
     "output_type": "stream",
     "text": [
      "Saving the last epoch with training MSE: 0.128195 and Pred Metric: [0.4671766, 0.4671766, 0.4671766, 0.4671766, 0.4671766]\n",
      "Loaded the best model from Epoch: 49 with MSE: 0.128195 and Pred Metric: [0.4671766, 0.4671766, 0.4671766, 0.4671766, 0.4671766]\n"
     ]
    },
    {
     "name": "stderr",
     "output_type": "stream",
     "text": [
      "\n"
     ]
    }
   ],
   "source": [
    "# VAE\n",
    "num_runs = 5\n",
    "mcc_metrics_vae = []\n",
    "\n",
    "for i in range(num_runs):\n",
    "    print(f\"Run {i+1} \\n=========================================\")\n",
    "    mcc_metric = []\n",
    "    for idx, z_m_dim in enumerate(z_m_dims):\n",
    "        T, X, Z = data[z_m_dim]['T'], data[z_m_dim]['X'], data[z_m_dim]['Z'], \n",
    "        Y, W = data[z_m_dim]['Y'], data[z_m_dim]['W']\n",
    "        imavae = IMAVAE(n_components=z_m_dim, n_sup_networks=z_m_dim, n_hidden_layers=2, hidden_dim=25, \n",
    "                        optim_name='Adam', recon_weight=1., elbo_weight=1., sup_weight=1., \n",
    "                        identifiable=False, prior_scale=0.01, anneal=False)\n",
    "        WT = np.concatenate([T,W], axis=1)\n",
    "        _ = imavae.fit(\n",
    "            X, WT, Y, X_val=X, aux_val=WT, y_val=Y, \n",
    "            lr=1e-5, n_epochs=50, pretrain=False, verbose=1, \n",
    "            best_model_name=\"best_model_with_covariate.pt\"\n",
    "        )\n",
    "        with torch.no_grad():\n",
    "            t0, t1 = torch.zeros(N, 1), torch.ones(N, 1)\n",
    "            t0, t1 = torch.cat([t0, torch.tensor(W).float()], dim=1), torch.cat([t1, torch.tensor(W).float()], dim=1)\n",
    "            z_m0_pred = imavae.prior_dist.sample(*imavae.ivae.prior_params(), size=N)\n",
    "            z_m1_pred = imavae.prior_dist.sample(*imavae.ivae.prior_params(), size=N)\n",
    "            # Estimated z_m for factual outcomes\n",
    "            z_m_pred = torch.stack([z_m0_pred[i,:] if T[i,0] == 0 else z_m1_pred[i,:] for i in range(N)])\n",
    "        mcc_metric.append(mcc(Z, z_m_pred.numpy()))\n",
    "    mcc_metrics_vae.append(mcc_metric)"
   ]
  },
  {
   "cell_type": "code",
   "execution_count": 5,
   "id": "cdf2893f",
   "metadata": {},
   "outputs": [
    {
     "name": "stdout",
     "output_type": "stream",
     "text": [
      "Run 1 \n",
      "=========================================\n",
      "Beginning Training\n"
     ]
    },
    {
     "name": "stderr",
     "output_type": "stream",
     "text": [
      "Epoch: 49, Best Epoch: 49, Best Recon MSE: 0.242034, Best Pred Metric [0.3372386\n"
     ]
    },
    {
     "name": "stdout",
     "output_type": "stream",
     "text": [
      "Saving the last epoch with training MSE: 0.242034 and Pred Metric: [0.33723864]\n",
      "Loaded the best model from Epoch: 49 with MSE: 0.242034 and Pred Metric: [0.33723864]\n",
      "Beginning Training\n"
     ]
    },
    {
     "name": "stderr",
     "output_type": "stream",
     "text": [
      "Epoch: 49, Best Epoch: 49, Best Recon MSE: 0.288843, Best Pred Metric [0.3629009\n"
     ]
    },
    {
     "name": "stdout",
     "output_type": "stream",
     "text": [
      "Saving the last epoch with training MSE: 0.288843 and Pred Metric: [0.36290097, 0.36290097]\n",
      "Loaded the best model from Epoch: 49 with MSE: 0.288843 and Pred Metric: [0.36290097, 0.36290097]\n",
      "Beginning Training\n"
     ]
    },
    {
     "name": "stderr",
     "output_type": "stream",
     "text": [
      "Epoch: 49, Best Epoch: 49, Best Recon MSE: 0.301184, Best Pred Metric [0.4252792\n"
     ]
    },
    {
     "name": "stdout",
     "output_type": "stream",
     "text": [
      "Saving the last epoch with training MSE: 0.301184 and Pred Metric: [0.42527923, 0.42527923, 0.42527923]\n",
      "Loaded the best model from Epoch: 49 with MSE: 0.301184 and Pred Metric: [0.42527923, 0.42527923, 0.42527923]\n",
      "Beginning Training\n"
     ]
    },
    {
     "name": "stderr",
     "output_type": "stream",
     "text": [
      "Epoch: 49, Best Epoch: 49, Best Recon MSE: 0.291558, Best Pred Metric [0.3541298\n"
     ]
    },
    {
     "name": "stdout",
     "output_type": "stream",
     "text": [
      "Saving the last epoch with training MSE: 0.291558 and Pred Metric: [0.35412988, 0.35412988, 0.35412988, 0.35412988]\n",
      "Loaded the best model from Epoch: 49 with MSE: 0.291558 and Pred Metric: [0.35412988, 0.35412988, 0.35412988, 0.35412988]\n",
      "Beginning Training\n"
     ]
    },
    {
     "name": "stderr",
     "output_type": "stream",
     "text": [
      "Epoch: 49, Best Epoch: 49, Best Recon MSE: 0.313347, Best Pred Metric [0.8549691\n"
     ]
    },
    {
     "name": "stdout",
     "output_type": "stream",
     "text": [
      "Saving the last epoch with training MSE: 0.313347 and Pred Metric: [0.8549691, 0.8549691, 0.8549691, 0.8549691, 0.8549691]\n",
      "Loaded the best model from Epoch: 49 with MSE: 0.313347 and Pred Metric: [0.8549691, 0.8549691, 0.8549691, 0.8549691, 0.8549691]\n",
      "Run 2 \n",
      "=========================================\n",
      "Beginning Training\n"
     ]
    },
    {
     "name": "stderr",
     "output_type": "stream",
     "text": [
      "Epoch: 49, Best Epoch: 49, Best Recon MSE: 0.244301, Best Pred Metric [0.3578109\n"
     ]
    },
    {
     "name": "stdout",
     "output_type": "stream",
     "text": [
      "Saving the last epoch with training MSE: 0.244301 and Pred Metric: [0.35781094]\n",
      "Loaded the best model from Epoch: 49 with MSE: 0.244301 and Pred Metric: [0.35781094]\n",
      "Beginning Training\n"
     ]
    },
    {
     "name": "stderr",
     "output_type": "stream",
     "text": [
      "Epoch: 49, Best Epoch: 49, Best Recon MSE: 0.214616, Best Pred Metric [0.8580024\n"
     ]
    },
    {
     "name": "stdout",
     "output_type": "stream",
     "text": [
      "Saving the last epoch with training MSE: 0.214616 and Pred Metric: [0.8580024, 0.8580024]\n",
      "Loaded the best model from Epoch: 49 with MSE: 0.214616 and Pred Metric: [0.8580024, 0.8580024]\n",
      "Beginning Training\n"
     ]
    },
    {
     "name": "stderr",
     "output_type": "stream",
     "text": [
      "Epoch: 49, Best Epoch: 49, Best Recon MSE: 0.279745, Best Pred Metric [0.9434689\n"
     ]
    },
    {
     "name": "stdout",
     "output_type": "stream",
     "text": [
      "Saving the last epoch with training MSE: 0.279745 and Pred Metric: [0.9434689, 0.9434689, 0.9434689]\n",
      "Loaded the best model from Epoch: 49 with MSE: 0.279745 and Pred Metric: [0.9434689, 0.9434689, 0.9434689]\n",
      "Beginning Training\n"
     ]
    },
    {
     "name": "stderr",
     "output_type": "stream",
     "text": [
      "Epoch: 49, Best Epoch: 49, Best Recon MSE: 0.297408, Best Pred Metric [0.4009634\n"
     ]
    },
    {
     "name": "stdout",
     "output_type": "stream",
     "text": [
      "Saving the last epoch with training MSE: 0.297408 and Pred Metric: [0.40096343, 0.40096343, 0.40096343, 0.40096343]\n",
      "Loaded the best model from Epoch: 49 with MSE: 0.297408 and Pred Metric: [0.40096343, 0.40096343, 0.40096343, 0.40096343]\n",
      "Beginning Training\n"
     ]
    },
    {
     "name": "stderr",
     "output_type": "stream",
     "text": [
      "Epoch: 49, Best Epoch: 49, Best Recon MSE: 0.298018, Best Pred Metric [2.1512148\n"
     ]
    },
    {
     "name": "stdout",
     "output_type": "stream",
     "text": [
      "Saving the last epoch with training MSE: 0.298018 and Pred Metric: [2.1512148, 2.1512148, 2.1512148, 2.1512148, 2.1512148]\n",
      "Loaded the best model from Epoch: 49 with MSE: 0.298018 and Pred Metric: [2.1512148, 2.1512148, 2.1512148, 2.1512148, 2.1512148]\n",
      "Run 3 \n",
      "=========================================\n",
      "Beginning Training\n"
     ]
    },
    {
     "name": "stderr",
     "output_type": "stream",
     "text": [
      "Epoch: 49, Best Epoch: 49, Best Recon MSE: 0.24713, Best Pred Metric [0.45516968\n"
     ]
    },
    {
     "name": "stdout",
     "output_type": "stream",
     "text": [
      "Saving the last epoch with training MSE: 0.24713 and Pred Metric: [0.45516968]\n",
      "Loaded the best model from Epoch: 49 with MSE: 0.24713 and Pred Metric: [0.45516968]\n",
      "Beginning Training\n"
     ]
    },
    {
     "name": "stderr",
     "output_type": "stream",
     "text": [
      "Epoch: 49, Best Epoch: 49, Best Recon MSE: 0.471396, Best Pred Metric [0.7853237\n"
     ]
    },
    {
     "name": "stdout",
     "output_type": "stream",
     "text": [
      "Saving the last epoch with training MSE: 0.471396 and Pred Metric: [0.78532374, 0.78532374]\n",
      "Loaded the best model from Epoch: 49 with MSE: 0.471396 and Pred Metric: [0.78532374, 0.78532374]\n",
      "Beginning Training\n"
     ]
    },
    {
     "name": "stderr",
     "output_type": "stream",
     "text": [
      "Epoch: 49, Best Epoch: 49, Best Recon MSE: 0.29505, Best Pred Metric [0.56584406\n"
     ]
    },
    {
     "name": "stdout",
     "output_type": "stream",
     "text": [
      "Saving the last epoch with training MSE: 0.29505 and Pred Metric: [0.56584406, 0.56584406, 0.56584406]\n",
      "Loaded the best model from Epoch: 49 with MSE: 0.29505 and Pred Metric: [0.56584406, 0.56584406, 0.56584406]\n",
      "Beginning Training\n"
     ]
    },
    {
     "name": "stderr",
     "output_type": "stream",
     "text": [
      "Epoch: 49, Best Epoch: 49, Best Recon MSE: 0.305891, Best Pred Metric [0.4155858\n"
     ]
    },
    {
     "name": "stdout",
     "output_type": "stream",
     "text": [
      "Saving the last epoch with training MSE: 0.305891 and Pred Metric: [0.4155858, 0.4155858, 0.4155858, 0.4155858]\n",
      "Loaded the best model from Epoch: 49 with MSE: 0.305891 and Pred Metric: [0.4155858, 0.4155858, 0.4155858, 0.4155858]\n",
      "Beginning Training\n"
     ]
    },
    {
     "name": "stderr",
     "output_type": "stream",
     "text": [
      "Epoch: 49, Best Epoch: 49, Best Recon MSE: 0.306179, Best Pred Metric [1.3431946\n"
     ]
    },
    {
     "name": "stdout",
     "output_type": "stream",
     "text": [
      "Saving the last epoch with training MSE: 0.306179 and Pred Metric: [1.3431946, 1.3431946, 1.3431946, 1.3431946, 1.3431946]\n",
      "Loaded the best model from Epoch: 49 with MSE: 0.306179 and Pred Metric: [1.3431946, 1.3431946, 1.3431946, 1.3431946, 1.3431946]\n",
      "Run 4 \n",
      "=========================================\n",
      "Beginning Training\n"
     ]
    },
    {
     "name": "stderr",
     "output_type": "stream",
     "text": [
      "Epoch: 49, Best Epoch: 49, Best Recon MSE: 0.252534, Best Pred Metric [0.3375083\n"
     ]
    },
    {
     "name": "stdout",
     "output_type": "stream",
     "text": [
      "Saving the last epoch with training MSE: 0.252534 and Pred Metric: [0.33750838]\n",
      "Loaded the best model from Epoch: 49 with MSE: 0.252534 and Pred Metric: [0.33750838]\n",
      "Beginning Training\n"
     ]
    },
    {
     "name": "stderr",
     "output_type": "stream",
     "text": [
      "Epoch: 49, Best Epoch: 49, Best Recon MSE: 0.24461, Best Pred Metric [0.47451016\n"
     ]
    },
    {
     "name": "stdout",
     "output_type": "stream",
     "text": [
      "Saving the last epoch with training MSE: 0.24461 and Pred Metric: [0.47451016, 0.47451016]\n",
      "Loaded the best model from Epoch: 49 with MSE: 0.24461 and Pred Metric: [0.47451016, 0.47451016]\n",
      "Beginning Training\n"
     ]
    },
    {
     "name": "stderr",
     "output_type": "stream",
     "text": [
      "Epoch: 49, Best Epoch: 49, Best Recon MSE: 0.305046, Best Pred Metric [0.6113085\n"
     ]
    },
    {
     "name": "stdout",
     "output_type": "stream",
     "text": [
      "Saving the last epoch with training MSE: 0.305046 and Pred Metric: [0.6113085, 0.6113085, 0.6113085]\n",
      "Loaded the best model from Epoch: 49 with MSE: 0.305046 and Pred Metric: [0.6113085, 0.6113085, 0.6113085]\n",
      "Beginning Training\n"
     ]
    },
    {
     "name": "stderr",
     "output_type": "stream",
     "text": [
      "Epoch: 49, Best Epoch: 49, Best Recon MSE: 0.236571, Best Pred Metric [0.1966803\n"
     ]
    },
    {
     "name": "stdout",
     "output_type": "stream",
     "text": [
      "Saving the last epoch with training MSE: 0.236571 and Pred Metric: [0.19668034, 0.19668034, 0.19668034, 0.19668034]\n",
      "Loaded the best model from Epoch: 49 with MSE: 0.236571 and Pred Metric: [0.19668034, 0.19668034, 0.19668034, 0.19668034]\n",
      "Beginning Training\n"
     ]
    },
    {
     "name": "stderr",
     "output_type": "stream",
     "text": [
      "Epoch: 49, Best Epoch: 48, Best Recon MSE: 0.315722, Best Pred Metric [0.8106084\n"
     ]
    },
    {
     "name": "stdout",
     "output_type": "stream",
     "text": [
      "Saving the last epoch with training MSE: 0.323813 and Pred Metric: [0.8083413, 0.8083413, 0.8083413, 0.8083413, 0.8083413]\n",
      "Loaded the best model from Epoch: 48 with MSE: 0.315722 and Pred Metric: [0.8106084, 0.8106084, 0.8106084, 0.8106084, 0.8106084]\n",
      "Run 5 \n",
      "=========================================\n",
      "Beginning Training\n"
     ]
    },
    {
     "name": "stderr",
     "output_type": "stream",
     "text": [
      "Epoch: 49, Best Epoch: 49, Best Recon MSE: 0.242911, Best Pred Metric [0.3349706\n"
     ]
    },
    {
     "name": "stdout",
     "output_type": "stream",
     "text": [
      "Saving the last epoch with training MSE: 0.242911 and Pred Metric: [0.33497062]\n",
      "Loaded the best model from Epoch: 49 with MSE: 0.242911 and Pred Metric: [0.33497062]\n",
      "Beginning Training\n"
     ]
    },
    {
     "name": "stderr",
     "output_type": "stream",
     "text": [
      "Epoch: 49, Best Epoch: 49, Best Recon MSE: 0.460223, Best Pred Metric [0.3604294\n"
     ]
    },
    {
     "name": "stdout",
     "output_type": "stream",
     "text": [
      "Saving the last epoch with training MSE: 0.460223 and Pred Metric: [0.3604294, 0.3604294]\n",
      "Loaded the best model from Epoch: 49 with MSE: 0.460223 and Pred Metric: [0.3604294, 0.3604294]\n",
      "Beginning Training\n"
     ]
    },
    {
     "name": "stderr",
     "output_type": "stream",
     "text": [
      "Epoch: 49, Best Epoch: 49, Best Recon MSE: 0.240595, Best Pred Metric [0.2722732\n"
     ]
    },
    {
     "name": "stdout",
     "output_type": "stream",
     "text": [
      "Saving the last epoch with training MSE: 0.240595 and Pred Metric: [0.27227327, 0.27227327, 0.27227327]\n",
      "Loaded the best model from Epoch: 49 with MSE: 0.240595 and Pred Metric: [0.27227327, 0.27227327, 0.27227327]\n",
      "Beginning Training\n"
     ]
    },
    {
     "name": "stderr",
     "output_type": "stream",
     "text": [
      "Epoch: 49, Best Epoch: 49, Best Recon MSE: 0.333468, Best Pred Metric [0.9623828\n"
     ]
    },
    {
     "name": "stdout",
     "output_type": "stream",
     "text": [
      "Saving the last epoch with training MSE: 0.333468 and Pred Metric: [0.9623828, 0.9623828, 0.9623828, 0.9623828]\n",
      "Loaded the best model from Epoch: 49 with MSE: 0.333468 and Pred Metric: [0.9623828, 0.9623828, 0.9623828, 0.9623828]\n",
      "Beginning Training\n"
     ]
    },
    {
     "name": "stderr",
     "output_type": "stream",
     "text": [
      "Epoch: 49, Best Epoch: 49, Best Recon MSE: 0.286478, Best Pred Metric [0.8064784"
     ]
    },
    {
     "name": "stdout",
     "output_type": "stream",
     "text": [
      "Saving the last epoch with training MSE: 0.286478 and Pred Metric: [0.8064784, 0.8064784, 0.8064784, 0.8064784, 0.8064784]\n",
      "Loaded the best model from Epoch: 49 with MSE: 0.286478 and Pred Metric: [0.8064784, 0.8064784, 0.8064784, 0.8064784, 0.8064784]\n"
     ]
    },
    {
     "name": "stderr",
     "output_type": "stream",
     "text": [
      "\n"
     ]
    }
   ],
   "source": [
    "# beta-VAE\n",
    "num_runs = 5\n",
    "mcc_metrics_beta_vae = []\n",
    "\n",
    "for i in range(num_runs):\n",
    "    print(f\"Run {i+1} \\n=========================================\")\n",
    "    mcc_metric = []\n",
    "    for idx, z_m_dim in enumerate(z_m_dims):\n",
    "        T, X, Z = data[z_m_dim]['T'], data[z_m_dim]['X'], data[z_m_dim]['Z'], \n",
    "        Y, W = data[z_m_dim]['Y'], data[z_m_dim]['W']\n",
    "        imavae = IMAVAE(n_components=z_m_dim, n_sup_networks=z_m_dim, n_hidden_layers=2, hidden_dim=25, \n",
    "                        optim_name='Adam', recon_weight=1., elbo_weight=1., sup_weight=1., \n",
    "                        identifiable=False, beta=4.0, prior_scale=0.01, anneal=False)\n",
    "        WT = np.concatenate([T,W], axis=1)\n",
    "        _ = imavae.fit(\n",
    "            X, WT, Y, X_val=X, aux_val=WT, y_val=Y, \n",
    "            lr=1e-5, n_epochs=50, pretrain=False, verbose=1, \n",
    "            best_model_name=\"best_model_with_covariate.pt\"\n",
    "        )\n",
    "        with torch.no_grad():\n",
    "            t0, t1 = torch.zeros(N, 1), torch.ones(N, 1)\n",
    "            t0, t1 = torch.cat([t0, torch.tensor(W).float()], dim=1), torch.cat([t1, torch.tensor(W).float()], dim=1)\n",
    "            z_m0_pred = imavae.prior_dist.sample(*imavae.ivae.prior_params(), size=N)\n",
    "            z_m1_pred = imavae.prior_dist.sample(*imavae.ivae.prior_params(), size=N)\n",
    "            # Estimated z_m for factual outcomes\n",
    "            z_m_pred = torch.stack([z_m0_pred[i,:] if T[i,0] == 0 else z_m1_pred[i,:] for i in range(N)])\n",
    "        mcc_metric.append(mcc(Z, z_m_pred.numpy()))\n",
    "    mcc_metrics_beta_vae.append(mcc_metric)"
   ]
  },
  {
   "cell_type": "markdown",
   "id": "f13e52a9",
   "metadata": {},
   "source": [
    "## Compare mean correlation coefficients for varying dimensions of Z"
   ]
  },
  {
   "cell_type": "code",
   "execution_count": 6,
   "id": "3785e107",
   "metadata": {},
   "outputs": [
    {
     "data": {
      "image/png": "[encoded data removed]",
      "text/plain": [
       "<Figure size 504x432 with 1 Axes>"
      ]
     },
     "metadata": {
      "needs_background": "light"
     },
     "output_type": "display_data"
    }
   ],
   "source": [
    "mcc_metrics_imavae = np.array(mcc_metrics_imavae)\n",
    "mcc_metrics_vae = np.array(mcc_metrics_vae)\n",
    "mcc_metrics_beta_vae = np.array(mcc_metrics_beta_vae)\n",
    "\n",
    "fig, ax = plt.subplots(1, 1, figsize=(7,6))\n",
    "ax.plot(z_m_dims, np.mean(mcc_metrics_imavae,axis=0), color='blue', lw=2, marker='.', markersize=12, label='IMAVAE')\n",
    "ax.plot(z_m_dims, np.mean(mcc_metrics_vae,axis=0), color='red', lw=2, marker='^', markersize=12, label='VAE')\n",
    "ax.plot(z_m_dims, np.mean(mcc_metrics_beta_vae,axis=0), color='orange', lw=2, marker='*', markersize=12, label=r'$\\beta$-VAE')\n",
    "ax.fill_between(\n",
    "    z_m_dims, \n",
    "    np.mean(mcc_metrics_imavae,axis=0)-np.std(mcc_metrics_imavae,axis=0), \n",
    "    np.mean(mcc_metrics_imavae,axis=0)+np.std(mcc_metrics_imavae,axis=0), \n",
    "    color='blue', alpha=0.1\n",
    ")\n",
    "ax.fill_between(\n",
    "    z_m_dims, \n",
    "    np.mean(mcc_metrics_vae,axis=0)-np.std(mcc_metrics_vae,axis=0), \n",
    "    np.mean(mcc_metrics_vae,axis=0)+np.std(mcc_metrics_vae,axis=0), \n",
    "    color='red', alpha=0.1\n",
    ")\n",
    "ax.fill_between(\n",
    "    z_m_dims, \n",
    "    np.mean(mcc_metrics_beta_vae,axis=0)-np.std(mcc_metrics_beta_vae,axis=0), \n",
    "    np.mean(mcc_metrics_beta_vae,axis=0)+np.std(mcc_metrics_beta_vae,axis=0), \n",
    "    color='orange', alpha=0.1\n",
    ")\n",
    "ax.locator_params(nbins=5, axis='x')\n",
    "ax.locator_params(nbins=5, axis='y')\n",
    "ax.tick_params(axis='both', which='major', labelsize=17)\n",
    "ax.set_xlabel('Dimension of Z', fontsize=20)\n",
    "ax.set_ylabel('Mean Correlation Coefficient', fontsize=20)\n",
    "ax.legend(prop={'size': 15})\n",
    "plt.savefig('./Figures/mcc_varying_dz_with_covariate.png', dpi=600)"
   ]
  },
  {
   "cell_type": "markdown",
   "id": "ec67767b",
   "metadata": {},
   "source": [
    "## Fit IMAVAE on the data with different number of training epochs and $d_Z = 2$"
   ]
  },
  {
   "cell_type": "code",
   "execution_count": 7,
   "id": "3f32a44f",
   "metadata": {},
   "outputs": [
    {
     "name": "stdout",
     "output_type": "stream",
     "text": [
      "Run 1 \n",
      "=========================================\n",
      "Beginning Training\n"
     ]
    },
    {
     "name": "stderr",
     "output_type": "stream",
     "text": [
      "Epoch: 4, Best Epoch: 2, Best Recon MSE: 0.345172, Best Pred Metric [2.3089097, \n"
     ]
    },
    {
     "name": "stdout",
     "output_type": "stream",
     "text": [
      "Saving the last epoch with training MSE: 0.218615 and Pred Metric: [6.2229295, 6.2229295]\n",
      "Loaded the best model from Epoch: 2 with MSE: 0.345172 and Pred Metric: [2.3089097, 2.3089097]\n",
      "Beginning Training\n"
     ]
    },
    {
     "name": "stderr",
     "output_type": "stream",
     "text": [
      "Epoch: 9, Best Epoch: 2, Best Recon MSE: 0.330879, Best Pred Metric [2.7351036, \n"
     ]
    },
    {
     "name": "stdout",
     "output_type": "stream",
     "text": [
      "Saving the last epoch with training MSE: 0.143301 and Pred Metric: [3.2706132, 3.2706132]\n",
      "Loaded the best model from Epoch: 2 with MSE: 0.330879 and Pred Metric: [2.7351036, 2.7351036]\n",
      "Beginning Training\n"
     ]
    },
    {
     "name": "stderr",
     "output_type": "stream",
     "text": [
      "Epoch: 19, Best Epoch: 3, Best Recon MSE: 0.356068, Best Pred Metric [1.6918274,\n"
     ]
    },
    {
     "name": "stdout",
     "output_type": "stream",
     "text": [
      "Saving the last epoch with training MSE: 0.119571 and Pred Metric: [2.2521558, 2.2521558]\n",
      "Loaded the best model from Epoch: 3 with MSE: 0.356068 and Pred Metric: [1.6918274, 1.6918274]\n",
      "Beginning Training\n"
     ]
    },
    {
     "name": "stderr",
     "output_type": "stream",
     "text": [
      "Epoch: 39, Best Epoch: 39, Best Recon MSE: 0.107555, Best Pred Metric [0.3216842\n"
     ]
    },
    {
     "name": "stdout",
     "output_type": "stream",
     "text": [
      "Saving the last epoch with training MSE: 0.107555 and Pred Metric: [0.3216842, 0.3216842]\n",
      "Loaded the best model from Epoch: 39 with MSE: 0.107555 and Pred Metric: [0.3216842, 0.3216842]\n",
      "Beginning Training\n"
     ]
    },
    {
     "name": "stderr",
     "output_type": "stream",
     "text": [
      "Epoch: 59, Best Epoch: 59, Best Recon MSE: 0.106511, Best Pred Metric [0.1411141\n"
     ]
    },
    {
     "name": "stdout",
     "output_type": "stream",
     "text": [
      "Saving the last epoch with training MSE: 0.106511 and Pred Metric: [0.1411141, 0.1411141]\n",
      "Loaded the best model from Epoch: 59 with MSE: 0.106511 and Pred Metric: [0.1411141, 0.1411141]\n",
      "Beginning Training\n"
     ]
    },
    {
     "name": "stderr",
     "output_type": "stream",
     "text": [
      "Epoch: 79, Best Epoch: 79, Best Recon MSE: 0.105095, Best Pred Metric [0.1389900\n"
     ]
    },
    {
     "name": "stdout",
     "output_type": "stream",
     "text": [
      "Saving the last epoch with training MSE: 0.105095 and Pred Metric: [0.13899004, 0.13899004]\n",
      "Loaded the best model from Epoch: 79 with MSE: 0.105095 and Pred Metric: [0.13899004, 0.13899004]\n",
      "Run 2 \n",
      "=========================================\n",
      "Beginning Training\n"
     ]
    },
    {
     "name": "stderr",
     "output_type": "stream",
     "text": [
      "Epoch: 4, Best Epoch: 3, Best Recon MSE: 0.316787, Best Pred Metric [4.733804, 4\n"
     ]
    },
    {
     "name": "stdout",
     "output_type": "stream",
     "text": [
      "Saving the last epoch with training MSE: 0.263185 and Pred Metric: [6.3045444, 6.3045444]\n",
      "Loaded the best model from Epoch: 3 with MSE: 0.316787 and Pred Metric: [4.733804, 4.733804]\n",
      "Beginning Training\n"
     ]
    },
    {
     "name": "stderr",
     "output_type": "stream",
     "text": [
      "Epoch: 9, Best Epoch: 9, Best Recon MSE: 0.123636, Best Pred Metric [6.110821, 6\n"
     ]
    },
    {
     "name": "stdout",
     "output_type": "stream",
     "text": [
      "Saving the last epoch with training MSE: 0.123636 and Pred Metric: [6.110821, 6.110821]\n",
      "Loaded the best model from Epoch: 9 with MSE: 0.123636 and Pred Metric: [6.110821, 6.110821]\n",
      "Beginning Training\n"
     ]
    },
    {
     "name": "stderr",
     "output_type": "stream",
     "text": [
      "Epoch: 19, Best Epoch: 19, Best Recon MSE: 0.116353, Best Pred Metric [5.0059423\n"
     ]
    },
    {
     "name": "stdout",
     "output_type": "stream",
     "text": [
      "Saving the last epoch with training MSE: 0.116353 and Pred Metric: [5.0059423, 5.0059423]\n",
      "Loaded the best model from Epoch: 19 with MSE: 0.116353 and Pred Metric: [5.0059423, 5.0059423]\n",
      "Beginning Training\n"
     ]
    },
    {
     "name": "stderr",
     "output_type": "stream",
     "text": [
      "Epoch: 39, Best Epoch: 39, Best Recon MSE: 0.111639, Best Pred Metric [0.2159165\n"
     ]
    },
    {
     "name": "stdout",
     "output_type": "stream",
     "text": [
      "Saving the last epoch with training MSE: 0.111639 and Pred Metric: [0.21591654, 0.21591654]\n",
      "Loaded the best model from Epoch: 39 with MSE: 0.111639 and Pred Metric: [0.21591654, 0.21591654]\n",
      "Beginning Training\n"
     ]
    },
    {
     "name": "stderr",
     "output_type": "stream",
     "text": [
      "Epoch: 59, Best Epoch: 59, Best Recon MSE: 0.109565, Best Pred Metric [0.1356654\n"
     ]
    },
    {
     "name": "stdout",
     "output_type": "stream",
     "text": [
      "Saving the last epoch with training MSE: 0.109565 and Pred Metric: [0.13566549, 0.13566549]\n",
      "Loaded the best model from Epoch: 59 with MSE: 0.109565 and Pred Metric: [0.13566549, 0.13566549]\n",
      "Beginning Training\n"
     ]
    },
    {
     "name": "stderr",
     "output_type": "stream",
     "text": [
      "Epoch: 79, Best Epoch: 79, Best Recon MSE: 0.105072, Best Pred Metric [0.1587157\n"
     ]
    },
    {
     "name": "stdout",
     "output_type": "stream",
     "text": [
      "Saving the last epoch with training MSE: 0.105072 and Pred Metric: [0.15871574, 0.15871574]\n",
      "Loaded the best model from Epoch: 79 with MSE: 0.105072 and Pred Metric: [0.15871574, 0.15871574]\n",
      "Run 3 \n",
      "=========================================\n",
      "Beginning Training\n"
     ]
    },
    {
     "name": "stderr",
     "output_type": "stream",
     "text": [
      "Epoch: 4, Best Epoch: 4, Best Recon MSE: 0.30935, Best Pred Metric [11.638344, 1\n"
     ]
    },
    {
     "name": "stdout",
     "output_type": "stream",
     "text": [
      "Saving the last epoch with training MSE: 0.30935 and Pred Metric: [11.638344, 11.638344]\n",
      "Loaded the best model from Epoch: 4 with MSE: 0.30935 and Pred Metric: [11.638344, 11.638344]\n",
      "Beginning Training\n"
     ]
    },
    {
     "name": "stderr",
     "output_type": "stream",
     "text": [
      "Epoch: 9, Best Epoch: 9, Best Recon MSE: 0.205782, Best Pred Metric [3.831102, 3\n"
     ]
    },
    {
     "name": "stdout",
     "output_type": "stream",
     "text": [
      "Saving the last epoch with training MSE: 0.205782 and Pred Metric: [3.831102, 3.831102]\n",
      "Loaded the best model from Epoch: 9 with MSE: 0.205782 and Pred Metric: [3.831102, 3.831102]\n",
      "Beginning Training\n"
     ]
    },
    {
     "name": "stderr",
     "output_type": "stream",
     "text": [
      "Epoch: 19, Best Epoch: 19, Best Recon MSE: 0.114289, Best Pred Metric [2.4527996\n"
     ]
    },
    {
     "name": "stdout",
     "output_type": "stream",
     "text": [
      "Saving the last epoch with training MSE: 0.114289 and Pred Metric: [2.4527996, 2.4527996]\n",
      "Loaded the best model from Epoch: 19 with MSE: 0.114289 and Pred Metric: [2.4527996, 2.4527996]\n",
      "Beginning Training\n"
     ]
    },
    {
     "name": "stderr",
     "output_type": "stream",
     "text": [
      "Epoch: 39, Best Epoch: 39, Best Recon MSE: 0.111874, Best Pred Metric [0.2069109\n"
     ]
    },
    {
     "name": "stdout",
     "output_type": "stream",
     "text": [
      "Saving the last epoch with training MSE: 0.111874 and Pred Metric: [0.20691097, 0.20691097]\n",
      "Loaded the best model from Epoch: 39 with MSE: 0.111874 and Pred Metric: [0.20691097, 0.20691097]\n",
      "Beginning Training\n"
     ]
    },
    {
     "name": "stderr",
     "output_type": "stream",
     "text": [
      "Epoch: 59, Best Epoch: 59, Best Recon MSE: 0.107222, Best Pred Metric [0.2181817\n"
     ]
    },
    {
     "name": "stdout",
     "output_type": "stream",
     "text": [
      "Saving the last epoch with training MSE: 0.107222 and Pred Metric: [0.21818173, 0.21818173]\n",
      "Loaded the best model from Epoch: 59 with MSE: 0.107222 and Pred Metric: [0.21818173, 0.21818173]\n",
      "Beginning Training\n"
     ]
    },
    {
     "name": "stderr",
     "output_type": "stream",
     "text": [
      "Epoch: 79, Best Epoch: 79, Best Recon MSE: 0.104238, Best Pred Metric [0.1314331\n"
     ]
    },
    {
     "name": "stdout",
     "output_type": "stream",
     "text": [
      "Saving the last epoch with training MSE: 0.104238 and Pred Metric: [0.13143313, 0.13143313]\n",
      "Loaded the best model from Epoch: 79 with MSE: 0.104238 and Pred Metric: [0.13143313, 0.13143313]\n",
      "Run 4 \n",
      "=========================================\n",
      "Beginning Training\n"
     ]
    },
    {
     "name": "stderr",
     "output_type": "stream",
     "text": [
      "Epoch: 4, Best Epoch: 1, Best Recon MSE: 0.356843, Best Pred Metric [8.643298, 8\n"
     ]
    },
    {
     "name": "stdout",
     "output_type": "stream",
     "text": [
      "Saving the last epoch with training MSE: 0.172926 and Pred Metric: [10.132901, 10.132901]\n",
      "Loaded the best model from Epoch: 1 with MSE: 0.356843 and Pred Metric: [8.643298, 8.643298]\n",
      "Beginning Training\n"
     ]
    },
    {
     "name": "stderr",
     "output_type": "stream",
     "text": [
      "Epoch: 9, Best Epoch: 9, Best Recon MSE: 0.126182, Best Pred Metric [2.9632754, \n"
     ]
    },
    {
     "name": "stdout",
     "output_type": "stream",
     "text": [
      "Saving the last epoch with training MSE: 0.126182 and Pred Metric: [2.9632754, 2.9632754]\n",
      "Loaded the best model from Epoch: 9 with MSE: 0.126182 and Pred Metric: [2.9632754, 2.9632754]\n",
      "Beginning Training\n"
     ]
    },
    {
     "name": "stderr",
     "output_type": "stream",
     "text": [
      "Epoch: 19, Best Epoch: 2, Best Recon MSE: 0.354561, Best Pred Metric [1.2829312,\n"
     ]
    },
    {
     "name": "stdout",
     "output_type": "stream",
     "text": [
      "Saving the last epoch with training MSE: 0.117013 and Pred Metric: [2.317719, 2.317719]\n",
      "Loaded the best model from Epoch: 2 with MSE: 0.354561 and Pred Metric: [1.2829312, 1.2829312]\n",
      "Beginning Training\n"
     ]
    },
    {
     "name": "stderr",
     "output_type": "stream",
     "text": [
      "Epoch: 39, Best Epoch: 39, Best Recon MSE: 0.10684, Best Pred Metric [0.3492288,\n"
     ]
    },
    {
     "name": "stdout",
     "output_type": "stream",
     "text": [
      "Saving the last epoch with training MSE: 0.10684 and Pred Metric: [0.3492288, 0.3492288]\n",
      "Loaded the best model from Epoch: 39 with MSE: 0.10684 and Pred Metric: [0.3492288, 0.3492288]\n",
      "Beginning Training\n"
     ]
    },
    {
     "name": "stderr",
     "output_type": "stream",
     "text": [
      "Epoch: 59, Best Epoch: 59, Best Recon MSE: 0.10711, Best Pred Metric [0.16773526\n"
     ]
    },
    {
     "name": "stdout",
     "output_type": "stream",
     "text": [
      "Saving the last epoch with training MSE: 0.10711 and Pred Metric: [0.16773526, 0.16773526]\n",
      "Loaded the best model from Epoch: 59 with MSE: 0.10711 and Pred Metric: [0.16773526, 0.16773526]\n",
      "Beginning Training\n"
     ]
    },
    {
     "name": "stderr",
     "output_type": "stream",
     "text": [
      "Epoch: 79, Best Epoch: 78, Best Recon MSE: 0.104042, Best Pred Metric [0.1357998\n"
     ]
    },
    {
     "name": "stdout",
     "output_type": "stream",
     "text": [
      "Saving the last epoch with training MSE: 0.104182 and Pred Metric: [0.13635403, 0.13635403]\n",
      "Loaded the best model from Epoch: 78 with MSE: 0.104042 and Pred Metric: [0.13579987, 0.13579987]\n",
      "Run 5 \n",
      "=========================================\n",
      "Beginning Training\n"
     ]
    },
    {
     "name": "stderr",
     "output_type": "stream",
     "text": [
      "Epoch: 4, Best Epoch: 4, Best Recon MSE: 0.364449, Best Pred Metric [6.1734705, \n"
     ]
    },
    {
     "name": "stdout",
     "output_type": "stream",
     "text": [
      "Saving the last epoch with training MSE: 0.364449 and Pred Metric: [6.1734705, 6.1734705]\n",
      "Loaded the best model from Epoch: 4 with MSE: 0.364449 and Pred Metric: [6.1734705, 6.1734705]\n",
      "Beginning Training\n"
     ]
    },
    {
     "name": "stderr",
     "output_type": "stream",
     "text": [
      "Epoch: 9, Best Epoch: 9, Best Recon MSE: 0.245737, Best Pred Metric [5.6270375, \n"
     ]
    },
    {
     "name": "stdout",
     "output_type": "stream",
     "text": [
      "Saving the last epoch with training MSE: 0.245737 and Pred Metric: [5.6270375, 5.6270375]\n",
      "Loaded the best model from Epoch: 9 with MSE: 0.245737 and Pred Metric: [5.6270375, 5.6270375]\n",
      "Beginning Training\n"
     ]
    },
    {
     "name": "stderr",
     "output_type": "stream",
     "text": [
      "Epoch: 19, Best Epoch: 19, Best Recon MSE: 0.112476, Best Pred Metric [2.9250495\n"
     ]
    },
    {
     "name": "stdout",
     "output_type": "stream",
     "text": [
      "Saving the last epoch with training MSE: 0.112476 and Pred Metric: [2.9250495, 2.9250495]\n",
      "Loaded the best model from Epoch: 19 with MSE: 0.112476 and Pred Metric: [2.9250495, 2.9250495]\n",
      "Beginning Training\n"
     ]
    },
    {
     "name": "stderr",
     "output_type": "stream",
     "text": [
      "Epoch: 39, Best Epoch: 39, Best Recon MSE: 0.109049, Best Pred Metric [1.6561084\n"
     ]
    },
    {
     "name": "stdout",
     "output_type": "stream",
     "text": [
      "Saving the last epoch with training MSE: 0.109049 and Pred Metric: [1.6561084, 1.6561084]\n",
      "Loaded the best model from Epoch: 39 with MSE: 0.109049 and Pred Metric: [1.6561084, 1.6561084]\n",
      "Beginning Training\n"
     ]
    },
    {
     "name": "stderr",
     "output_type": "stream",
     "text": [
      "Epoch: 59, Best Epoch: 59, Best Recon MSE: 0.107775, Best Pred Metric [0.2297491\n"
     ]
    },
    {
     "name": "stdout",
     "output_type": "stream",
     "text": [
      "Saving the last epoch with training MSE: 0.107775 and Pred Metric: [0.22974914, 0.22974914]\n",
      "Loaded the best model from Epoch: 59 with MSE: 0.107775 and Pred Metric: [0.22974914, 0.22974914]\n",
      "Beginning Training\n"
     ]
    },
    {
     "name": "stderr",
     "output_type": "stream",
     "text": [
      "Epoch: 79, Best Epoch: 78, Best Recon MSE: 0.105699, Best Pred Metric [0.1351013"
     ]
    },
    {
     "name": "stdout",
     "output_type": "stream",
     "text": [
      "Saving the last epoch with training MSE: 0.105752 and Pred Metric: [0.13533512, 0.13533512]\n",
      "Loaded the best model from Epoch: 78 with MSE: 0.105699 and Pred Metric: [0.13510133, 0.13510133]\n"
     ]
    },
    {
     "name": "stderr",
     "output_type": "stream",
     "text": [
      "\n"
     ]
    }
   ],
   "source": [
    "num_runs = 5\n",
    "z_m_dim = 2\n",
    "mcc_metrics_imavae = []\n",
    "num_epochs = [5,10,20,40,60,80]\n",
    "\n",
    "for i in range(num_runs):\n",
    "    print(f\"Run {i+1} \\n=========================================\")\n",
    "    mcc_metric = []\n",
    "    for idx, epochs in enumerate(num_epochs):\n",
    "        T, X, Z = data[z_m_dim]['T'], data[z_m_dim]['X'], data[z_m_dim]['Z'], \n",
    "        Y, W = data[z_m_dim]['Y'], data[z_m_dim]['W']\n",
    "        imavae = IMAVAE(n_components=z_m_dim, n_sup_networks=z_m_dim, n_hidden_layers=2, hidden_dim=25, \n",
    "                       optim_name='Adam', recon_weight=1., elbo_weight=1., sup_weight=1., anneal=False)\n",
    "        WT = np.concatenate([T,W], axis=1)\n",
    "        _ = imavae.fit(\n",
    "            X, WT, Y, X_val=X, aux_val=WT, y_val=Y, \n",
    "            lr=1e-5, n_epochs=epochs, pretrain=False, verbose=1, \n",
    "            best_model_name=\"best_model_with_covariate.pt\"\n",
    "        )\n",
    "        with torch.no_grad():\n",
    "            t0, t1 = torch.zeros(N, 1), torch.ones(N, 1)\n",
    "            t0, t1 = torch.cat([t0, torch.tensor(W).float()], dim=1), torch.cat([t1, torch.tensor(W).float()], dim=1)\n",
    "            z_m0_pred = imavae.prior_dist.sample(*imavae.ivae.prior_params(t0))\n",
    "            z_m1_pred = imavae.prior_dist.sample(*imavae.ivae.prior_params(t1))\n",
    "            # Estimated z_m for factual outcomes\n",
    "            z_m_pred = torch.stack([z_m0_pred[i,:] if T[i,0] == 0 else z_m1_pred[i,:] for i in range(N)])\n",
    "        mcc_metric.append(mcc(Z, z_m_pred.numpy()))\n",
    "    mcc_metrics_imavae.append(mcc_metric)"
   ]
  },
  {
   "cell_type": "markdown",
   "id": "b3160e33",
   "metadata": {},
   "source": [
    "## Fit regular VAE and $\\beta$-VAE with different number of training epochs and $d_Z = 2$"
   ]
  },
  {
   "cell_type": "code",
   "execution_count": 8,
   "id": "ca917c96",
   "metadata": {},
   "outputs": [
    {
     "name": "stdout",
     "output_type": "stream",
     "text": [
      "Run 1 \n",
      "=========================================\n",
      "Beginning Training\n"
     ]
    },
    {
     "name": "stderr",
     "output_type": "stream",
     "text": [
      "Epoch: 4, Best Epoch: 4, Best Recon MSE: 0.472684, Best Pred Metric [8.447133, 8\n"
     ]
    },
    {
     "name": "stdout",
     "output_type": "stream",
     "text": [
      "Saving the last epoch with training MSE: 0.472684 and Pred Metric: [8.447133, 8.447133]\n",
      "Loaded the best model from Epoch: 4 with MSE: 0.472684 and Pred Metric: [8.447133, 8.447133]\n",
      "Beginning Training\n"
     ]
    },
    {
     "name": "stderr",
     "output_type": "stream",
     "text": [
      "Epoch: 9, Best Epoch: 9, Best Recon MSE: 0.375604, Best Pred Metric [6.873414, 6\n"
     ]
    },
    {
     "name": "stdout",
     "output_type": "stream",
     "text": [
      "Saving the last epoch with training MSE: 0.375604 and Pred Metric: [6.873414, 6.873414]\n",
      "Loaded the best model from Epoch: 9 with MSE: 0.375604 and Pred Metric: [6.873414, 6.873414]\n",
      "Beginning Training\n"
     ]
    },
    {
     "name": "stderr",
     "output_type": "stream",
     "text": [
      "Epoch: 19, Best Epoch: 19, Best Recon MSE: 0.174738, Best Pred Metric [0.5368039\n"
     ]
    },
    {
     "name": "stdout",
     "output_type": "stream",
     "text": [
      "Saving the last epoch with training MSE: 0.174738 and Pred Metric: [0.5368039, 0.5368039]\n",
      "Loaded the best model from Epoch: 19 with MSE: 0.174738 and Pred Metric: [0.5368039, 0.5368039]\n",
      "Beginning Training\n"
     ]
    },
    {
     "name": "stderr",
     "output_type": "stream",
     "text": [
      "Epoch: 39, Best Epoch: 39, Best Recon MSE: 0.125307, Best Pred Metric [0.3053428\n"
     ]
    },
    {
     "name": "stdout",
     "output_type": "stream",
     "text": [
      "Saving the last epoch with training MSE: 0.125307 and Pred Metric: [0.30534285, 0.30534285]\n",
      "Loaded the best model from Epoch: 39 with MSE: 0.125307 and Pred Metric: [0.30534285, 0.30534285]\n",
      "Beginning Training\n"
     ]
    },
    {
     "name": "stderr",
     "output_type": "stream",
     "text": [
      "Epoch: 59, Best Epoch: 58, Best Recon MSE: 0.1159, Best Pred Metric [0.17102572,\n"
     ]
    },
    {
     "name": "stdout",
     "output_type": "stream",
     "text": [
      "Saving the last epoch with training MSE: 0.11651 and Pred Metric: [0.17295252, 0.17295252]\n",
      "Loaded the best model from Epoch: 58 with MSE: 0.1159 and Pred Metric: [0.17102572, 0.17102572]\n",
      "Beginning Training\n"
     ]
    },
    {
     "name": "stderr",
     "output_type": "stream",
     "text": [
      "Epoch: 79, Best Epoch: 78, Best Recon MSE: 0.111046, Best Pred Metric [0.1676398\n"
     ]
    },
    {
     "name": "stdout",
     "output_type": "stream",
     "text": [
      "Saving the last epoch with training MSE: 0.112302 and Pred Metric: [0.1714104, 0.1714104]\n",
      "Loaded the best model from Epoch: 78 with MSE: 0.111046 and Pred Metric: [0.1676398, 0.1676398]\n",
      "Run 2 \n",
      "=========================================\n",
      "Beginning Training\n"
     ]
    },
    {
     "name": "stderr",
     "output_type": "stream",
     "text": [
      "Epoch: 4, Best Epoch: 4, Best Recon MSE: 0.500563, Best Pred Metric [5.185112, 5\n"
     ]
    },
    {
     "name": "stdout",
     "output_type": "stream",
     "text": [
      "Saving the last epoch with training MSE: 0.500563 and Pred Metric: [5.185112, 5.185112]\n",
      "Loaded the best model from Epoch: 4 with MSE: 0.500563 and Pred Metric: [5.185112, 5.185112]\n",
      "Beginning Training\n"
     ]
    },
    {
     "name": "stderr",
     "output_type": "stream",
     "text": [
      "Epoch: 9, Best Epoch: 9, Best Recon MSE: 0.360364, Best Pred Metric [5.7061243, \n"
     ]
    },
    {
     "name": "stdout",
     "output_type": "stream",
     "text": [
      "Saving the last epoch with training MSE: 0.360364 and Pred Metric: [5.7061243, 5.7061243]\n",
      "Loaded the best model from Epoch: 9 with MSE: 0.360364 and Pred Metric: [5.7061243, 5.7061243]\n",
      "Beginning Training\n"
     ]
    },
    {
     "name": "stderr",
     "output_type": "stream",
     "text": [
      "Epoch: 19, Best Epoch: 19, Best Recon MSE: 0.165169, Best Pred Metric [4.503241,\n"
     ]
    },
    {
     "name": "stdout",
     "output_type": "stream",
     "text": [
      "Saving the last epoch with training MSE: 0.165169 and Pred Metric: [4.503241, 4.503241]\n",
      "Loaded the best model from Epoch: 19 with MSE: 0.165169 and Pred Metric: [4.503241, 4.503241]\n",
      "Beginning Training\n"
     ]
    },
    {
     "name": "stderr",
     "output_type": "stream",
     "text": [
      "Epoch: 39, Best Epoch: 39, Best Recon MSE: 0.128107, Best Pred Metric [0.2922837\n"
     ]
    },
    {
     "name": "stdout",
     "output_type": "stream",
     "text": [
      "Saving the last epoch with training MSE: 0.128107 and Pred Metric: [0.29228374, 0.29228374]\n",
      "Loaded the best model from Epoch: 39 with MSE: 0.128107 and Pred Metric: [0.29228374, 0.29228374]\n",
      "Beginning Training\n"
     ]
    },
    {
     "name": "stderr",
     "output_type": "stream",
     "text": [
      "Epoch: 59, Best Epoch: 59, Best Recon MSE: 0.116339, Best Pred Metric [0.4312276\n"
     ]
    },
    {
     "name": "stdout",
     "output_type": "stream",
     "text": [
      "Saving the last epoch with training MSE: 0.116339 and Pred Metric: [0.43122762, 0.43122762]\n",
      "Loaded the best model from Epoch: 59 with MSE: 0.116339 and Pred Metric: [0.43122762, 0.43122762]\n",
      "Beginning Training\n"
     ]
    },
    {
     "name": "stderr",
     "output_type": "stream",
     "text": [
      "Epoch: 79, Best Epoch: 79, Best Recon MSE: 0.113154, Best Pred Metric [0.1937433\n"
     ]
    },
    {
     "name": "stdout",
     "output_type": "stream",
     "text": [
      "Saving the last epoch with training MSE: 0.113154 and Pred Metric: [0.19374335, 0.19374335]\n",
      "Loaded the best model from Epoch: 79 with MSE: 0.113154 and Pred Metric: [0.19374335, 0.19374335]\n",
      "Run 3 \n",
      "=========================================\n",
      "Beginning Training\n"
     ]
    },
    {
     "name": "stderr",
     "output_type": "stream",
     "text": [
      "Epoch: 4, Best Epoch: 4, Best Recon MSE: 0.645792, Best Pred Metric [5.6600885, \n"
     ]
    },
    {
     "name": "stdout",
     "output_type": "stream",
     "text": [
      "Saving the last epoch with training MSE: 0.645792 and Pred Metric: [5.6600885, 5.6600885]\n",
      "Loaded the best model from Epoch: 4 with MSE: 0.645792 and Pred Metric: [5.6600885, 5.6600885]\n",
      "Beginning Training\n"
     ]
    },
    {
     "name": "stderr",
     "output_type": "stream",
     "text": [
      "Epoch: 9, Best Epoch: 9, Best Recon MSE: 0.355554, Best Pred Metric [7.7869062, \n"
     ]
    },
    {
     "name": "stdout",
     "output_type": "stream",
     "text": [
      "Saving the last epoch with training MSE: 0.355554 and Pred Metric: [7.7869062, 7.7869062]\n",
      "Loaded the best model from Epoch: 9 with MSE: 0.355554 and Pred Metric: [7.7869062, 7.7869062]\n",
      "Beginning Training\n"
     ]
    },
    {
     "name": "stderr",
     "output_type": "stream",
     "text": [
      "Epoch: 19, Best Epoch: 19, Best Recon MSE: 0.236568, Best Pred Metric [2.8361614\n"
     ]
    },
    {
     "name": "stdout",
     "output_type": "stream",
     "text": [
      "Saving the last epoch with training MSE: 0.236568 and Pred Metric: [2.8361614, 2.8361614]\n",
      "Loaded the best model from Epoch: 19 with MSE: 0.236568 and Pred Metric: [2.8361614, 2.8361614]\n",
      "Beginning Training\n"
     ]
    },
    {
     "name": "stderr",
     "output_type": "stream",
     "text": [
      "Epoch: 39, Best Epoch: 39, Best Recon MSE: 0.173289, Best Pred Metric [0.4125958\n"
     ]
    },
    {
     "name": "stdout",
     "output_type": "stream",
     "text": [
      "Saving the last epoch with training MSE: 0.173289 and Pred Metric: [0.41259587, 0.41259587]\n",
      "Loaded the best model from Epoch: 39 with MSE: 0.173289 and Pred Metric: [0.41259587, 0.41259587]\n",
      "Beginning Training\n"
     ]
    },
    {
     "name": "stderr",
     "output_type": "stream",
     "text": [
      "Epoch: 59, Best Epoch: 59, Best Recon MSE: 0.114726, Best Pred Metric [0.2488494\n"
     ]
    },
    {
     "name": "stdout",
     "output_type": "stream",
     "text": [
      "Saving the last epoch with training MSE: 0.114726 and Pred Metric: [0.24884945, 0.24884945]\n",
      "Loaded the best model from Epoch: 59 with MSE: 0.114726 and Pred Metric: [0.24884945, 0.24884945]\n",
      "Beginning Training\n"
     ]
    },
    {
     "name": "stderr",
     "output_type": "stream",
     "text": [
      "Epoch: 79, Best Epoch: 79, Best Recon MSE: 0.112287, Best Pred Metric [0.2391050\n"
     ]
    },
    {
     "name": "stdout",
     "output_type": "stream",
     "text": [
      "Saving the last epoch with training MSE: 0.112287 and Pred Metric: [0.23910502, 0.23910502]\n",
      "Loaded the best model from Epoch: 79 with MSE: 0.112287 and Pred Metric: [0.23910502, 0.23910502]\n",
      "Run 4 \n",
      "=========================================\n",
      "Beginning Training\n"
     ]
    },
    {
     "name": "stderr",
     "output_type": "stream",
     "text": [
      "Epoch: 4, Best Epoch: 4, Best Recon MSE: 0.668543, Best Pred Metric [3.2015722, \n"
     ]
    },
    {
     "name": "stdout",
     "output_type": "stream",
     "text": [
      "Saving the last epoch with training MSE: 0.668543 and Pred Metric: [3.2015722, 3.2015722]\n",
      "Loaded the best model from Epoch: 4 with MSE: 0.668543 and Pred Metric: [3.2015722, 3.2015722]\n",
      "Beginning Training\n"
     ]
    },
    {
     "name": "stderr",
     "output_type": "stream",
     "text": [
      "Epoch: 9, Best Epoch: 9, Best Recon MSE: 0.369715, Best Pred Metric [9.826892, 9\n"
     ]
    },
    {
     "name": "stdout",
     "output_type": "stream",
     "text": [
      "Saving the last epoch with training MSE: 0.369715 and Pred Metric: [9.826892, 9.826892]\n",
      "Loaded the best model from Epoch: 9 with MSE: 0.369715 and Pred Metric: [9.826892, 9.826892]\n",
      "Beginning Training\n"
     ]
    },
    {
     "name": "stderr",
     "output_type": "stream",
     "text": [
      "Epoch: 19, Best Epoch: 19, Best Recon MSE: 0.155953, Best Pred Metric [1.2180231\n"
     ]
    },
    {
     "name": "stdout",
     "output_type": "stream",
     "text": [
      "Saving the last epoch with training MSE: 0.155953 and Pred Metric: [1.2180231, 1.2180231]\n",
      "Loaded the best model from Epoch: 19 with MSE: 0.155953 and Pred Metric: [1.2180231, 1.2180231]\n",
      "Beginning Training\n"
     ]
    },
    {
     "name": "stderr",
     "output_type": "stream",
     "text": [
      "Epoch: 39, Best Epoch: 39, Best Recon MSE: 0.124822, Best Pred Metric [0.6779427\n"
     ]
    },
    {
     "name": "stdout",
     "output_type": "stream",
     "text": [
      "Saving the last epoch with training MSE: 0.124822 and Pred Metric: [0.6779427, 0.6779427]\n",
      "Loaded the best model from Epoch: 39 with MSE: 0.124822 and Pred Metric: [0.6779427, 0.6779427]\n",
      "Beginning Training\n"
     ]
    },
    {
     "name": "stderr",
     "output_type": "stream",
     "text": [
      "Epoch: 59, Best Epoch: 59, Best Recon MSE: 0.113729, Best Pred Metric [0.3006604\n"
     ]
    },
    {
     "name": "stdout",
     "output_type": "stream",
     "text": [
      "Saving the last epoch with training MSE: 0.113729 and Pred Metric: [0.3006604, 0.3006604]\n",
      "Loaded the best model from Epoch: 59 with MSE: 0.113729 and Pred Metric: [0.3006604, 0.3006604]\n",
      "Beginning Training\n"
     ]
    },
    {
     "name": "stderr",
     "output_type": "stream",
     "text": [
      "Epoch: 79, Best Epoch: 79, Best Recon MSE: 0.111595, Best Pred Metric [0.1945166\n"
     ]
    },
    {
     "name": "stdout",
     "output_type": "stream",
     "text": [
      "Saving the last epoch with training MSE: 0.111595 and Pred Metric: [0.19451664, 0.19451664]\n",
      "Loaded the best model from Epoch: 79 with MSE: 0.111595 and Pred Metric: [0.19451664, 0.19451664]\n",
      "Run 5 \n",
      "=========================================\n",
      "Beginning Training\n"
     ]
    },
    {
     "name": "stderr",
     "output_type": "stream",
     "text": [
      "Epoch: 4, Best Epoch: 4, Best Recon MSE: 1.00025, Best Pred Metric [2.6261706, 2\n"
     ]
    },
    {
     "name": "stdout",
     "output_type": "stream",
     "text": [
      "Saving the last epoch with training MSE: 1.00025 and Pred Metric: [2.6261706, 2.6261706]\n",
      "Loaded the best model from Epoch: 4 with MSE: 1.00025 and Pred Metric: [2.6261706, 2.6261706]\n",
      "Beginning Training\n"
     ]
    },
    {
     "name": "stderr",
     "output_type": "stream",
     "text": [
      "Epoch: 9, Best Epoch: 9, Best Recon MSE: 0.367479, Best Pred Metric [8.746877, 8\n"
     ]
    },
    {
     "name": "stdout",
     "output_type": "stream",
     "text": [
      "Saving the last epoch with training MSE: 0.367479 and Pred Metric: [8.746877, 8.746877]\n",
      "Loaded the best model from Epoch: 9 with MSE: 0.367479 and Pred Metric: [8.746877, 8.746877]\n",
      "Beginning Training\n"
     ]
    },
    {
     "name": "stderr",
     "output_type": "stream",
     "text": [
      "Epoch: 19, Best Epoch: 19, Best Recon MSE: 0.189831, Best Pred Metric [1.0587385\n"
     ]
    },
    {
     "name": "stdout",
     "output_type": "stream",
     "text": [
      "Saving the last epoch with training MSE: 0.189831 and Pred Metric: [1.0587385, 1.0587385]\n",
      "Loaded the best model from Epoch: 19 with MSE: 0.189831 and Pred Metric: [1.0587385, 1.0587385]\n",
      "Beginning Training\n"
     ]
    },
    {
     "name": "stderr",
     "output_type": "stream",
     "text": [
      "Epoch: 39, Best Epoch: 39, Best Recon MSE: 0.117233, Best Pred Metric [0.4942112\n"
     ]
    },
    {
     "name": "stdout",
     "output_type": "stream",
     "text": [
      "Saving the last epoch with training MSE: 0.117233 and Pred Metric: [0.49421126, 0.49421126]\n",
      "Loaded the best model from Epoch: 39 with MSE: 0.117233 and Pred Metric: [0.49421126, 0.49421126]\n",
      "Beginning Training\n"
     ]
    },
    {
     "name": "stderr",
     "output_type": "stream",
     "text": [
      "Epoch: 59, Best Epoch: 58, Best Recon MSE: 0.125779, Best Pred Metric [0.4017734\n"
     ]
    },
    {
     "name": "stdout",
     "output_type": "stream",
     "text": [
      "Saving the last epoch with training MSE: 0.123431 and Pred Metric: [0.40772355, 0.40772355]\n",
      "Loaded the best model from Epoch: 58 with MSE: 0.125779 and Pred Metric: [0.4017734, 0.4017734]\n",
      "Beginning Training\n"
     ]
    },
    {
     "name": "stderr",
     "output_type": "stream",
     "text": [
      "Epoch: 79, Best Epoch: 79, Best Recon MSE: 0.111314, Best Pred Metric [0.2097179"
     ]
    },
    {
     "name": "stdout",
     "output_type": "stream",
     "text": [
      "Saving the last epoch with training MSE: 0.111314 and Pred Metric: [0.20971793, 0.20971793]\n",
      "Loaded the best model from Epoch: 79 with MSE: 0.111314 and Pred Metric: [0.20971793, 0.20971793]\n"
     ]
    },
    {
     "name": "stderr",
     "output_type": "stream",
     "text": [
      "\n"
     ]
    }
   ],
   "source": [
    "# VAE\n",
    "num_runs = 5\n",
    "z_m_dim = 2\n",
    "mcc_metrics_vae = []\n",
    "num_epochs = [5,10,20,40,60,80]\n",
    "\n",
    "for i in range(num_runs):\n",
    "    print(f\"Run {i+1} \\n=========================================\")\n",
    "    mcc_metric = []\n",
    "    for idx, epochs in enumerate(num_epochs):\n",
    "        T, X, Z = data[z_m_dim]['T'], data[z_m_dim]['X'], data[z_m_dim]['Z'], \n",
    "        Y, W = data[z_m_dim]['Y'], data[z_m_dim]['W']\n",
    "        imavae = IMAVAE(n_components=z_m_dim, n_sup_networks=z_m_dim, n_hidden_layers=2, hidden_dim=25, \n",
    "                        optim_name='Adam', recon_weight=1., elbo_weight=1., sup_weight=1., \n",
    "                        identifiable=False, prior_scale=0.01, anneal=False)\n",
    "        WT = np.concatenate([T,W], axis=1)\n",
    "        _ = imavae.fit(\n",
    "            X, WT, Y, X_val=X, aux_val=WT, y_val=Y, \n",
    "            lr=1e-5, n_epochs=epochs, pretrain=False, verbose=1, \n",
    "            best_model_name=\"best_model_with_covariate.pt\"\n",
    "        )\n",
    "        with torch.no_grad():\n",
    "            t0, t1 = torch.zeros(N, 1), torch.ones(N, 1)\n",
    "            t0, t1 = torch.cat([t0, torch.tensor(W).float()], dim=1), torch.cat([t1, torch.tensor(W).float()], dim=1)\n",
    "            z_m0_pred = imavae.prior_dist.sample(*imavae.ivae.prior_params(), size=N)\n",
    "            z_m1_pred = imavae.prior_dist.sample(*imavae.ivae.prior_params(), size=N)\n",
    "            # Estimated z_m for factual outcomes\n",
    "            z_m_pred = torch.stack([z_m0_pred[i,:] if T[i,0] == 0 else z_m1_pred[i,:] for i in range(N)])\n",
    "        mcc_metric.append(mcc(Z, z_m_pred.numpy()))\n",
    "    mcc_metrics_vae.append(mcc_metric)"
   ]
  },
  {
   "cell_type": "code",
   "execution_count": 9,
   "id": "ab816415",
   "metadata": {},
   "outputs": [
    {
     "name": "stdout",
     "output_type": "stream",
     "text": [
      "Run 1 \n",
      "=========================================\n",
      "Beginning Training\n"
     ]
    },
    {
     "name": "stderr",
     "output_type": "stream",
     "text": [
      "Epoch: 4, Best Epoch: 4, Best Recon MSE: 0.999506, Best Pred Metric [11.403838, \n"
     ]
    },
    {
     "name": "stdout",
     "output_type": "stream",
     "text": [
      "Saving the last epoch with training MSE: 0.999506 and Pred Metric: [11.403838, 11.403838]\n",
      "Loaded the best model from Epoch: 4 with MSE: 0.999506 and Pred Metric: [11.403838, 11.403838]\n",
      "Beginning Training\n"
     ]
    },
    {
     "name": "stderr",
     "output_type": "stream",
     "text": [
      "Epoch: 9, Best Epoch: 9, Best Recon MSE: 0.990629, Best Pred Metric [9.790152, 9\n"
     ]
    },
    {
     "name": "stdout",
     "output_type": "stream",
     "text": [
      "Saving the last epoch with training MSE: 0.990629 and Pred Metric: [9.790152, 9.790152]\n",
      "Loaded the best model from Epoch: 9 with MSE: 0.990629 and Pred Metric: [9.790152, 9.790152]\n",
      "Beginning Training\n"
     ]
    },
    {
     "name": "stderr",
     "output_type": "stream",
     "text": [
      "Epoch: 19, Best Epoch: 19, Best Recon MSE: 0.374086, Best Pred Metric [3.8292272\n"
     ]
    },
    {
     "name": "stdout",
     "output_type": "stream",
     "text": [
      "Saving the last epoch with training MSE: 0.374086 and Pred Metric: [3.8292272, 3.8292272]\n",
      "Loaded the best model from Epoch: 19 with MSE: 0.374086 and Pred Metric: [3.8292272, 3.8292272]\n",
      "Beginning Training\n"
     ]
    },
    {
     "name": "stderr",
     "output_type": "stream",
     "text": [
      "Epoch: 39, Best Epoch: 39, Best Recon MSE: 0.187044, Best Pred Metric [1.0125804\n"
     ]
    },
    {
     "name": "stdout",
     "output_type": "stream",
     "text": [
      "Saving the last epoch with training MSE: 0.187044 and Pred Metric: [1.0125804, 1.0125804]\n",
      "Loaded the best model from Epoch: 39 with MSE: 0.187044 and Pred Metric: [1.0125804, 1.0125804]\n",
      "Beginning Training\n"
     ]
    },
    {
     "name": "stderr",
     "output_type": "stream",
     "text": [
      "Epoch: 59, Best Epoch: 59, Best Recon MSE: 0.122463, Best Pred Metric [0.2337298\n"
     ]
    },
    {
     "name": "stdout",
     "output_type": "stream",
     "text": [
      "Saving the last epoch with training MSE: 0.122463 and Pred Metric: [0.23372982, 0.23372982]\n",
      "Loaded the best model from Epoch: 59 with MSE: 0.122463 and Pred Metric: [0.23372982, 0.23372982]\n",
      "Beginning Training\n"
     ]
    },
    {
     "name": "stderr",
     "output_type": "stream",
     "text": [
      "Epoch: 79, Best Epoch: 79, Best Recon MSE: 0.11594, Best Pred Metric [0.22509761\n"
     ]
    },
    {
     "name": "stdout",
     "output_type": "stream",
     "text": [
      "Saving the last epoch with training MSE: 0.11594 and Pred Metric: [0.22509761, 0.22509761]\n",
      "Loaded the best model from Epoch: 79 with MSE: 0.11594 and Pred Metric: [0.22509761, 0.22509761]\n",
      "Run 2 \n",
      "=========================================\n",
      "Beginning Training\n"
     ]
    },
    {
     "name": "stderr",
     "output_type": "stream",
     "text": [
      "Epoch: 4, Best Epoch: 4, Best Recon MSE: 1.00172, Best Pred Metric [18.744146, 1\n"
     ]
    },
    {
     "name": "stdout",
     "output_type": "stream",
     "text": [
      "Saving the last epoch with training MSE: 1.00172 and Pred Metric: [18.744146, 18.744146]\n",
      "Loaded the best model from Epoch: 4 with MSE: 1.00172 and Pred Metric: [18.744146, 18.744146]\n",
      "Beginning Training\n"
     ]
    },
    {
     "name": "stderr",
     "output_type": "stream",
     "text": [
      "Epoch: 9, Best Epoch: 9, Best Recon MSE: 0.999561, Best Pred Metric [6.2620378, \n"
     ]
    },
    {
     "name": "stdout",
     "output_type": "stream",
     "text": [
      "Saving the last epoch with training MSE: 0.999561 and Pred Metric: [6.2620378, 6.2620378]\n",
      "Loaded the best model from Epoch: 9 with MSE: 0.999561 and Pred Metric: [6.2620378, 6.2620378]\n",
      "Beginning Training\n"
     ]
    },
    {
     "name": "stderr",
     "output_type": "stream",
     "text": [
      "Epoch: 19, Best Epoch: 19, Best Recon MSE: 0.369885, Best Pred Metric [4.854795,\n"
     ]
    },
    {
     "name": "stdout",
     "output_type": "stream",
     "text": [
      "Saving the last epoch with training MSE: 0.369885 and Pred Metric: [4.854795, 4.854795]\n",
      "Loaded the best model from Epoch: 19 with MSE: 0.369885 and Pred Metric: [4.854795, 4.854795]\n",
      "Beginning Training\n"
     ]
    },
    {
     "name": "stderr",
     "output_type": "stream",
     "text": [
      "Epoch: 39, Best Epoch: 39, Best Recon MSE: 0.940892, Best Pred Metric [2.4216628\n"
     ]
    },
    {
     "name": "stdout",
     "output_type": "stream",
     "text": [
      "Saving the last epoch with training MSE: 0.940892 and Pred Metric: [2.4216628, 2.4216628]\n",
      "Loaded the best model from Epoch: 39 with MSE: 0.940892 and Pred Metric: [2.4216628, 2.4216628]\n",
      "Beginning Training\n"
     ]
    },
    {
     "name": "stderr",
     "output_type": "stream",
     "text": [
      "Epoch: 59, Best Epoch: 59, Best Recon MSE: 0.148475, Best Pred Metric [0.2850606\n"
     ]
    },
    {
     "name": "stdout",
     "output_type": "stream",
     "text": [
      "Saving the last epoch with training MSE: 0.148475 and Pred Metric: [0.28506064, 0.28506064]\n",
      "Loaded the best model from Epoch: 59 with MSE: 0.148475 and Pred Metric: [0.28506064, 0.28506064]\n",
      "Beginning Training\n"
     ]
    },
    {
     "name": "stderr",
     "output_type": "stream",
     "text": [
      "Epoch: 79, Best Epoch: 77, Best Recon MSE: 0.122238, Best Pred Metric [0.1728881\n"
     ]
    },
    {
     "name": "stdout",
     "output_type": "stream",
     "text": [
      "Saving the last epoch with training MSE: 0.121806 and Pred Metric: [0.17440115, 0.17440115]\n",
      "Loaded the best model from Epoch: 77 with MSE: 0.122238 and Pred Metric: [0.17288816, 0.17288816]\n",
      "Run 3 \n",
      "=========================================\n",
      "Beginning Training\n"
     ]
    },
    {
     "name": "stderr",
     "output_type": "stream",
     "text": [
      "Epoch: 4, Best Epoch: 4, Best Recon MSE: 0.999767, Best Pred Metric [11.098419, \n"
     ]
    },
    {
     "name": "stdout",
     "output_type": "stream",
     "text": [
      "Saving the last epoch with training MSE: 0.999767 and Pred Metric: [11.098419, 11.098419]\n",
      "Loaded the best model from Epoch: 4 with MSE: 0.999767 and Pred Metric: [11.098419, 11.098419]\n",
      "Beginning Training\n"
     ]
    },
    {
     "name": "stderr",
     "output_type": "stream",
     "text": [
      "Epoch: 9, Best Epoch: 9, Best Recon MSE: 0.994361, Best Pred Metric [7.579373, 7\n"
     ]
    },
    {
     "name": "stdout",
     "output_type": "stream",
     "text": [
      "Saving the last epoch with training MSE: 0.994361 and Pred Metric: [7.579373, 7.579373]\n",
      "Loaded the best model from Epoch: 9 with MSE: 0.994361 and Pred Metric: [7.579373, 7.579373]\n",
      "Beginning Training\n"
     ]
    },
    {
     "name": "stderr",
     "output_type": "stream",
     "text": [
      "Epoch: 19, Best Epoch: 19, Best Recon MSE: 0.367637, Best Pred Metric [1.9686699\n"
     ]
    },
    {
     "name": "stdout",
     "output_type": "stream",
     "text": [
      "Saving the last epoch with training MSE: 0.367637 and Pred Metric: [1.9686699, 1.9686699]\n",
      "Loaded the best model from Epoch: 19 with MSE: 0.367637 and Pred Metric: [1.9686699, 1.9686699]\n",
      "Beginning Training\n"
     ]
    },
    {
     "name": "stderr",
     "output_type": "stream",
     "text": [
      "Epoch: 39, Best Epoch: 39, Best Recon MSE: 0.212704, Best Pred Metric [0.4463310\n"
     ]
    },
    {
     "name": "stdout",
     "output_type": "stream",
     "text": [
      "Saving the last epoch with training MSE: 0.212704 and Pred Metric: [0.44633102, 0.44633102]\n",
      "Loaded the best model from Epoch: 39 with MSE: 0.212704 and Pred Metric: [0.44633102, 0.44633102]\n",
      "Beginning Training\n"
     ]
    },
    {
     "name": "stderr",
     "output_type": "stream",
     "text": [
      "Epoch: 59, Best Epoch: 59, Best Recon MSE: 0.145884, Best Pred Metric [0.4137815\n"
     ]
    },
    {
     "name": "stdout",
     "output_type": "stream",
     "text": [
      "Saving the last epoch with training MSE: 0.145884 and Pred Metric: [0.4137815, 0.4137815]\n",
      "Loaded the best model from Epoch: 59 with MSE: 0.145884 and Pred Metric: [0.4137815, 0.4137815]\n",
      "Beginning Training\n"
     ]
    },
    {
     "name": "stderr",
     "output_type": "stream",
     "text": [
      "Epoch: 79, Best Epoch: 78, Best Recon MSE: 0.135234, Best Pred Metric [0.2084509\n"
     ]
    },
    {
     "name": "stdout",
     "output_type": "stream",
     "text": [
      "Saving the last epoch with training MSE: 0.135269 and Pred Metric: [0.22182141, 0.22182141]\n",
      "Loaded the best model from Epoch: 78 with MSE: 0.135234 and Pred Metric: [0.20845097, 0.20845097]\n",
      "Run 4 \n",
      "=========================================\n",
      "Beginning Training\n"
     ]
    },
    {
     "name": "stderr",
     "output_type": "stream",
     "text": [
      "Epoch: 4, Best Epoch: 4, Best Recon MSE: 0.999853, Best Pred Metric [7.5091352, \n"
     ]
    },
    {
     "name": "stdout",
     "output_type": "stream",
     "text": [
      "Saving the last epoch with training MSE: 0.999853 and Pred Metric: [7.5091352, 7.5091352]\n",
      "Loaded the best model from Epoch: 4 with MSE: 0.999853 and Pred Metric: [7.5091352, 7.5091352]\n",
      "Beginning Training\n"
     ]
    },
    {
     "name": "stderr",
     "output_type": "stream",
     "text": [
      "Epoch: 9, Best Epoch: 9, Best Recon MSE: 0.999767, Best Pred Metric [4.617689, 4\n"
     ]
    },
    {
     "name": "stdout",
     "output_type": "stream",
     "text": [
      "Saving the last epoch with training MSE: 0.999767 and Pred Metric: [4.617689, 4.617689]\n",
      "Loaded the best model from Epoch: 9 with MSE: 0.999767 and Pred Metric: [4.617689, 4.617689]\n",
      "Beginning Training\n"
     ]
    },
    {
     "name": "stderr",
     "output_type": "stream",
     "text": [
      "Epoch: 19, Best Epoch: 19, Best Recon MSE: 0.387738, Best Pred Metric [5.652811,\n"
     ]
    },
    {
     "name": "stdout",
     "output_type": "stream",
     "text": [
      "Saving the last epoch with training MSE: 0.387738 and Pred Metric: [5.652811, 5.652811]\n",
      "Loaded the best model from Epoch: 19 with MSE: 0.387738 and Pred Metric: [5.652811, 5.652811]\n",
      "Beginning Training\n"
     ]
    },
    {
     "name": "stderr",
     "output_type": "stream",
     "text": [
      "Epoch: 39, Best Epoch: 38, Best Recon MSE: 0.216002, Best Pred Metric [0.8194194\n"
     ]
    },
    {
     "name": "stdout",
     "output_type": "stream",
     "text": [
      "Saving the last epoch with training MSE: 0.212306 and Pred Metric: [0.83858275, 0.83858275]\n",
      "Loaded the best model from Epoch: 38 with MSE: 0.216002 and Pred Metric: [0.81941944, 0.81941944]\n",
      "Beginning Training\n"
     ]
    },
    {
     "name": "stderr",
     "output_type": "stream",
     "text": [
      "Epoch: 59, Best Epoch: 59, Best Recon MSE: 0.161797, Best Pred Metric [0.2780048\n"
     ]
    },
    {
     "name": "stdout",
     "output_type": "stream",
     "text": [
      "Saving the last epoch with training MSE: 0.161797 and Pred Metric: [0.27800488, 0.27800488]\n",
      "Loaded the best model from Epoch: 59 with MSE: 0.161797 and Pred Metric: [0.27800488, 0.27800488]\n",
      "Beginning Training\n"
     ]
    },
    {
     "name": "stderr",
     "output_type": "stream",
     "text": [
      "Epoch: 79, Best Epoch: 79, Best Recon MSE: 0.138258, Best Pred Metric [0.1739904\n"
     ]
    },
    {
     "name": "stdout",
     "output_type": "stream",
     "text": [
      "Saving the last epoch with training MSE: 0.138258 and Pred Metric: [0.17399041, 0.17399041]\n",
      "Loaded the best model from Epoch: 79 with MSE: 0.138258 and Pred Metric: [0.17399041, 0.17399041]\n",
      "Run 5 \n",
      "=========================================\n",
      "Beginning Training\n"
     ]
    },
    {
     "name": "stderr",
     "output_type": "stream",
     "text": [
      "Epoch: 4, Best Epoch: 4, Best Recon MSE: 0.995528, Best Pred Metric [6.070164, 6\n"
     ]
    },
    {
     "name": "stdout",
     "output_type": "stream",
     "text": [
      "Saving the last epoch with training MSE: 0.995528 and Pred Metric: [6.070164, 6.070164]\n",
      "Loaded the best model from Epoch: 4 with MSE: 0.995528 and Pred Metric: [6.070164, 6.070164]\n",
      "Beginning Training\n"
     ]
    },
    {
     "name": "stderr",
     "output_type": "stream",
     "text": [
      "Epoch: 9, Best Epoch: 9, Best Recon MSE: 0.732384, Best Pred Metric [2.452473, 2\n"
     ]
    },
    {
     "name": "stdout",
     "output_type": "stream",
     "text": [
      "Saving the last epoch with training MSE: 0.732384 and Pred Metric: [2.452473, 2.452473]\n",
      "Loaded the best model from Epoch: 9 with MSE: 0.732384 and Pred Metric: [2.452473, 2.452473]\n",
      "Beginning Training\n"
     ]
    },
    {
     "name": "stderr",
     "output_type": "stream",
     "text": [
      "Epoch: 19, Best Epoch: 19, Best Recon MSE: 0.379477, Best Pred Metric [1.1171232\n"
     ]
    },
    {
     "name": "stdout",
     "output_type": "stream",
     "text": [
      "Saving the last epoch with training MSE: 0.379477 and Pred Metric: [1.1171232, 1.1171232]\n",
      "Loaded the best model from Epoch: 19 with MSE: 0.379477 and Pred Metric: [1.1171232, 1.1171232]\n",
      "Beginning Training\n"
     ]
    },
    {
     "name": "stderr",
     "output_type": "stream",
     "text": [
      "Epoch: 39, Best Epoch: 39, Best Recon MSE: 0.20814, Best Pred Metric [0.28052533\n"
     ]
    },
    {
     "name": "stdout",
     "output_type": "stream",
     "text": [
      "Saving the last epoch with training MSE: 0.20814 and Pred Metric: [0.28052533, 0.28052533]\n",
      "Loaded the best model from Epoch: 39 with MSE: 0.20814 and Pred Metric: [0.28052533, 0.28052533]\n",
      "Beginning Training\n"
     ]
    },
    {
     "name": "stderr",
     "output_type": "stream",
     "text": [
      "Epoch: 59, Best Epoch: 59, Best Recon MSE: 0.128531, Best Pred Metric [0.6324118\n"
     ]
    },
    {
     "name": "stdout",
     "output_type": "stream",
     "text": [
      "Saving the last epoch with training MSE: 0.128531 and Pred Metric: [0.63241184, 0.63241184]\n",
      "Loaded the best model from Epoch: 59 with MSE: 0.128531 and Pred Metric: [0.63241184, 0.63241184]\n",
      "Beginning Training\n"
     ]
    },
    {
     "name": "stderr",
     "output_type": "stream",
     "text": [
      "Epoch: 79, Best Epoch: 78, Best Recon MSE: 0.122584, Best Pred Metric [0.1996104"
     ]
    },
    {
     "name": "stdout",
     "output_type": "stream",
     "text": [
      "Saving the last epoch with training MSE: 0.127143 and Pred Metric: [0.20161566, 0.20161566]\n",
      "Loaded the best model from Epoch: 78 with MSE: 0.122584 and Pred Metric: [0.19961043, 0.19961043]\n"
     ]
    },
    {
     "name": "stderr",
     "output_type": "stream",
     "text": [
      "\n"
     ]
    }
   ],
   "source": [
    "# beta-VAE\n",
    "num_runs = 5\n",
    "z_m_dim = 2\n",
    "mcc_metrics_beta_vae = []\n",
    "num_epochs = [5,10,20,40,60,80]\n",
    "\n",
    "for i in range(num_runs):\n",
    "    print(f\"Run {i+1} \\n=========================================\")\n",
    "    mcc_metric = []\n",
    "    for idx, epochs in enumerate(num_epochs):\n",
    "        T, X, Z = data[z_m_dim]['T'], data[z_m_dim]['X'], data[z_m_dim]['Z'], \n",
    "        Y, W = data[z_m_dim]['Y'], data[z_m_dim]['W']\n",
    "        imavae = IMAVAE(n_components=z_m_dim, n_sup_networks=z_m_dim, n_hidden_layers=2, hidden_dim=25, \n",
    "                        optim_name='Adam', recon_weight=1., elbo_weight=1., sup_weight=1., \n",
    "                        identifiable=False, beta=4.0, prior_scale=0.01, anneal=False)\n",
    "        WT = np.concatenate([T,W], axis=1)\n",
    "        _ = imavae.fit(\n",
    "            X, WT, Y, X_val=X, aux_val=WT, y_val=Y, \n",
    "            lr=1e-5, n_epochs=epochs, pretrain=False, verbose=1, \n",
    "            best_model_name=\"best_model_with_covariate.pt\"\n",
    "        )\n",
    "        with torch.no_grad():\n",
    "            t0, t1 = torch.zeros(N, 1), torch.ones(N, 1)\n",
    "            t0, t1 = torch.cat([t0, torch.tensor(W).float()], dim=1), torch.cat([t1, torch.tensor(W).float()], dim=1)\n",
    "            z_m0_pred = imavae.prior_dist.sample(*imavae.ivae.prior_params(), size=N)\n",
    "            z_m1_pred = imavae.prior_dist.sample(*imavae.ivae.prior_params(), size=N)\n",
    "            # Estimated z_m for factual outcomes\n",
    "            z_m_pred = torch.stack([z_m0_pred[i,:] if T[i,0] == 0 else z_m1_pred[i,:] for i in range(N)])\n",
    "        mcc_metric.append(mcc(Z, z_m_pred.numpy()))\n",
    "    mcc_metrics_beta_vae.append(mcc_metric)"
   ]
  },
  {
   "cell_type": "markdown",
   "id": "f035877f",
   "metadata": {},
   "source": [
    "## Compare mean correlation coefficients for varying number of training epochs"
   ]
  },
  {
   "cell_type": "code",
   "execution_count": 10,
   "id": "dc42b45f",
   "metadata": {},
   "outputs": [
    {
     "data": {
      "image/png": "[encoded data removed]",
      "text/plain": [
       "<Figure size 504x432 with 1 Axes>"
      ]
     },
     "metadata": {
      "needs_background": "light"
     },
     "output_type": "display_data"
    }
   ],
   "source": [
    "mcc_metrics_imavae = np.array(mcc_metrics_imavae)\n",
    "mcc_metrics_vae = np.array(mcc_metrics_vae)\n",
    "mcc_metrics_beta_vae = np.array(mcc_metrics_beta_vae)\n",
    "\n",
    "fig, ax = plt.subplots(1, 1, figsize=(7,6))\n",
    "ax.plot(num_epochs, np.mean(mcc_metrics_imavae,axis=0), color='blue', lw=2, marker='.', markersize=12, label='IMAVAE')\n",
    "ax.plot(num_epochs, np.mean(mcc_metrics_vae,axis=0), color='red', lw=2, marker='^', markersize=12, label='VAE')\n",
    "ax.plot(num_epochs, np.mean(mcc_metrics_beta_vae,axis=0), color='orange', lw=2, marker='*', markersize=12, label=r'$\\beta$-VAE')\n",
    "ax.fill_between(\n",
    "    num_epochs, \n",
    "    np.mean(mcc_metrics_imavae,axis=0)-np.std(mcc_metrics_imavae,axis=0), \n",
    "    np.mean(mcc_metrics_imavae,axis=0)+np.std(mcc_metrics_imavae,axis=0), \n",
    "    color='blue', alpha=0.1\n",
    ")\n",
    "ax.fill_between(\n",
    "    num_epochs, \n",
    "    np.mean(mcc_metrics_vae,axis=0)-np.std(mcc_metrics_vae,axis=0), \n",
    "    np.mean(mcc_metrics_vae,axis=0)+np.std(mcc_metrics_vae,axis=0), \n",
    "    color='red', alpha=0.1\n",
    ")\n",
    "ax.fill_between(\n",
    "    num_epochs, \n",
    "    np.mean(mcc_metrics_beta_vae,axis=0)-np.std(mcc_metrics_beta_vae,axis=0), \n",
    "    np.mean(mcc_metrics_beta_vae,axis=0)+np.std(mcc_metrics_beta_vae,axis=0), \n",
    "    color='orange', alpha=0.1\n",
    ")\n",
    "ax.locator_params(nbins=5, axis='y')\n",
    "ax.tick_params(axis='both', which='major', labelsize=17)\n",
    "ax.set_xlabel('# Training Epochs', fontsize=20)\n",
    "ax.set_ylabel('Mean Correlation Coefficient', fontsize=20)\n",
    "ax.legend(prop={'size': 15})\n",
    "plt.savefig('./Figures/mcc_varying_epochs_with_covariate.png', dpi=600)"
   ]
  }
 ],
 "metadata": {
  "kernelspec": {
   "display_name": "Python 3 (ipykernel)",
   "language": "python",
   "name": "python3"
  },
  "language_info": {
   "codemirror_mode": {
    "name": "ipython",
    "version": 3
   },
   "file_extension": ".py",
   "mimetype": "text/x-python",
   "name": "python",
   "nbconvert_exporter": "python",
   "pygments_lexer": "ipython3",
   "version": "3.9.10"
  }
 },
 "nbformat": 4,
 "nbformat_minor": 5
}

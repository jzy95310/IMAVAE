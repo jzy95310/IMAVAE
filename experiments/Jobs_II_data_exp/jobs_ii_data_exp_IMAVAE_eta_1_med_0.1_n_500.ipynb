{
 "cells": [
  {
   "cell_type": "code",
   "execution_count": 1,
   "id": "ae7d804b",
   "metadata": {},
   "outputs": [
    {
     "name": "stderr",
     "output_type": "stream",
     "text": [
      "<frozen importlib._bootstrap>:228: RuntimeWarning: scipy._lib.messagestream.MessageStream size changed, may indicate binary incompatibility. Expected 56 from C header, got 64 from PyObject\n"
     ]
    }
   ],
   "source": [
    "import sys\n",
    "sys.path.insert(0, '../../')\n",
    "import torch\n",
    "import numpy as np\n",
    "import pandas as pd\n",
    "from sklearn.preprocessing import StandardScaler\n",
    "from statsmodels.discrete.discrete_model import Probit\n",
    "from models.imavae import IMAVAE\n",
    "\n",
    "# To make this notebook's output stable across runs\n",
    "np.random.seed(2020)\n",
    "torch.manual_seed(2020)\n",
    "torch.cuda.manual_seed(2020)\n",
    "torch.cuda.manual_seed_all(2020)\n",
    "torch.backends.cudnn.deterministic = True\n",
    "torch.backends.cudnn.benchmark = False"
   ]
  },
  {
   "cell_type": "markdown",
   "id": "9fc74964",
   "metadata": {},
   "source": [
    "# 1. Preprocess and run simulation on Jobs II Data"
   ]
  },
  {
   "cell_type": "code",
   "execution_count": 2,
   "id": "7b1c401d",
   "metadata": {},
   "outputs": [],
   "source": [
    "def simulate_jobs2_data(eta, alpha, n):\n",
    "    df = pd.read_csv('../../data/jobs_ii_data.csv')\n",
    "\n",
    "    # Preprocessing\n",
    "    df = df.drop(['control','job_dich','job_disc'], axis=1)   # drop redundant features\n",
    "    df['job_seek'] = df['job_seek'].apply(lambda x: 1 if x >= 3 else 0)\n",
    "    continuous_cols = ['econ_hard','depress1','age','depress2']\n",
    "    binary_cols = ['sex','nonwhite','work1','comply','treat']\n",
    "    categorical_cols = ['occp','marital','educ','income']\n",
    "    for col in continuous_cols:\n",
    "        scaler = StandardScaler()\n",
    "        df[col] = scaler.fit_transform(np.array(df[col]).reshape(-1,1)).squeeze()\n",
    "    for col in binary_cols:\n",
    "        if df[col].dtype == object:\n",
    "            df[col] = np.array(pd.get_dummies(df[col]).iloc[:,0])\n",
    "    for col in categorical_cols:\n",
    "        df = pd.concat([df,pd.get_dummies(df[col])], axis=1)\n",
    "        df = df.drop([col], axis=1)\n",
    "\n",
    "    # Run simulation so that the ground truth of direct and indirect effects are zero\n",
    "    T, M = np.array(df['treat'], dtype=np.float32), np.array(df['job_seek'], dtype=np.float32)\n",
    "    cols_x = [col for col in df.columns if col not in ['treat','job_seek','depress2']]\n",
    "    X = np.array(df[cols_x], dtype=np.float32)\n",
    "    beta_pop = Probit(T,X).fit(maxiter=500).params\n",
    "    TX = np.concatenate([T.reshape(-1,1),X], axis=1)\n",
    "    coeffs_m = Probit(M,TX).fit(maxiter=500).params\n",
    "    gamma_pop, omega_pop = coeffs_m[0], coeffs_m[1:]\n",
    "    df = df[(df['treat'] == 0) & (df['job_seek'] == 0)]\n",
    "    df_pseudo = df.sample(n=n,replace=True,random_state=42)\n",
    "    df_pseudo['treat'] = df_pseudo.apply(\n",
    "        lambda row: 1 if np.array(row[cols_x])@beta_pop + np.random.RandomState(42).rand() > 0 else 0, axis=1)\n",
    "    df_pseudo['job_seek'] = df_pseudo.apply(\n",
    "        lambda row: eta*(row['treat']*gamma_pop + np.array(row[cols_x])@omega_pop) + alpha + np.random.RandomState(42).rand(), axis=1)\n",
    "    df_pseudo = df_pseudo.reset_index(drop=True)\n",
    "    print(\"Treatment/control ratio: {:.4f}\".format(np.sum(df_pseudo['treat'])/len(df_pseudo)))\n",
    "    print(\"Mediation ratio: {:.4f}\".format(np.sum(df_pseudo['job_seek'] > 3)/len(df_pseudo)))\n",
    "\n",
    "    # Make sure both train and test splits have same ratio of treatment and control samples\n",
    "    df_control, df_treatment = df_pseudo[df_pseudo['treat'] == 0], df_pseudo[df_pseudo['treat'] == 1]\n",
    "    df_control_train = df_control.sample(frac=0.8,random_state=42)\n",
    "    df_treatment_train = df_treatment.sample(frac=0.8,random_state=42)\n",
    "    df_control_test = df_control.drop(df_control_train.index)\n",
    "    df_treatment_test = df_treatment.drop(df_treatment_train.index)\n",
    "    df_train = pd.concat(\n",
    "        [df_control_train,df_treatment_train], axis=0).sample(frac=1,random_state=42).reset_index(drop=True)\n",
    "    df_test = pd.concat(\n",
    "        [df_control_test,df_treatment_test], axis=0).sample(frac=1,random_state=42).reset_index(drop=True)\n",
    "    \n",
    "    # Note that here X, T, Y, W corresponds to the variables in our paper's causal graph\n",
    "    X_train, X_test = np.array(df_train['job_seek']).reshape(-1,1), np.array(df_test['job_seek']).reshape(-1,1)\n",
    "    T_train, T_test = np.array(df_train['treat']).reshape(-1,1), np.array(df_test['treat']).reshape(-1,1)\n",
    "    Y_train, Y_test = np.array(df_train['depress2']).reshape(-1,1), np.array(df_test['depress2']).reshape(-1,1)\n",
    "    df_train = df_train.drop(['treat','job_seek','depress2'], axis=1)\n",
    "    df_test = df_test.drop(['treat','job_seek','depress2'], axis=1)\n",
    "    W_train, W_test = np.array(df_train).astype(np.float32), np.array(df_test).astype(np.float32)\n",
    "    return X_train, T_train, W_train, Y_train, X_test, T_test, W_test, Y_test, df_pseudo"
   ]
  },
  {
   "cell_type": "markdown",
   "id": "97e9c049",
   "metadata": {},
   "source": [
    "# 2. Estimate mediation effects with IMAVAE"
   ]
  },
  {
   "cell_type": "code",
   "execution_count": 3,
   "id": "59f5874b",
   "metadata": {},
   "outputs": [
    {
     "name": "stdout",
     "output_type": "stream",
     "text": [
      "Optimization terminated successfully.\n",
      "         Current function value: 0.378116\n",
      "         Iterations 93\n",
      "Optimization terminated successfully.\n",
      "         Current function value: 0.212122\n",
      "         Iterations 7\n",
      "Treatment/control ratio: 0.6300\n",
      "Mediation ratio: 0.1080\n",
      "Beginning Training\n"
     ]
    },
    {
     "name": "stderr",
     "output_type": "stream",
     "text": [
      "Epoch: 499, Best Epoch: 499, Best Recon MSE: 0.00018003, Best Pred Metric [0.005\n"
     ]
    },
    {
     "name": "stdout",
     "output_type": "stream",
     "text": [
      "Saving the last epoch with training MSE: 0.00018003 and Pred Metric: [0.005642338, 0.005642338, 0.005642338, 0.005642338, 0.005642338]\n",
      "Loaded the best model from Epoch: 499 with MSE: 0.00018003 and Pred Metric: [0.005642338, 0.005642338, 0.005642338, 0.005642338, 0.005642338]\n",
      "ACME (control) = 0.0701 +/- 0.0111\n",
      "ACME (treatment) = 0.0741 +/- 0.0118\n",
      "ADE (control) = -0.2453 +/- 0.0000\n",
      "ADE (treatment) = -0.2453 +/- 0.0000\n",
      "ATE = -0.1750 +/- 0.0140\n"
     ]
    }
   ],
   "source": [
    "eta, alpha, n = 1, 0.9, 500\n",
    "X_train, T_train, W_train, Y_train, X_test, T_test, W_test, Y_test, df_pseudo = simulate_jobs2_data(eta, alpha, n)\n",
    "imavae = IMAVAE(n_components=5, n_sup_networks=5, n_hidden_layers=2, hidden_dim=10, \n",
    "                optim_name='Adam', weight_decay=0.01, recon_weight=1., elbo_weight=0.1, sup_weight=1.)\n",
    "WT_train = np.concatenate([T_train,W_train], axis=1)\n",
    "_ = imavae.fit(\n",
    "    X_train, WT_train, Y_train, X_val=X_train, aux_val=WT_train, y_val=Y_train, \n",
    "    lr=1e-5, n_epochs=500, pretrain=False, verbose=1\n",
    ")\n",
    "WT_test = np.concatenate([T_test,W_test], axis=1)\n",
    "acme_c_mean, acme_c_std = imavae.acme_score(WT_test, treatment=False)\n",
    "acme_t_mean, acme_t_std = imavae.acme_score(WT_test, treatment=True)\n",
    "ade_c_mean, ade_c_std = imavae.ade_score(WT_test, treatment=False)\n",
    "ade_t_mean, ade_t_std = imavae.ade_score(WT_test, treatment=True)\n",
    "ate_mean, ate_std = imavae.ate_score(WT_test)\n",
    "print(\"ACME (control) = {:.4f} +/- {:.4f}\".format(acme_c_mean, acme_c_std))\n",
    "print(\"ACME (treatment) = {:.4f} +/- {:.4f}\".format(acme_t_mean, acme_t_std))\n",
    "print(\"ADE (control) = {:.4f} +/- {:.4f}\".format(ade_c_mean, ade_c_std))\n",
    "print(\"ADE (treatment) = {:.4f} +/- {:.4f}\".format(ade_t_mean, ade_t_std))\n",
    "print(\"ATE = {:.4f} +/- {:.4f}\".format(ate_mean, ate_std))"
   ]
  }
 ],
 "metadata": {
  "kernelspec": {
   "display_name": "Python 3 (ipykernel)",
   "language": "python",
   "name": "python3"
  },
  "language_info": {
   "codemirror_mode": {
    "name": "ipython",
    "version": 3
   },
   "file_extension": ".py",
   "mimetype": "text/x-python",
   "name": "python",
   "nbconvert_exporter": "python",
   "pygments_lexer": "ipython3",
   "version": "3.9.10"
  }
 },
 "nbformat": 4,
 "nbformat_minor": 5
}

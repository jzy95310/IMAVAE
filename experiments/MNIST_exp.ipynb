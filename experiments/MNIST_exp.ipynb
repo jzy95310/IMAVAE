{
 "cells": [
  {
   "cell_type": "code",
   "execution_count": 1,
   "id": "044b318a",
   "metadata": {},
   "outputs": [
    {
     "name": "stderr",
     "output_type": "stream",
     "text": [
      "/Users/a45329/miniconda/envs/zj63/lib/python3.9/site-packages/scipy/__init__.py:146: UserWarning: A NumPy version >=1.17.3 and <1.25.0 is required for this version of SciPy (detected version 1.26.2\n",
      "  warnings.warn(f\"A NumPy version >={np_minversion} and <{np_maxversion}\"\n"
     ]
    }
   ],
   "source": [
    "import sys\n",
    "sys.path.insert(0, '../')\n",
    "import numpy as np\n",
    "import pandas as pd\n",
    "import matplotlib.pyplot as plt\n",
    "import torch\n",
    "from torch import nn\n",
    "from models.imavae import IMAVAE\n",
    "from scipy.stats import zscore,norm\n",
    "import matplotlib as mpl\n",
    "from PIL import Image\n",
    "mpl.rcParams['xtick.labelsize'] = 16\n",
    "mpl.rcParams['ytick.labelsize'] = 16\n",
    "\n",
    "device = torch.device(\"cuda:0\" if torch.cuda.is_available() else \"cpu\")\n",
    "\n",
    "# To make this notebook's output stable across runs\n",
    "seed = 1234\n",
    "np.random.seed(seed)\n",
    "torch.manual_seed(seed)\n",
    "torch.cuda.manual_seed(seed)\n",
    "torch.cuda.manual_seed_all(seed)\n",
    "torch.backends.cudnn.deterministic = True\n",
    "torch.backends.cudnn.benchmark = False"
   ]
  },
  {
   "cell_type": "markdown",
   "id": "8334638d",
   "metadata": {},
   "source": [
    "# 1. Simulate Dataset"
   ]
  },
  {
   "cell_type": "markdown",
   "id": "934b05ec",
   "metadata": {},
   "source": [
    "* Follow **simulation 1** in Nath, Tanmay, et al. \"A machine learning based approach towards high-dimensional mediation analysis.\" NeuroImage 268 (2023): 119843.\n",
    "* We simulate a situation in which the latent mediator scores $z$ are a complex, nonlinear function of an observed set of mediator variables.\n",
    "* To accomplish this, in our simulations, we embedded the mediator in an image whose pixels represent the values of handwritten digits."
   ]
  },
  {
   "cell_type": "code",
   "execution_count": 2,
   "id": "5f04ed60-ed3a-4727-b62a-10d599dd06c4",
   "metadata": {},
   "outputs": [],
   "source": [
    "#define a function to extract image\n",
    "from sklearn.datasets import fetch_openml\n",
    "mnist_dataset = fetch_openml('mnist_784')"
   ]
  },
  {
   "cell_type": "code",
   "execution_count": 3,
   "id": "43e86f78-8808-4392-97f9-1f38d8564028",
   "metadata": {},
   "outputs": [],
   "source": [
    "def concat_images(imga, imgb):\n",
    "    \"\"\"\n",
    "    Combines two color image ndarrays side-by-side.\n",
    "    \"\"\"\n",
    "    ha,wa = imga.shape[:2]\n",
    "    hb,wb = imgb.shape[:2]\n",
    "    max_height = np.max([ha, hb])\n",
    "    total_width = wa+wb\n",
    "    new_img = np.zeros(shape=(max_height, total_width))\n",
    "    new_img[:ha,:wa]=imga\n",
    "    new_img[:hb,wa:wa+wb]=imgb\n",
    "    return new_img\n",
    "\n",
    "def extract_image(num,mnist_dataset,new_shape):\n",
    "    \"\"\"\n",
    "    Used for data simulation.Returns the image\n",
    "    num: string. The string of number and a digit is replaced with an actual image.\n",
    "    \"\"\"\n",
    "    target = mnist_dataset.target\n",
    "    mnist_image = mnist_dataset.data\n",
    "    img_shape = (int(np.sqrt(mnist_image.shape[-1])) , int(np.sqrt(mnist_image.shape[-1])))\n",
    "    image = []\n",
    "    for j in range(len(num)):\n",
    "        indexes = np.where(target==num[j])[0]\n",
    "        # Randomly sample an index from the selected indexes\n",
    "        random_index = np.random.choice(indexes)\n",
    "        raw_img = mnist_image.iloc[random_index]\n",
    "        raw_img = raw_img.values.reshape(img_shape)\n",
    "        new_img = Image.fromarray(raw_img)\n",
    "        img = new_img.resize(size=(new_shape[0],new_shape[1]))\n",
    "        img = np.asarray(img)\n",
    "        if j==0:\n",
    "            output = img\n",
    "        else:\n",
    "            output = concat_images(output, img)\n",
    "    image.append(output)\n",
    "    return np.concatenate(image)"
   ]
  },
  {
   "cell_type": "code",
   "execution_count": 4,
   "id": "19411562-ed29-4559-90be-4d6125190c89",
   "metadata": {},
   "outputs": [],
   "source": [
    "#number of obs\n",
    "N = 1000\n",
    "#pre-defined parameters\n",
    "p = 0.5\n",
    "alpha,alpha0,beta0,beta,gamma = 0.2,-0.1,3,15,2\n",
    "new_shape = [28,28]\n",
    "#T = np.random.normal(0,1,N)\n",
    "T = np.random.binomial(n=1, p=[p for _ in range(N)])\n",
    "e0 = np.random.normal(0,1,N)\n",
    "#simulate low-dimensional mediator m\n",
    "m = alpha0 + alpha*T + e0\n",
    "\n",
    "#simulate high-dimensional observed variables X\n",
    "cdfm = norm.cdf(m)\n",
    "##Simulate images\n",
    "X = []\n",
    "floating_pt = [str(i)[2:6].zfill(4) for i in cdfm] # makes sure that there are 4 digits after decimal point\n",
    "for num in floating_pt:\n",
    "    image = extract_image(num,mnist_dataset,new_shape)\n",
    "    X.append(image)\n",
    "X = np.array(X) #multi-dimensional\n",
    "e2 = np.random.normal(0,1,N)\n",
    "Y = beta0 + gamma*T + beta*m + e2"
   ]
  },
  {
   "cell_type": "code",
   "execution_count": 5,
   "id": "87897a95-30e7-4299-86f6-3b23da24db94",
   "metadata": {},
   "outputs": [],
   "source": [
    "#reshape X,Y,T\n",
    "T = T.reshape(-1,1)\n",
    "Y = Y.reshape(-1,1)"
   ]
  },
  {
   "cell_type": "code",
   "execution_count": 6,
   "id": "3c5f7c44-7fbb-48f4-89c8-03b69aeedddd",
   "metadata": {},
   "outputs": [
    {
     "data": {
      "image/png": "[encoded data removed]",
      "text/plain": [
       "<Figure size 432x288 with 1 Axes>"
      ]
     },
     "metadata": {
      "needs_background": "light"
     },
     "output_type": "display_data"
    }
   ],
   "source": [
    "import matplotlib.pyplot as plt\n",
    "idx=0\n",
    "x,y = new_shape[0],new_shape[1]*4\n",
    "plt.imshow(X[idx].reshape(x,y))\n",
    "plt.title(\"The cdf(m) value for this image is %s\"%str(cdfm[idx])[2:6])\n",
    "plt.show()"
   ]
  },
  {
   "cell_type": "markdown",
   "id": "6912ee6d",
   "metadata": {},
   "source": [
    "The average causal mediation, direct, and total effect are defined as:\n",
    "\\begin{align}\n",
    "\\bar{\\delta}(t) &= \\mathbb{E}\\left[ Y_i(t, M_i(1)) - Y_i(t, M_i(0)) \\right] \\\\\n",
    "\\bar{\\zeta}(t) &= \\mathbb{E}\\left[ Y_i(1, M_i(t)) - Y_i(0, M_i(t)) \\right] \\\\\n",
    "\\bar{\\tau} &= \\mathbb{E}\\left[ Y_i(1, M_i(1)) - Y_i(0, M_i(0)) \\right]\n",
    "\\end{align}"
   ]
  },
  {
   "cell_type": "code",
   "execution_count": 7,
   "id": "79c2294d",
   "metadata": {},
   "outputs": [
    {
     "name": "stdout",
     "output_type": "stream",
     "text": [
      "True ACME (control) = 3.0000\n",
      "True ACME (treatment) = 3.0000\n",
      "True ADE (control) = 2.0000\n",
      "True ADE (treatment) = 2.0000\n",
      "True ATE = 5.0000\n"
     ]
    }
   ],
   "source": [
    "m_0 = alpha0 + e0\n",
    "m_1 = alpha0 + alpha*np.ones(N) + e0\n",
    "Y0_M0 = beta0 + (gamma * np.zeros(N) + m_0 * beta + e2).reshape(-1,1)\n",
    "Y0_M1 = beta0 + (gamma * np.zeros(N) + m_1 * beta + e2).reshape(-1,1)\n",
    "Y1_M0 = beta0 +(gamma * np.ones(N) + m_0 * beta + e2).reshape(-1,1)\n",
    "Y1_M1 = beta0 + (gamma * np.ones(N) + m_1 * beta + e2).reshape(-1,1)\n",
    "acme_c = (Y0_M1 - Y0_M0).mean()\n",
    "acme_t = (Y1_M1 - Y1_M0).mean()\n",
    "ade_c = (Y1_M0 - Y0_M0).mean()\n",
    "ade_t = (Y1_M1 - Y0_M1).mean()\n",
    "ate = (Y1_M1 - Y0_M0).mean()\n",
    "print(\"True ACME (control) = {:.4f}\".format(acme_c))\n",
    "print(\"True ACME (treatment) = {:.4f}\".format(acme_t))\n",
    "print(\"True ADE (control) = {:.4f}\".format(ade_c))\n",
    "print(\"True ADE (treatment) = {:.4f}\".format(ade_t))\n",
    "print(\"True ATE = {:.4f}\".format(ate))"
   ]
  },
  {
   "cell_type": "code",
   "execution_count": 8,
   "id": "fdd49e9c-cb56-4b60-99bc-191e193fe5fb",
   "metadata": {},
   "outputs": [],
   "source": [
    "# X = X.reshape(X.shape[0],X.shape[1]*X.shape[2])\n",
    "X = np.expand_dims(X, axis=1)\n",
    "X = X/np.max(X)"
   ]
  },
  {
   "cell_type": "markdown",
   "id": "4c6c8896",
   "metadata": {},
   "source": [
    "# 2. Fit IMAVAE and evaluate mediation effect"
   ]
  },
  {
   "cell_type": "code",
   "execution_count": null,
   "id": "65659330",
   "metadata": {
    "scrolled": true
   },
   "outputs": [],
   "source": [
    "imavae = IMAVAE(n_components=32, n_sup_networks=32, n_hidden_layers=2, hidden_dim=128,\n",
    "               optim_name='Adam',recon_weight=0.1, elbo_weight=0.1,sup_weight=1.)\n",
    "_ = imavae.fit(\n",
    "    X, T, Y, X_val=X, aux_val=T, y_val=Y, \n",
    "    lr=1e-5, n_epochs=150, pretrain=False, verbose=1, batch_size=64\n",
    ")\n",
    "acme_c_mean, acme_c_std = imavae.acme_score(T, treatment=False)\n",
    "acme_t_mean, acme_t_std = imavae.acme_score(T, treatment=True)\n",
    "ade_c_mean, ade_c_std = imavae.ade_score(T, treatment=False)\n",
    "ade_t_mean, ade_t_std = imavae.ade_score(T, treatment=True)\n",
    "ate_mean, ate_std = imavae.ate_score(T)\n",
    "print(\"ACME (control) = {:.4f} +/- {:.4f}\".format(acme_c_mean, acme_c_std))\n",
    "print(\"ACME (treatment) = {:.4f} +/- {:.4f}\".format(acme_t_mean, acme_t_std))\n",
    "print(\"ADE (control) = {:.4f} +/- {:.4f}\".format(ade_c_mean, ade_c_std))\n",
    "print(\"ADE (treatment) = {:.4f} +/- {:.4f}\".format(ade_t_mean, ade_t_std))\n",
    "print(\"ATE = {:.4f} +/- {:.4f}\".format(ate_mean, ate_std))\n",
    "print(\"-------------------------------------\")\n",
    "print(\"ACME err (control) = {:.4f} +/- {:.4f}\".format(abs(acme_c - acme_c_mean), acme_c_std))\n",
    "print(\"ACME err (treatment) = {:.4f} +/- {:.4f}\".format(abs(acme_t - acme_t_mean), acme_t_std))\n",
    "print(\"ADE err (control) = {:.4f} +/- {:.4f}\".format(abs(ade_c - ade_c_mean), ade_c_std))\n",
    "print(\"ADE err (treatment) = {:.4f} +/- {:.4f}\".format(abs(ade_t - ade_t_mean), ade_t_std))\n",
    "print(\"ATE err = {:.4f} +/- {:.4f}\".format(abs(ate - ate_mean), ate_std))"
   ]
  },
  {
   "cell_type": "markdown",
   "id": "a441ef68",
   "metadata": {},
   "source": [
    "### 2.1 Does the latent feature learned by IMAVAE recover the true mediator?"
   ]
  },
  {
   "cell_type": "markdown",
   "id": "fcee213e",
   "metadata": {},
   "source": [
    "with torch.no_grad():\n",
    "    t0, t1 = torch.zeros(N, 1).to(device), torch.ones(N, 1).to(device)\n",
    "    z_m0 = imavae.prior_dist.sample(*imavae.ivae.prior_params(t0))\n",
    "    z_m1 = imavae.prior_dist.sample(*imavae.ivae.prior_params(t1))\n",
    "    # Estimated z_m for factual outcomes\n",
    "    z_m = torch.stack([z_m0[i,:] if T[i,0] == 0 else z_m1[i,:] for i in range(N)]).cpu().detach().numpy()\n",
    "\n",
    "plt.figure(figsize=(5, 5))\n",
    "plt.scatter(z_m,m,s=1)\n",
    "plt.xlabel('Estimated $\\hat{p}(Z|T)$',fontsize=15)\n",
    "plt.ylabel('True $p(Z|T)$',fontsize=15)\n",
    "plt.grid(color='gray', linestyle='solid',alpha=0.2)\n",
    "\n",
    "\n",
    "#axs[1].set_title(\"Estimated $\\hat{p}(Z|T)$\", size=20)"
   ]
  },
  {
   "cell_type": "markdown",
   "id": "c109976e",
   "metadata": {},
   "source": [
    "# 3. Fit IMAVAE with MLP for $g_{\\boldsymbol{\\gamma}}$ and evaluate mediation effect"
   ]
  },
  {
   "cell_type": "code",
   "execution_count": null,
   "id": "09516aef",
   "metadata": {},
   "outputs": [],
   "source": [
    "imavae = IMAVAE(n_components=32, n_sup_networks=32, n_hidden_layers=2, hidden_dim=128, n_sup_hidden_layers=2, \n",
    "                n_sup_hidden_dim=32, optim_name='Adam',recon_weight=0.1, elbo_weight=0.1,sup_weight=1.)\n",
    "_ = imavae.fit(\n",
    "    X, T, Y, X_val=X, aux_val=T, y_val=Y, \n",
    "    lr=1e-5, n_epochs=150, pretrain=False, verbose=1, batch_size=64\n",
    ")\n",
    "acme_c_mean, acme_c_std = imavae.acme_score(T, treatment=False)\n",
    "acme_t_mean, acme_t_std = imavae.acme_score(T, treatment=True)\n",
    "ade_c_mean, ade_c_std = imavae.ade_score(T, treatment=False)\n",
    "ade_t_mean, ade_t_std = imavae.ade_score(T, treatment=True)\n",
    "ate_mean, ate_std = imavae.ate_score(T)\n",
    "print(\"ACME (control) = {:.4f} +/- {:.4f}\".format(acme_c_mean, acme_c_std))\n",
    "print(\"ACME (treatment) = {:.4f} +/- {:.4f}\".format(acme_t_mean, acme_t_std))\n",
    "print(\"ADE (control) = {:.4f} +/- {:.4f}\".format(ade_c_mean, ade_c_std))\n",
    "print(\"ADE (treatment) = {:.4f} +/- {:.4f}\".format(ade_t_mean, ade_t_std))\n",
    "print(\"ATE = {:.4f} +/- {:.4f}\".format(ate_mean, ate_std))\n",
    "print(\"-------------------------------------\")\n",
    "print(\"ACME err (control) = {:.4f} +/- {:.4f}\".format(abs(acme_c - acme_c_mean), acme_c_std))\n",
    "print(\"ACME err (treatment) = {:.4f} +/- {:.4f}\".format(abs(acme_t - acme_t_mean), acme_t_std))\n",
    "print(\"ADE err (control) = {:.4f} +/- {:.4f}\".format(abs(ade_c - ade_c_mean), ade_c_std))\n",
    "print(\"ADE err (treatment) = {:.4f} +/- {:.4f}\".format(abs(ade_t - ade_t_mean), ade_t_std))\n",
    "print(\"ATE err = {:.4f} +/- {:.4f}\".format(abs(ate - ate_mean), ate_std))"
   ]
  }
 ],
 "metadata": {
  "kernelspec": {
   "display_name": "Python 3 (ipykernel)",
   "language": "python",
   "name": "python3"
  },
  "language_info": {
   "codemirror_mode": {
    "name": "ipython",
    "version": 3
   },
   "file_extension": ".py",
   "mimetype": "text/x-python",
   "name": "python",
   "nbconvert_exporter": "python",
   "pygments_lexer": "ipython3",
   "version": "3.9.10"
  }
 },
 "nbformat": 4,
 "nbformat_minor": 5
}
